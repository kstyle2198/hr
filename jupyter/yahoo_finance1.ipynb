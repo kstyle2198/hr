{
 "cells": [
  {
   "cell_type": "code",
   "execution_count": 1,
   "id": "2a87d29c",
   "metadata": {},
   "outputs": [],
   "source": [
    "import yfinance as yf"
   ]
  },
  {
   "cell_type": "code",
   "execution_count": 2,
   "id": "fe4fb769",
   "metadata": {},
   "outputs": [],
   "source": [
    "target = \"005380.KS\""
   ]
  },
  {
   "cell_type": "code",
   "execution_count": 7,
   "id": "2505db09",
   "metadata": {},
   "outputs": [
    {
     "data": {
      "text/plain": [
       "{'address1': '12, Heolleung-ro',\n",
       " 'address2': 'Seocho-gu',\n",
       " 'city': 'Seoul',\n",
       " 'country': 'South Korea',\n",
       " 'phone': '82 2 3464 1114',\n",
       " 'fax': '82 2 3464 3477',\n",
       " 'website': 'https://www.hyundai.com/worldwide/en/',\n",
       " 'industry': 'Auto Manufacturers',\n",
       " 'industryDisp': 'Auto Manufacturers',\n",
       " 'sector': 'Consumer Cyclical',\n",
       " 'longBusinessSummary': 'Hyundai Motor Company, together with its subsidiaries, manufactures and distributes motor vehicles and parts worldwide. It operates through Vehicle, Finance, and Others segments. The company offers cars under the Azera, Sonata, Veloster, The new i30, Elantra, Accent, i20, and i10 names; and SUVs under The new Palisade, Santa Fe, Tucson, Creta, Kona, and Venue names. It also provides commercial vehicles under the STARIA, H-1, and H-100 names; and eco vehicles under the IONIQ 6, IONIQ 5, NEXO, Santa Fe Hybrid/Plug-in Hybrid, Tucson Hybrid, Tucson Plug-in Hybrid, KONA Electric, Elantra Hybrid, IONIQ Plug-in Hybrid, IONIQ Electric, IONIQ Hybrid, and The new i30 Hybrid names. In addition, the company offers trucks, buses, vans, engines; vehicle financing, credit card processing, and other financing activities; train manufacturing services and other activities; and marketing, engineering, mobility, and insurance services, as well as operates a football club. Further, it is involved in real estate development; research and development; and investment activities. Hyundai Motor Company was incorporated in 1967 and is headquartered in Seoul, South Korea.',\n",
       " 'companyOfficers': [{'maxAge': 1,\n",
       "   'name': 'Mr. Eui-Sun  Chung',\n",
       "   'age': 52,\n",
       "   'title': 'Exec. Chairman',\n",
       "   'yearBorn': 1970,\n",
       "   'exercisedValue': 0,\n",
       "   'unexercisedValue': 0},\n",
       "  {'maxAge': 1,\n",
       "   'name': 'Mr. Jae Hoon  Chang',\n",
       "   'age': 58,\n",
       "   'title': 'CEO, Global Head of Genesis Brand & Director',\n",
       "   'yearBorn': 1964,\n",
       "   'exercisedValue': 0,\n",
       "   'unexercisedValue': 0},\n",
       "  {'maxAge': 1,\n",
       "   'name': 'Mr. Jose Antonio  Munoz Barcelo',\n",
       "   'age': 57,\n",
       "   'title': 'Pres, COO & Internal Director',\n",
       "   'yearBorn': 1965,\n",
       "   'exercisedValue': 0,\n",
       "   'unexercisedValue': 0},\n",
       "  {'maxAge': 1,\n",
       "   'name': 'Mr. Sang Hyun  Kim',\n",
       "   'age': 54,\n",
       "   'title': 'CFO, Head of Fin. & Accounting Division & Director',\n",
       "   'yearBorn': 1968,\n",
       "   'exercisedValue': 0,\n",
       "   'unexercisedValue': 0},\n",
       "  {'maxAge': 1,\n",
       "   'name': 'Mr. Thomas  Schemera',\n",
       "   'age': 58,\n",
       "   'title': 'Chief Marketing Officer & Head of the Customer Experience Division',\n",
       "   'yearBorn': 1964,\n",
       "   'exercisedValue': 0,\n",
       "   'unexercisedValue': 0},\n",
       "  {'maxAge': 1,\n",
       "   'name': 'Mr. Dong-Seok  Lee',\n",
       "   'title': 'Exec. VP & Chief Safety Officer',\n",
       "   'exercisedValue': 0,\n",
       "   'unexercisedValue': 0},\n",
       "  {'maxAge': 1,\n",
       "   'name': 'Mr. Luc  Donckerwolke',\n",
       "   'age': 56,\n",
       "   'title': 'Exec. VP & Chief Creative Officer',\n",
       "   'yearBorn': 1966,\n",
       "   'exercisedValue': 0,\n",
       "   'unexercisedValue': 0},\n",
       "  {'maxAge': 1,\n",
       "   'name': 'Mr. Eon Tae  Ha',\n",
       "   'age': 60,\n",
       "   'title': 'VP & Exec. Director',\n",
       "   'yearBorn': 1962,\n",
       "   'exercisedValue': 0,\n",
       "   'unexercisedValue': 0},\n",
       "  {'maxAge': 1,\n",
       "   'name': 'Dong-Woo  Choi',\n",
       "   'title': 'Exec. VP & Head of the European Headquarters',\n",
       "   'exercisedValue': 0,\n",
       "   'unexercisedValue': 0},\n",
       "  {'maxAge': 1,\n",
       "   'name': 'Youngcho  Chi',\n",
       "   'title': 'Pres of Strategy and Technology Division',\n",
       "   'exercisedValue': 0,\n",
       "   'unexercisedValue': 0}],\n",
       " 'auditRisk': 2,\n",
       " 'boardRisk': 4,\n",
       " 'compensationRisk': 1,\n",
       " 'shareHolderRightsRisk': 1,\n",
       " 'overallRisk': 3,\n",
       " 'governanceEpochDate': 1682899200,\n",
       " 'maxAge': 86400,\n",
       " 'priceHint': 2,\n",
       " 'previousClose': 199200.0,\n",
       " 'open': 201000.0,\n",
       " 'dayLow': 200000.0,\n",
       " 'dayHigh': 203000.0,\n",
       " 'regularMarketPreviousClose': 199200.0,\n",
       " 'regularMarketOpen': 201000.0,\n",
       " 'regularMarketDayLow': 200000.0,\n",
       " 'regularMarketDayHigh': 203000.0,\n",
       " 'dividendRate': 6000.0,\n",
       " 'dividendYield': 0.0299,\n",
       " 'exDividendDate': 1672185600,\n",
       " 'payoutRatio': 0.24540001,\n",
       " 'fiveYearAvgDividendYield': 2.83,\n",
       " 'beta': 1.001676,\n",
       " 'volume': 589067,\n",
       " 'regularMarketVolume': 589067,\n",
       " 'averageVolume': 531708,\n",
       " 'averageVolume10days': 915205,\n",
       " 'averageDailyVolume10Day': 915205,\n",
       " 'bid': 202000.0,\n",
       " 'ask': 202500.0,\n",
       " 'bidSize': 0,\n",
       " 'askSize': 0,\n",
       " 'marketCap': 47686120112128,\n",
       " 'fiftyTwoWeekLow': 150500.0,\n",
       " 'fiftyTwoWeekHigh': 207500.0,\n",
       " 'priceToSalesTrailing12Months': 0.31789148,\n",
       " 'fiftyDayAverage': 184438.0,\n",
       " 'twoHundredDayAverage': 178025.5,\n",
       " 'currency': 'KRW',\n",
       " 'enterpriseValue': 137588774010880,\n",
       " 'forwardPE': 5.182262,\n",
       " 'profitMargins': 0.06061,\n",
       " 'floatShares': 168538252,\n",
       " 'sharesOutstanding': 202871008,\n",
       " 'heldPercentInsiders': 0.30552,\n",
       " 'heldPercentInstitutions': 0.23166001,\n",
       " 'impliedSharesOutstanding': 0,\n",
       " 'lastFiscalYearEnd': 1672444800,\n",
       " 'nextFiscalYearEnd': 1703980800,\n",
       " 'mostRecentQuarter': 1680220800,\n",
       " 'earningsQuarterlyGrowth': 1.09,\n",
       " 'netIncomeToCommon': 8042215112704,\n",
       " 'pegRatio': 7.89,\n",
       " 'enterpriseToRevenue': 0.917,\n",
       " 'enterpriseToEbitda': 9.288,\n",
       " '52WeekChange': 0.09752071,\n",
       " 'SandP52WeekChange': 0.03633201,\n",
       " 'lastDividendValue': 6000.0,\n",
       " 'lastDividendDate': 1672185600,\n",
       " 'exchange': 'KSC',\n",
       " 'quoteType': 'EQUITY',\n",
       " 'symbol': '005380.KS',\n",
       " 'underlyingSymbol': '005380.KS',\n",
       " 'shortName': 'HyundaiMtr',\n",
       " 'longName': 'Hyundai Motor Company',\n",
       " 'firstTradeDateEpochUtc': 946944000,\n",
       " 'timeZoneFullName': 'Asia/Seoul',\n",
       " 'timeZoneShortName': 'KST',\n",
       " 'uuid': '2bb04ccb-46ce-3823-b862-6baaf0572d5c',\n",
       " 'messageBoardId': 'finmb_874828',\n",
       " 'gmtOffSetMilliseconds': 32400000,\n",
       " 'currentPrice': 202500.0,\n",
       " 'targetHighPrice': 330000.0,\n",
       " 'targetLowPrice': 200000.0,\n",
       " 'targetMeanPrice': 259976.0,\n",
       " 'targetMedianPrice': 255000.0,\n",
       " 'recommendationMean': 1.7,\n",
       " 'recommendationKey': 'buy',\n",
       " 'numberOfAnalystOpinions': 24,\n",
       " 'totalCash': 22368999178240,\n",
       " 'totalCashPerShare': 99778.93,\n",
       " 'ebitda': 14813397778432,\n",
       " 'totalDebt': 115299999285248,\n",
       " 'totalRevenue': 150007537729536,\n",
       " 'debtToEquity': 122.764,\n",
       " 'revenuePerShare': 669122.06,\n",
       " 'returnOnEquity': 0.10905,\n",
       " 'grossProfits': 28318052000000,\n",
       " 'revenueGrowth': 0.247,\n",
       " 'grossMargins': 0.20177001,\n",
       " 'ebitdaMargins': 0.09875,\n",
       " 'operatingMargins': 0.07655,\n",
       " 'financialCurrency': 'KRW',\n",
       " 'trailingPegRatio': None}"
      ]
     },
     "execution_count": 7,
     "metadata": {},
     "output_type": "execute_result"
    }
   ],
   "source": [
    "hmotor = yf.Ticker(target)\n",
    "hmotor.info"
   ]
  },
  {
   "cell_type": "code",
   "execution_count": 9,
   "id": "c8fbb1b9",
   "metadata": {},
   "outputs": [
    {
     "data": {
      "text/plain": [
       "('KRW', 137588774010880)"
      ]
     },
     "execution_count": 9,
     "metadata": {},
     "output_type": "execute_result"
    }
   ],
   "source": [
    "hmotor.info['currency'], hmotor.info['enterpriseValue']"
   ]
  },
  {
   "cell_type": "code",
   "execution_count": 10,
   "id": "520712b6",
   "metadata": {},
   "outputs": [],
   "source": [
    "def get_all_symbols():\n",
    "    # Fetch data for all symbols in Yahoo Finance\n",
    "    all_tickers = yf.Tickers('')\n",
    "\n",
    "    symbols = []\n",
    "    for ticker in all_tickers.tickers:\n",
    "        symbols.append(ticker.ticker)\n",
    "\n",
    "    return symbols"
   ]
  },
  {
   "cell_type": "code",
   "execution_count": 11,
   "id": "d58c0c2b",
   "metadata": {},
   "outputs": [
    {
     "data": {
      "text/plain": [
       "[]"
      ]
     },
     "execution_count": 11,
     "metadata": {},
     "output_type": "execute_result"
    }
   ],
   "source": [
    "all_symbols = get_all_symbols()\n",
    "all_symbols"
   ]
  },
  {
   "cell_type": "code",
   "execution_count": 16,
   "id": "0d8eb5bc",
   "metadata": {},
   "outputs": [],
   "source": [
    "import requests\n",
    "from bs4 import BeautifulSoup\n",
    "\n",
    "def get_all_symbols():\n",
    "    symbols = []\n",
    "    \n",
    "    url = 'https://finance.yahoo.com/screener/unsaved/696a419b-45ef-4773-8879-04fd7d346afb'\n",
    "    response = requests.get(url)\n",
    "    soup = BeautifulSoup(response.text, 'html.parser')\n",
    "    \n",
    "    table = soup.find('table')\n",
    "    rows = table.find_all('tr')\n",
    "    \n",
    "    for row in rows[1:]:\n",
    "        symbol = row.find('td', class_='data-col0').text.strip()\n",
    "        symbols.append(symbol)\n",
    "    \n",
    "    return symbols\n",
    "\n"
   ]
  },
  {
   "cell_type": "code",
   "execution_count": 17,
   "id": "ef2f5083",
   "metadata": {},
   "outputs": [
    {
     "data": {
      "text/plain": [
       "[]"
      ]
     },
     "execution_count": 17,
     "metadata": {},
     "output_type": "execute_result"
    }
   ],
   "source": [
    "# Get all symbols\n",
    "all_symbols = get_all_symbols()\n",
    "all_symbols\n"
   ]
  },
  {
   "cell_type": "code",
   "execution_count": 20,
   "id": "aaed8827",
   "metadata": {},
   "outputs": [
    {
     "data": {
      "text/plain": [
       "{'NASDAQ': yfinance.Ticker object <NASDAQ>}"
      ]
     },
     "execution_count": 20,
     "metadata": {},
     "output_type": "execute_result"
    }
   ],
   "source": [
    "exchange = \"NASDAQ\"\n",
    "\n",
    "# Fetch the list of symbols for the specified exchange\n",
    "symbols = yf.Tickers(exchange).tickers\n",
    "symbols"
   ]
  },
  {
   "cell_type": "code",
   "execution_count": 23,
   "id": "a57f7ee2",
   "metadata": {},
   "outputs": [
    {
     "data": {
      "text/plain": [
       "[yfinance.Ticker object <NASDAQ>]"
      ]
     },
     "execution_count": 23,
     "metadata": {},
     "output_type": "execute_result"
    }
   ],
   "source": [
    "list(symbols.values())"
   ]
  },
  {
   "cell_type": "code",
   "execution_count": null,
   "id": "12a4df07",
   "metadata": {},
   "outputs": [],
   "source": []
  }
 ],
 "metadata": {
  "kernelspec": {
   "display_name": "Python 3 (ipykernel)",
   "language": "python",
   "name": "python3"
  },
  "language_info": {
   "codemirror_mode": {
    "name": "ipython",
    "version": 3
   },
   "file_extension": ".py",
   "mimetype": "text/x-python",
   "name": "python",
   "nbconvert_exporter": "python",
   "pygments_lexer": "ipython3",
   "version": "3.8.10"
  }
 },
 "nbformat": 4,
 "nbformat_minor": 5
}
