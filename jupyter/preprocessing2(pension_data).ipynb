{
 "cells": [
  {
   "cell_type": "code",
   "execution_count": null,
   "id": "92d491c9",
   "metadata": {},
   "outputs": [],
   "source": [
    "import pandas as pd\n",
    "import sqlite3\n",
    "import warnings\n",
    "import re\n",
    "from datetime import datetime\n",
    "warnings.filterwarnings(action='ignore')"
   ]
  },
  {
   "cell_type": "code",
   "execution_count": null,
   "id": "dbcb5392",
   "metadata": {},
   "outputs": [],
   "source": [
    "import os\n",
    "os.environ[\"RUST_LOG\"]=\"connectorx=debug,connectorx_python=debug\""
   ]
  },
  {
   "cell_type": "code",
   "execution_count": null,
   "id": "2e64a2f8",
   "metadata": {},
   "outputs": [],
   "source": [
    "import connectorx as cx\n",
    "import urllib"
   ]
  },
  {
   "cell_type": "code",
   "execution_count": null,
   "id": "3b304d4f",
   "metadata": {},
   "outputs": [],
   "source": [
    "conn = cx.connect(\"../db/hr.db\")"
   ]
  },
  {
   "cell_type": "code",
   "execution_count": null,
   "id": "370a691a",
   "metadata": {},
   "outputs": [],
   "source": [
    "conn"
   ]
  },
  {
   "cell_type": "code",
   "execution_count": null,
   "id": "fef95c04",
   "metadata": {},
   "outputs": [],
   "source": [
    "query = \"SELECT 자료생성년월, 사업장명, 사업자등록번호, 사업장업종코드명, 가입자수, 신규취득자수, 상실가입자수, 당월고지금액 FROM pension\""
   ]
  },
  {
   "cell_type": "code",
   "execution_count": null,
   "id": "7a1cf376",
   "metadata": {},
   "outputs": [],
   "source": [
    "# %%timeit\n",
    "# res = cx.read_sql(conn, query, return_type=\"arrow\")\n",
    "# df = res.to_pandas(split_blocks=False, date_as_object=False)\n",
    "# df.head()"
   ]
  },
  {
   "cell_type": "code",
   "execution_count": null,
   "id": "e105a3a1",
   "metadata": {},
   "outputs": [],
   "source": [
    "%%timeit\n",
    "df = cx.read_sql(conn, query, partition_on=\"자료생성년월\", partition_num=4)\n",
    "# df.head()"
   ]
  },
  {
   "cell_type": "code",
   "execution_count": null,
   "id": "c3ddb7d2",
   "metadata": {},
   "outputs": [],
   "source": [
    "pd.set_option('display.max_rows', 1000)\n",
    "pd.set_option('display.max_columns', 1000)"
   ]
  },
  {
   "cell_type": "code",
   "execution_count": null,
   "id": "f2faae2d",
   "metadata": {},
   "outputs": [],
   "source": [
    "# con = sqlite3.connect(\"../db/hr.db\")\n",
    "# df = pd.read_sql_query(\"SELECT 자료생성년월, 사업장명, 사업자등록번호, 사업장업종코드명, 가입자수, 신규취득자수, 상실가입자수, 당월고지금액  from pension\", con)"
   ]
  },
  {
   "cell_type": "code",
   "execution_count": null,
   "id": "634e1921",
   "metadata": {},
   "outputs": [],
   "source": [
    "df['자료생성년월'].unique()"
   ]
  },
  {
   "cell_type": "code",
   "execution_count": null,
   "id": "2bb334cc",
   "metadata": {},
   "outputs": [],
   "source": [
    "import functools # not required, but helps in production\n",
    "def unpack_df_columns(func):\n",
    "    \"\"\"\n",
    "    A general use decorator to unpack a df[subset] of columns\n",
    "    into a function which expects the values at those columns\n",
    "    as arguments\n",
    "    \"\"\"\n",
    "    \n",
    "    @functools.wraps(func)\n",
    "    def _unpack_df_columns(*args, **kwargs):\n",
    "        \n",
    "        # args[0] is a pandas series equal in length as the \n",
    "        # df[subset] to which the apply function is applied \n",
    "        series = args[0]\n",
    "\n",
    "        # series.values holds the number of arguments expected\n",
    "        # by func and is os length len(df[subset].columns)\n",
    "        return func(*series.values)\n",
    "\n",
    "    return _unpack_df_columns"
   ]
  },
  {
   "cell_type": "code",
   "execution_count": null,
   "id": "d36d1f5a",
   "metadata": {},
   "outputs": [],
   "source": [
    "def date_change(val):\n",
    "    if val == 'Jul-22':\n",
    "        return '2022-07'\n",
    "    elif val == 'Jun-22':\n",
    "        return '2022-06'\n",
    "    elif val == 'May-22':\n",
    "        return '2022-05'\n",
    "    elif val == 'Apr-22':\n",
    "        return '2022-04'\n",
    "    elif val == 'Mar-22':\n",
    "        return '2022-03'\n",
    "    elif val == 'Feb-22':\n",
    "        return '2022-02'\n",
    "    elif val == 'Jan-22':\n",
    "        return '2022-01'\n",
    "    \n",
    "    elif val == 'Jan-21':\n",
    "        return '2021-01'\n",
    "    elif val == 'Feb-21':\n",
    "        return '2021-02'\n",
    "    elif val == 'Mar-21':\n",
    "        return '2021-03'\n",
    "    elif val == 'Apr-21':\n",
    "        return '2021-04'\n",
    "    elif val == 'May-21':\n",
    "        return '2021-05'\n",
    "    elif val == 'Jun-21':\n",
    "        return '2021-06'\n",
    "    elif val == 'Jul-21':\n",
    "        return '2021-07'\n",
    "    elif val == 'Aug-21':\n",
    "        return '2021-08'\n",
    "    elif val == 'Sep-21':\n",
    "        return '2021-09'\n",
    "    elif val == 'Oct-21':\n",
    "        return '2021-10'\n",
    "    elif val == 'Nov-21':\n",
    "        return '2021-11'\n",
    "    elif val == 'Dec-21':\n",
    "        return '2021-12'\n",
    "    \n",
    "    else:\n",
    "        return val"
   ]
  },
  {
   "cell_type": "code",
   "execution_count": null,
   "id": "aace7131",
   "metadata": {},
   "outputs": [],
   "source": [
    "def 월평균가입자수(가입자수):\n",
    "    return int(가입자수/12)"
   ]
  },
  {
   "cell_type": "code",
   "execution_count": null,
   "id": "c819a44e",
   "metadata": {},
   "outputs": [],
   "source": [
    "@unpack_df_columns\n",
    "def get_평균소득월액(고지액, 인원):\n",
    "    평균소득월액 = (int(고지액) / int(인원)) / 0.09\n",
    "    return int(평균소득월액)"
   ]
  },
  {
   "cell_type": "code",
   "execution_count": null,
   "id": "961db1c2",
   "metadata": {},
   "outputs": [],
   "source": [
    "# df1 = df.copy()\n",
    "# df1.info()"
   ]
  },
  {
   "cell_type": "markdown",
   "id": "5df4b772",
   "metadata": {},
   "source": [
    "## 경쟁사 Data Load"
   ]
  },
  {
   "cell_type": "code",
   "execution_count": null,
   "id": "fc0fb796",
   "metadata": {},
   "outputs": [],
   "source": [
    "comp_df = pd.read_excel(\"./company.xlsx\")\n",
    "comp_df"
   ]
  },
  {
   "cell_type": "code",
   "execution_count": null,
   "id": "84bf5ed9",
   "metadata": {},
   "outputs": [],
   "source": [
    "# comp_df[\"사업장명\"].tolist()"
   ]
  },
  {
   "cell_type": "code",
   "execution_count": null,
   "id": "ea8d52b8",
   "metadata": {},
   "outputs": [],
   "source": [
    "df = df.loc[(df1[\"사업장명\"].isin(comp_df[\"사업장명\"].tolist())) & (df[\"사업자등록번호\"].isin(comp_df[\"사업자등록번호\"].tolist()))]"
   ]
  },
  {
   "cell_type": "code",
   "execution_count": null,
   "id": "95e7f896",
   "metadata": {},
   "outputs": [],
   "source": [
    "df = pd.merge(df,comp_df, on=['사업장명','사업자등록번호'], how='left')"
   ]
  },
  {
   "cell_type": "markdown",
   "id": "4aa6da89",
   "metadata": {},
   "source": [
    "## 날짜 변환"
   ]
  },
  {
   "cell_type": "code",
   "execution_count": null,
   "id": "f097bde1",
   "metadata": {},
   "outputs": [],
   "source": [
    "df['자료생성년월'] = df['자료생성년월'].apply(date_change)"
   ]
  },
  {
   "cell_type": "code",
   "execution_count": null,
   "id": "b5a581c4",
   "metadata": {
    "scrolled": true
   },
   "outputs": [],
   "source": [
    "df['자료생성년월'].unique()"
   ]
  },
  {
   "cell_type": "markdown",
   "id": "913a635b",
   "metadata": {},
   "source": [
    "## 그룹핑"
   ]
  },
  {
   "cell_type": "code",
   "execution_count": null,
   "id": "5f059bb0",
   "metadata": {},
   "outputs": [],
   "source": [
    "gdf = df.groupby(['약식명', '자료생성년월'])[['가입자수', '신규취득자수', '상실가입자수', '당월고지금액']].sum().reset_index()"
   ]
  },
  {
   "cell_type": "code",
   "execution_count": null,
   "id": "d2e25f87",
   "metadata": {},
   "outputs": [],
   "source": [
    "gdf"
   ]
  },
  {
   "cell_type": "code",
   "execution_count": null,
   "id": "48f37d12",
   "metadata": {},
   "outputs": [],
   "source": [
    "gdf.columns = [\"약식명\", \"기준일자\", \"직원수\", \"신규취득\", \"자격상실\", \"당월고지금액\"]"
   ]
  },
  {
   "cell_type": "code",
   "execution_count": null,
   "id": "123a1430",
   "metadata": {},
   "outputs": [],
   "source": [
    "gdf[\"평균소득월액\"] = gdf[[\"당월고지금액\",\"직원수\"]].astype('str').apply(get_평균소득월액, axis=1)"
   ]
  },
  {
   "cell_type": "code",
   "execution_count": null,
   "id": "d4717685",
   "metadata": {},
   "outputs": [],
   "source": [
    "gdf.info()"
   ]
  },
  {
   "cell_type": "code",
   "execution_count": null,
   "id": "13dd6c68",
   "metadata": {},
   "outputs": [],
   "source": [
    "gdf.head()"
   ]
  },
  {
   "cell_type": "code",
   "execution_count": null,
   "id": "5c47bad4",
   "metadata": {},
   "outputs": [],
   "source": [
    "요약통계 = gdf.groupby(['약식명'])[['직원수', '신규취득', '자격상실', '평균소득월액']].mean().round().reset_index()\n",
    "요약통계"
   ]
  },
  {
   "cell_type": "code",
   "execution_count": null,
   "id": "4b7a4f00",
   "metadata": {},
   "outputs": [],
   "source": [
    "gdf['기준일자'].unique()"
   ]
  },
  {
   "cell_type": "code",
   "execution_count": null,
   "id": "0d9ecb7f",
   "metadata": {},
   "outputs": [],
   "source": [
    "import pickle\n",
    "with open (\"pickle_df2.pickle\", 'wb') as pickle_filename:\n",
    "    pickle.dump(gdf, pickle_filename)"
   ]
  },
  {
   "cell_type": "code",
   "execution_count": null,
   "id": "7c04b8b1",
   "metadata": {},
   "outputs": [],
   "source": []
  },
  {
   "cell_type": "code",
   "execution_count": null,
   "id": "cfbf1834",
   "metadata": {},
   "outputs": [],
   "source": [
    "import plotly.express as px\n",
    "df = px.data.gapminder().query(\"continent == 'Oceania'\")\n",
    "df"
   ]
  },
  {
   "cell_type": "code",
   "execution_count": null,
   "id": "095e6f10",
   "metadata": {},
   "outputs": [],
   "source": []
  }
 ],
 "metadata": {
  "kernelspec": {
   "display_name": "Python 3 (ipykernel)",
   "language": "python",
   "name": "python3"
  },
  "language_info": {
   "codemirror_mode": {
    "name": "ipython",
    "version": 3
   },
   "file_extension": ".py",
   "mimetype": "text/x-python",
   "name": "python",
   "nbconvert_exporter": "python",
   "pygments_lexer": "ipython3",
   "version": "3.8.10"
  }
 },
 "nbformat": 4,
 "nbformat_minor": 5
}
