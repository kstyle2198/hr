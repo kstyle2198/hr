{
 "cells": [
  {
   "cell_type": "code",
   "execution_count": 2,
   "id": "c496b7f8",
   "metadata": {},
   "outputs": [],
   "source": [
    "import sqlite3\n",
    "import pandas as pd\n",
    "import numpy as np\n",
    "import plotly.express as px"
   ]
  },
  {
   "cell_type": "code",
   "execution_count": 98,
   "id": "4e4b34a6",
   "metadata": {},
   "outputs": [],
   "source": [
    "# Read sqlite query results into a pandas DataFrame\n",
    "con = sqlite3.connect(\"../db/hr.db\")\n",
    "df = pd.read_sql_query(\"SELECT * from base_info\", con)"
   ]
  },
  {
   "cell_type": "code",
   "execution_count": 99,
   "id": "67f51455",
   "metadata": {},
   "outputs": [],
   "source": [
    "columns = ['기준일자','회사','사번','근무지']"
   ]
  },
  {
   "cell_type": "code",
   "execution_count": 100,
   "id": "bf1bc13b",
   "metadata": {},
   "outputs": [
    {
     "data": {
      "text/html": [
       "<div>\n",
       "<style scoped>\n",
       "    .dataframe tbody tr th:only-of-type {\n",
       "        vertical-align: middle;\n",
       "    }\n",
       "\n",
       "    .dataframe tbody tr th {\n",
       "        vertical-align: top;\n",
       "    }\n",
       "\n",
       "    .dataframe thead th {\n",
       "        text-align: right;\n",
       "    }\n",
       "</style>\n",
       "<table border=\"1\" class=\"dataframe\">\n",
       "  <thead>\n",
       "    <tr style=\"text-align: right;\">\n",
       "      <th></th>\n",
       "      <th>기준일자</th>\n",
       "      <th>회사</th>\n",
       "      <th>사번</th>\n",
       "      <th>근무지</th>\n",
       "    </tr>\n",
       "  </thead>\n",
       "  <tbody>\n",
       "    <tr>\n",
       "      <th>0</th>\n",
       "      <td>t20210801</td>\n",
       "      <td>HCE</td>\n",
       "      <td>A421197</td>\n",
       "      <td>분당사무소</td>\n",
       "    </tr>\n",
       "    <tr>\n",
       "      <th>1</th>\n",
       "      <td>t20210801</td>\n",
       "      <td>HCE</td>\n",
       "      <td>A510951</td>\n",
       "      <td>분당사무소</td>\n",
       "    </tr>\n",
       "  </tbody>\n",
       "</table>\n",
       "</div>"
      ],
      "text/plain": [
       "        기준일자   회사       사번    근무지\n",
       "0  t20210801  HCE  A421197  분당사무소\n",
       "1  t20210801  HCE  A510951  분당사무소"
      ]
     },
     "execution_count": 100,
     "metadata": {},
     "output_type": "execute_result"
    }
   ],
   "source": [
    "df1 = df[columns]\n",
    "df1.head(2)"
   ]
  },
  {
   "cell_type": "code",
   "execution_count": 101,
   "id": "c3508f25",
   "metadata": {},
   "outputs": [
    {
     "data": {
      "text/html": [
       "<div>\n",
       "<style scoped>\n",
       "    .dataframe tbody tr th:only-of-type {\n",
       "        vertical-align: middle;\n",
       "    }\n",
       "\n",
       "    .dataframe tbody tr th {\n",
       "        vertical-align: top;\n",
       "    }\n",
       "\n",
       "    .dataframe thead th {\n",
       "        text-align: right;\n",
       "    }\n",
       "</style>\n",
       "<table border=\"1\" class=\"dataframe\">\n",
       "  <thead>\n",
       "    <tr style=\"text-align: right;\">\n",
       "      <th></th>\n",
       "      <th>근무지</th>\n",
       "      <th>위도</th>\n",
       "      <th>경도</th>\n",
       "    </tr>\n",
       "  </thead>\n",
       "  <tbody>\n",
       "    <tr>\n",
       "      <th>0</th>\n",
       "      <td>GRC</td>\n",
       "      <td>37.376923</td>\n",
       "      <td>127.106108</td>\n",
       "    </tr>\n",
       "    <tr>\n",
       "      <th>1</th>\n",
       "      <td>경주</td>\n",
       "      <td>35.946756</td>\n",
       "      <td>129.267161</td>\n",
       "    </tr>\n",
       "    <tr>\n",
       "      <th>2</th>\n",
       "      <td>군산</td>\n",
       "      <td>35.969777</td>\n",
       "      <td>126.596542</td>\n",
       "    </tr>\n",
       "    <tr>\n",
       "      <th>3</th>\n",
       "      <td>군산공장</td>\n",
       "      <td>35.967714</td>\n",
       "      <td>126.250069</td>\n",
       "    </tr>\n",
       "    <tr>\n",
       "      <th>4</th>\n",
       "      <td>보령Proving Ground</td>\n",
       "      <td>36.285188</td>\n",
       "      <td>126.637155</td>\n",
       "    </tr>\n",
       "    <tr>\n",
       "      <th>5</th>\n",
       "      <td>분당두산타워</td>\n",
       "      <td>37.364096</td>\n",
       "      <td>127.000353</td>\n",
       "    </tr>\n",
       "    <tr>\n",
       "      <th>6</th>\n",
       "      <td>분당사무소</td>\n",
       "      <td>37.378442</td>\n",
       "      <td>127.214230</td>\n",
       "    </tr>\n",
       "    <tr>\n",
       "      <th>7</th>\n",
       "      <td>안산부품센터</td>\n",
       "      <td>37.285315</td>\n",
       "      <td>126.888282</td>\n",
       "    </tr>\n",
       "    <tr>\n",
       "      <th>8</th>\n",
       "      <td>용인연구소</td>\n",
       "      <td>37.306574</td>\n",
       "      <td>127.137412</td>\n",
       "    </tr>\n",
       "    <tr>\n",
       "      <th>9</th>\n",
       "      <td>울산본사</td>\n",
       "      <td>35.505778</td>\n",
       "      <td>129.441743</td>\n",
       "    </tr>\n",
       "    <tr>\n",
       "      <th>10</th>\n",
       "      <td>음성</td>\n",
       "      <td>36.931210</td>\n",
       "      <td>127.752218</td>\n",
       "    </tr>\n",
       "    <tr>\n",
       "      <th>11</th>\n",
       "      <td>인천</td>\n",
       "      <td>37.486461</td>\n",
       "      <td>126.329820</td>\n",
       "    </tr>\n",
       "    <tr>\n",
       "      <th>12</th>\n",
       "      <td>인천공장</td>\n",
       "      <td>37.486461</td>\n",
       "      <td>126.629820</td>\n",
       "    </tr>\n",
       "  </tbody>\n",
       "</table>\n",
       "</div>"
      ],
      "text/plain": [
       "                 근무지         위도          경도\n",
       "0                GRC  37.376923  127.106108\n",
       "1                 경주  35.946756  129.267161\n",
       "2                 군산  35.969777  126.596542\n",
       "3               군산공장  35.967714  126.250069\n",
       "4   보령Proving Ground  36.285188  126.637155\n",
       "5             분당두산타워  37.364096  127.000353\n",
       "6              분당사무소  37.378442  127.214230\n",
       "7             안산부품센터  37.285315  126.888282\n",
       "8              용인연구소  37.306574  127.137412\n",
       "9               울산본사  35.505778  129.441743\n",
       "10                음성  36.931210  127.752218\n",
       "11                인천  37.486461  126.329820\n",
       "12              인천공장  37.486461  126.629820"
      ]
     },
     "execution_count": 101,
     "metadata": {},
     "output_type": "execute_result"
    }
   ],
   "source": [
    "loca = pd.read_excel(\"location.xlsx\")\n",
    "loca"
   ]
  },
  {
   "cell_type": "code",
   "execution_count": 102,
   "id": "e3d64eda",
   "metadata": {},
   "outputs": [
    {
     "data": {
      "text/html": [
       "<div>\n",
       "<style scoped>\n",
       "    .dataframe tbody tr th:only-of-type {\n",
       "        vertical-align: middle;\n",
       "    }\n",
       "\n",
       "    .dataframe tbody tr th {\n",
       "        vertical-align: top;\n",
       "    }\n",
       "\n",
       "    .dataframe thead th {\n",
       "        text-align: right;\n",
       "    }\n",
       "</style>\n",
       "<table border=\"1\" class=\"dataframe\">\n",
       "  <thead>\n",
       "    <tr style=\"text-align: right;\">\n",
       "      <th></th>\n",
       "      <th>기준일자</th>\n",
       "      <th>회사</th>\n",
       "      <th>사번</th>\n",
       "      <th>근무지</th>\n",
       "    </tr>\n",
       "  </thead>\n",
       "  <tbody>\n",
       "    <tr>\n",
       "      <th>0</th>\n",
       "      <td>t20210801</td>\n",
       "      <td>HCE</td>\n",
       "      <td>A421197</td>\n",
       "      <td>분당사무소</td>\n",
       "    </tr>\n",
       "    <tr>\n",
       "      <th>1</th>\n",
       "      <td>t20210801</td>\n",
       "      <td>HCE</td>\n",
       "      <td>A510951</td>\n",
       "      <td>분당사무소</td>\n",
       "    </tr>\n",
       "    <tr>\n",
       "      <th>2</th>\n",
       "      <td>t20210801</td>\n",
       "      <td>HCE</td>\n",
       "      <td>A510197</td>\n",
       "      <td>분당사무소</td>\n",
       "    </tr>\n",
       "    <tr>\n",
       "      <th>3</th>\n",
       "      <td>t20210801</td>\n",
       "      <td>HCE</td>\n",
       "      <td>A460222</td>\n",
       "      <td>분당사무소</td>\n",
       "    </tr>\n",
       "    <tr>\n",
       "      <th>4</th>\n",
       "      <td>t20210801</td>\n",
       "      <td>HCE</td>\n",
       "      <td>A321109</td>\n",
       "      <td>분당사무소</td>\n",
       "    </tr>\n",
       "    <tr>\n",
       "      <th>...</th>\n",
       "      <td>...</td>\n",
       "      <td>...</td>\n",
       "      <td>...</td>\n",
       "      <td>...</td>\n",
       "    </tr>\n",
       "    <tr>\n",
       "      <th>38518</th>\n",
       "      <td>t20230401</td>\n",
       "      <td>HDI</td>\n",
       "      <td>1926449</td>\n",
       "      <td>인천공장</td>\n",
       "    </tr>\n",
       "    <tr>\n",
       "      <th>38519</th>\n",
       "      <td>t20230401</td>\n",
       "      <td>HDI</td>\n",
       "      <td>1925478</td>\n",
       "      <td>인천공장</td>\n",
       "    </tr>\n",
       "    <tr>\n",
       "      <th>38520</th>\n",
       "      <td>t20230401</td>\n",
       "      <td>HDI</td>\n",
       "      <td>1925657</td>\n",
       "      <td>인천공장</td>\n",
       "    </tr>\n",
       "    <tr>\n",
       "      <th>38521</th>\n",
       "      <td>t20230401</td>\n",
       "      <td>HDI</td>\n",
       "      <td>1925909</td>\n",
       "      <td>인천공장</td>\n",
       "    </tr>\n",
       "    <tr>\n",
       "      <th>38522</th>\n",
       "      <td>t20230401</td>\n",
       "      <td>HDI</td>\n",
       "      <td>2663291</td>\n",
       "      <td>GRC</td>\n",
       "    </tr>\n",
       "  </tbody>\n",
       "</table>\n",
       "<p>38462 rows × 4 columns</p>\n",
       "</div>"
      ],
      "text/plain": [
       "            기준일자   회사       사번    근무지\n",
       "0      t20210801  HCE  A421197  분당사무소\n",
       "1      t20210801  HCE  A510951  분당사무소\n",
       "2      t20210801  HCE  A510197  분당사무소\n",
       "3      t20210801  HCE  A460222  분당사무소\n",
       "4      t20210801  HCE  A321109  분당사무소\n",
       "...          ...  ...      ...    ...\n",
       "38518  t20230401  HDI  1926449   인천공장\n",
       "38519  t20230401  HDI  1925478   인천공장\n",
       "38520  t20230401  HDI  1925657   인천공장\n",
       "38521  t20230401  HDI  1925909   인천공장\n",
       "38522  t20230401  HDI  2663291    GRC\n",
       "\n",
       "[38462 rows x 4 columns]"
      ]
     },
     "execution_count": 102,
     "metadata": {},
     "output_type": "execute_result"
    }
   ],
   "source": [
    "target_df = df1[df1[\"회사\"]!=\"HCM\"]\n",
    "# target_df = df1\n",
    "target_df"
   ]
  },
  {
   "cell_type": "code",
   "execution_count": 103,
   "id": "0e0986c5",
   "metadata": {},
   "outputs": [
    {
     "data": {
      "text/html": [
       "<div>\n",
       "<style scoped>\n",
       "    .dataframe tbody tr th:only-of-type {\n",
       "        vertical-align: middle;\n",
       "    }\n",
       "\n",
       "    .dataframe tbody tr th {\n",
       "        vertical-align: top;\n",
       "    }\n",
       "\n",
       "    .dataframe thead th {\n",
       "        text-align: right;\n",
       "    }\n",
       "</style>\n",
       "<table border=\"1\" class=\"dataframe\">\n",
       "  <thead>\n",
       "    <tr style=\"text-align: right;\">\n",
       "      <th></th>\n",
       "      <th>기준일자</th>\n",
       "      <th>회사</th>\n",
       "      <th>사번</th>\n",
       "      <th>근무지</th>\n",
       "      <th>위도</th>\n",
       "      <th>경도</th>\n",
       "    </tr>\n",
       "  </thead>\n",
       "  <tbody>\n",
       "    <tr>\n",
       "      <th>0</th>\n",
       "      <td>t20210801</td>\n",
       "      <td>HCE</td>\n",
       "      <td>A421197</td>\n",
       "      <td>분당사무소</td>\n",
       "      <td>37.378442</td>\n",
       "      <td>127.214230</td>\n",
       "    </tr>\n",
       "    <tr>\n",
       "      <th>1</th>\n",
       "      <td>t20210801</td>\n",
       "      <td>HCE</td>\n",
       "      <td>A510951</td>\n",
       "      <td>분당사무소</td>\n",
       "      <td>37.378442</td>\n",
       "      <td>127.214230</td>\n",
       "    </tr>\n",
       "    <tr>\n",
       "      <th>2</th>\n",
       "      <td>t20210801</td>\n",
       "      <td>HCE</td>\n",
       "      <td>A510197</td>\n",
       "      <td>분당사무소</td>\n",
       "      <td>37.378442</td>\n",
       "      <td>127.214230</td>\n",
       "    </tr>\n",
       "    <tr>\n",
       "      <th>3</th>\n",
       "      <td>t20210801</td>\n",
       "      <td>HCE</td>\n",
       "      <td>A460222</td>\n",
       "      <td>분당사무소</td>\n",
       "      <td>37.378442</td>\n",
       "      <td>127.214230</td>\n",
       "    </tr>\n",
       "    <tr>\n",
       "      <th>4</th>\n",
       "      <td>t20210801</td>\n",
       "      <td>HCE</td>\n",
       "      <td>A321109</td>\n",
       "      <td>분당사무소</td>\n",
       "      <td>37.378442</td>\n",
       "      <td>127.214230</td>\n",
       "    </tr>\n",
       "    <tr>\n",
       "      <th>...</th>\n",
       "      <td>...</td>\n",
       "      <td>...</td>\n",
       "      <td>...</td>\n",
       "      <td>...</td>\n",
       "      <td>...</td>\n",
       "      <td>...</td>\n",
       "    </tr>\n",
       "    <tr>\n",
       "      <th>38457</th>\n",
       "      <td>t20230401</td>\n",
       "      <td>HDI</td>\n",
       "      <td>1926449</td>\n",
       "      <td>인천공장</td>\n",
       "      <td>37.486461</td>\n",
       "      <td>126.629820</td>\n",
       "    </tr>\n",
       "    <tr>\n",
       "      <th>38458</th>\n",
       "      <td>t20230401</td>\n",
       "      <td>HDI</td>\n",
       "      <td>1925478</td>\n",
       "      <td>인천공장</td>\n",
       "      <td>37.486461</td>\n",
       "      <td>126.629820</td>\n",
       "    </tr>\n",
       "    <tr>\n",
       "      <th>38459</th>\n",
       "      <td>t20230401</td>\n",
       "      <td>HDI</td>\n",
       "      <td>1925657</td>\n",
       "      <td>인천공장</td>\n",
       "      <td>37.486461</td>\n",
       "      <td>126.629820</td>\n",
       "    </tr>\n",
       "    <tr>\n",
       "      <th>38460</th>\n",
       "      <td>t20230401</td>\n",
       "      <td>HDI</td>\n",
       "      <td>1925909</td>\n",
       "      <td>인천공장</td>\n",
       "      <td>37.486461</td>\n",
       "      <td>126.629820</td>\n",
       "    </tr>\n",
       "    <tr>\n",
       "      <th>38461</th>\n",
       "      <td>t20230401</td>\n",
       "      <td>HDI</td>\n",
       "      <td>2663291</td>\n",
       "      <td>GRC</td>\n",
       "      <td>37.376923</td>\n",
       "      <td>127.106108</td>\n",
       "    </tr>\n",
       "  </tbody>\n",
       "</table>\n",
       "<p>38462 rows × 6 columns</p>\n",
       "</div>"
      ],
      "text/plain": [
       "            기준일자   회사       사번    근무지         위도          경도\n",
       "0      t20210801  HCE  A421197  분당사무소  37.378442  127.214230\n",
       "1      t20210801  HCE  A510951  분당사무소  37.378442  127.214230\n",
       "2      t20210801  HCE  A510197  분당사무소  37.378442  127.214230\n",
       "3      t20210801  HCE  A460222  분당사무소  37.378442  127.214230\n",
       "4      t20210801  HCE  A321109  분당사무소  37.378442  127.214230\n",
       "...          ...  ...      ...    ...        ...         ...\n",
       "38457  t20230401  HDI  1926449   인천공장  37.486461  126.629820\n",
       "38458  t20230401  HDI  1925478   인천공장  37.486461  126.629820\n",
       "38459  t20230401  HDI  1925657   인천공장  37.486461  126.629820\n",
       "38460  t20230401  HDI  1925909   인천공장  37.486461  126.629820\n",
       "38461  t20230401  HDI  2663291    GRC  37.376923  127.106108\n",
       "\n",
       "[38462 rows x 6 columns]"
      ]
     },
     "execution_count": 103,
     "metadata": {},
     "output_type": "execute_result"
    }
   ],
   "source": [
    "target_df = pd.merge(target_df,loca, on=['근무지'], how='left')\n",
    "target_df"
   ]
  },
  {
   "cell_type": "code",
   "execution_count": 104,
   "id": "240ba012",
   "metadata": {},
   "outputs": [
    {
     "data": {
      "text/html": [
       "<div>\n",
       "<style scoped>\n",
       "    .dataframe tbody tr th:only-of-type {\n",
       "        vertical-align: middle;\n",
       "    }\n",
       "\n",
       "    .dataframe tbody tr th {\n",
       "        vertical-align: top;\n",
       "    }\n",
       "\n",
       "    .dataframe thead th {\n",
       "        text-align: right;\n",
       "    }\n",
       "</style>\n",
       "<table border=\"1\" class=\"dataframe\">\n",
       "  <thead>\n",
       "    <tr style=\"text-align: right;\">\n",
       "      <th></th>\n",
       "      <th>근무지</th>\n",
       "      <th>기준일자</th>\n",
       "      <th>회사</th>\n",
       "      <th>위도</th>\n",
       "      <th>경도</th>\n",
       "      <th>인원</th>\n",
       "    </tr>\n",
       "  </thead>\n",
       "  <tbody>\n",
       "    <tr>\n",
       "      <th>0</th>\n",
       "      <td>GRC</td>\n",
       "      <td>t20220101</td>\n",
       "      <td>HDI</td>\n",
       "      <td>37.376923</td>\n",
       "      <td>127.106108</td>\n",
       "      <td>1</td>\n",
       "    </tr>\n",
       "    <tr>\n",
       "      <th>1</th>\n",
       "      <td>GRC</td>\n",
       "      <td>t20220401</td>\n",
       "      <td>HDI</td>\n",
       "      <td>37.376923</td>\n",
       "      <td>127.106108</td>\n",
       "      <td>1</td>\n",
       "    </tr>\n",
       "    <tr>\n",
       "      <th>2</th>\n",
       "      <td>GRC</td>\n",
       "      <td>t20220701</td>\n",
       "      <td>HDI</td>\n",
       "      <td>37.376923</td>\n",
       "      <td>127.106108</td>\n",
       "      <td>1</td>\n",
       "    </tr>\n",
       "    <tr>\n",
       "      <th>3</th>\n",
       "      <td>GRC</td>\n",
       "      <td>t20221001</td>\n",
       "      <td>HCE</td>\n",
       "      <td>37.376923</td>\n",
       "      <td>127.106108</td>\n",
       "      <td>1</td>\n",
       "    </tr>\n",
       "    <tr>\n",
       "      <th>4</th>\n",
       "      <td>GRC</td>\n",
       "      <td>t20221001</td>\n",
       "      <td>HDI</td>\n",
       "      <td>37.376923</td>\n",
       "      <td>127.106108</td>\n",
       "      <td>1</td>\n",
       "    </tr>\n",
       "    <tr>\n",
       "      <th>...</th>\n",
       "      <td>...</td>\n",
       "      <td>...</td>\n",
       "      <td>...</td>\n",
       "      <td>...</td>\n",
       "      <td>...</td>\n",
       "      <td>...</td>\n",
       "    </tr>\n",
       "    <tr>\n",
       "      <th>138</th>\n",
       "      <td>인천공장</td>\n",
       "      <td>t20220401</td>\n",
       "      <td>HDI</td>\n",
       "      <td>37.486461</td>\n",
       "      <td>126.629820</td>\n",
       "      <td>2067</td>\n",
       "    </tr>\n",
       "    <tr>\n",
       "      <th>139</th>\n",
       "      <td>인천공장</td>\n",
       "      <td>t20220701</td>\n",
       "      <td>HDI</td>\n",
       "      <td>37.486461</td>\n",
       "      <td>126.629820</td>\n",
       "      <td>2037</td>\n",
       "    </tr>\n",
       "    <tr>\n",
       "      <th>140</th>\n",
       "      <td>인천공장</td>\n",
       "      <td>t20221001</td>\n",
       "      <td>HDI</td>\n",
       "      <td>37.486461</td>\n",
       "      <td>126.629820</td>\n",
       "      <td>2030</td>\n",
       "    </tr>\n",
       "    <tr>\n",
       "      <th>141</th>\n",
       "      <td>인천공장</td>\n",
       "      <td>t20230101</td>\n",
       "      <td>HDI</td>\n",
       "      <td>37.486461</td>\n",
       "      <td>126.629820</td>\n",
       "      <td>1663</td>\n",
       "    </tr>\n",
       "    <tr>\n",
       "      <th>142</th>\n",
       "      <td>인천공장</td>\n",
       "      <td>t20230401</td>\n",
       "      <td>HDI</td>\n",
       "      <td>37.486461</td>\n",
       "      <td>126.629820</td>\n",
       "      <td>1695</td>\n",
       "    </tr>\n",
       "  </tbody>\n",
       "</table>\n",
       "<p>143 rows × 6 columns</p>\n",
       "</div>"
      ],
      "text/plain": [
       "      근무지       기준일자   회사         위도          경도    인원\n",
       "0     GRC  t20220101  HDI  37.376923  127.106108     1\n",
       "1     GRC  t20220401  HDI  37.376923  127.106108     1\n",
       "2     GRC  t20220701  HDI  37.376923  127.106108     1\n",
       "3     GRC  t20221001  HCE  37.376923  127.106108     1\n",
       "4     GRC  t20221001  HDI  37.376923  127.106108     1\n",
       "..    ...        ...  ...        ...         ...   ...\n",
       "138  인천공장  t20220401  HDI  37.486461  126.629820  2067\n",
       "139  인천공장  t20220701  HDI  37.486461  126.629820  2037\n",
       "140  인천공장  t20221001  HDI  37.486461  126.629820  2030\n",
       "141  인천공장  t20230101  HDI  37.486461  126.629820  1663\n",
       "142  인천공장  t20230401  HDI  37.486461  126.629820  1695\n",
       "\n",
       "[143 rows x 6 columns]"
      ]
     },
     "execution_count": 104,
     "metadata": {},
     "output_type": "execute_result"
    }
   ],
   "source": [
    "target_df1 = target_df.groupby([\"근무지\",\"기준일자\",\"회사\", \"위도\", \"경도\"])[[\"사번\"]].count().reset_index()\n",
    "target_df1 = target_df1.rename(columns = {\"사번\": \"인원\"})\n",
    "# target_df1[\"num\"] = target_df1[\"사번\"]*2\n",
    "target_df1"
   ]
  },
  {
   "cell_type": "code",
   "execution_count": 105,
   "id": "0da2cd3d",
   "metadata": {},
   "outputs": [],
   "source": [
    "def log_trans(x):\n",
    "    return np.log10(x)"
   ]
  },
  {
   "cell_type": "code",
   "execution_count": 106,
   "id": "bf4ce1f2",
   "metadata": {},
   "outputs": [
    {
     "data": {
      "text/html": [
       "<div>\n",
       "<style scoped>\n",
       "    .dataframe tbody tr th:only-of-type {\n",
       "        vertical-align: middle;\n",
       "    }\n",
       "\n",
       "    .dataframe tbody tr th {\n",
       "        vertical-align: top;\n",
       "    }\n",
       "\n",
       "    .dataframe thead th {\n",
       "        text-align: right;\n",
       "    }\n",
       "</style>\n",
       "<table border=\"1\" class=\"dataframe\">\n",
       "  <thead>\n",
       "    <tr style=\"text-align: right;\">\n",
       "      <th></th>\n",
       "      <th>근무지</th>\n",
       "      <th>기준일자</th>\n",
       "      <th>회사</th>\n",
       "      <th>위도</th>\n",
       "      <th>경도</th>\n",
       "      <th>인원</th>\n",
       "      <th>로그</th>\n",
       "    </tr>\n",
       "  </thead>\n",
       "  <tbody>\n",
       "    <tr>\n",
       "      <th>0</th>\n",
       "      <td>GRC</td>\n",
       "      <td>t20220101</td>\n",
       "      <td>HDI</td>\n",
       "      <td>37.376923</td>\n",
       "      <td>127.106108</td>\n",
       "      <td>1</td>\n",
       "      <td>0.000000</td>\n",
       "    </tr>\n",
       "    <tr>\n",
       "      <th>1</th>\n",
       "      <td>GRC</td>\n",
       "      <td>t20220401</td>\n",
       "      <td>HDI</td>\n",
       "      <td>37.376923</td>\n",
       "      <td>127.106108</td>\n",
       "      <td>1</td>\n",
       "      <td>0.000000</td>\n",
       "    </tr>\n",
       "    <tr>\n",
       "      <th>2</th>\n",
       "      <td>GRC</td>\n",
       "      <td>t20220701</td>\n",
       "      <td>HDI</td>\n",
       "      <td>37.376923</td>\n",
       "      <td>127.106108</td>\n",
       "      <td>1</td>\n",
       "      <td>0.000000</td>\n",
       "    </tr>\n",
       "    <tr>\n",
       "      <th>3</th>\n",
       "      <td>GRC</td>\n",
       "      <td>t20221001</td>\n",
       "      <td>HCE</td>\n",
       "      <td>37.376923</td>\n",
       "      <td>127.106108</td>\n",
       "      <td>1</td>\n",
       "      <td>0.000000</td>\n",
       "    </tr>\n",
       "    <tr>\n",
       "      <th>4</th>\n",
       "      <td>GRC</td>\n",
       "      <td>t20221001</td>\n",
       "      <td>HDI</td>\n",
       "      <td>37.376923</td>\n",
       "      <td>127.106108</td>\n",
       "      <td>1</td>\n",
       "      <td>0.000000</td>\n",
       "    </tr>\n",
       "    <tr>\n",
       "      <th>...</th>\n",
       "      <td>...</td>\n",
       "      <td>...</td>\n",
       "      <td>...</td>\n",
       "      <td>...</td>\n",
       "      <td>...</td>\n",
       "      <td>...</td>\n",
       "      <td>...</td>\n",
       "    </tr>\n",
       "    <tr>\n",
       "      <th>138</th>\n",
       "      <td>인천공장</td>\n",
       "      <td>t20220401</td>\n",
       "      <td>HDI</td>\n",
       "      <td>37.486461</td>\n",
       "      <td>126.629820</td>\n",
       "      <td>2067</td>\n",
       "      <td>3.315340</td>\n",
       "    </tr>\n",
       "    <tr>\n",
       "      <th>139</th>\n",
       "      <td>인천공장</td>\n",
       "      <td>t20220701</td>\n",
       "      <td>HDI</td>\n",
       "      <td>37.486461</td>\n",
       "      <td>126.629820</td>\n",
       "      <td>2037</td>\n",
       "      <td>3.308991</td>\n",
       "    </tr>\n",
       "    <tr>\n",
       "      <th>140</th>\n",
       "      <td>인천공장</td>\n",
       "      <td>t20221001</td>\n",
       "      <td>HDI</td>\n",
       "      <td>37.486461</td>\n",
       "      <td>126.629820</td>\n",
       "      <td>2030</td>\n",
       "      <td>3.307496</td>\n",
       "    </tr>\n",
       "    <tr>\n",
       "      <th>141</th>\n",
       "      <td>인천공장</td>\n",
       "      <td>t20230101</td>\n",
       "      <td>HDI</td>\n",
       "      <td>37.486461</td>\n",
       "      <td>126.629820</td>\n",
       "      <td>1663</td>\n",
       "      <td>3.220892</td>\n",
       "    </tr>\n",
       "    <tr>\n",
       "      <th>142</th>\n",
       "      <td>인천공장</td>\n",
       "      <td>t20230401</td>\n",
       "      <td>HDI</td>\n",
       "      <td>37.486461</td>\n",
       "      <td>126.629820</td>\n",
       "      <td>1695</td>\n",
       "      <td>3.229170</td>\n",
       "    </tr>\n",
       "  </tbody>\n",
       "</table>\n",
       "<p>143 rows × 7 columns</p>\n",
       "</div>"
      ],
      "text/plain": [
       "      근무지       기준일자   회사         위도          경도    인원        로그\n",
       "0     GRC  t20220101  HDI  37.376923  127.106108     1  0.000000\n",
       "1     GRC  t20220401  HDI  37.376923  127.106108     1  0.000000\n",
       "2     GRC  t20220701  HDI  37.376923  127.106108     1  0.000000\n",
       "3     GRC  t20221001  HCE  37.376923  127.106108     1  0.000000\n",
       "4     GRC  t20221001  HDI  37.376923  127.106108     1  0.000000\n",
       "..    ...        ...  ...        ...         ...   ...       ...\n",
       "138  인천공장  t20220401  HDI  37.486461  126.629820  2067  3.315340\n",
       "139  인천공장  t20220701  HDI  37.486461  126.629820  2037  3.308991\n",
       "140  인천공장  t20221001  HDI  37.486461  126.629820  2030  3.307496\n",
       "141  인천공장  t20230101  HDI  37.486461  126.629820  1663  3.220892\n",
       "142  인천공장  t20230401  HDI  37.486461  126.629820  1695  3.229170\n",
       "\n",
       "[143 rows x 7 columns]"
      ]
     },
     "execution_count": 106,
     "metadata": {},
     "output_type": "execute_result"
    }
   ],
   "source": [
    "target_df1[\"로그\"] = target_df1[\"인원\"].apply(log_trans)\n",
    "target_df1"
   ]
  },
  {
   "cell_type": "code",
   "execution_count": 107,
   "id": "cd18fa56",
   "metadata": {},
   "outputs": [],
   "source": [
    "order1= {'기준일자':['t20210801', 't20211001', 't20220101', 't20220401', 't20220701', 't20221001', 't20230101', 't20230401']}"
   ]
  },
  {
   "cell_type": "code",
   "execution_count": 117,
   "id": "7b49d892",
   "metadata": {},
   "outputs": [
    {
     "data": {
      "application/vnd.plotly.v1+json": {
       "config": {
        "plotlyServerURL": "https://plotly.com"
       },
       "data": [
        {
         "customdata": [
          [
           "t20210801",
           263
          ],
          [
           "t20210801",
           13
          ],
          [
           "t20210801",
           390
          ],
          [
           "t20210801",
           53
          ],
          [
           "t20210801",
           2092
          ]
         ],
         "hovertemplate": "<b>%{hovertext}</b><br><br>company=%{text}<br>기준일자=%{customdata[0]}<br>로그=%{marker.size}<br>위도=%{lat}<br>경도=%{lon}<br>인원=%{customdata[1]}<extra></extra>",
         "hovertext": [
          "군산공장",
          "보령Proving Ground",
          "분당두산타워",
          "안산부품센터",
          "인천공장"
         ],
         "ids": [
          "군산공장",
          "보령Proving Ground",
          "분당두산타워",
          "안산부품센터",
          "인천공장"
         ],
         "lat": [
          35.9677143,
          36.2851883,
          37.3640959,
          37.285315,
          37.4864609
         ],
         "legendgroup": "HDI",
         "lon": [
          126.2500686,
          126.6371552,
          127.000353,
          126.8882818,
          126.6298197
         ],
         "marker": {
          "color": "#636efa",
          "opacity": 0.5,
          "size": [
           2.419955748489758,
           1.1139433523068367,
           2.591064607026499,
           1.724275869600789,
           3.3205616801952367
          ],
          "sizemode": "area",
          "sizeref": 0.0009223782444986769
         },
         "mode": "markers+text",
         "name": "HDI",
         "showlegend": true,
         "subplot": "mapbox",
         "text": [
          "HDI",
          "HDI",
          "HDI",
          "HDI",
          "HDI"
         ],
         "type": "scattermapbox"
        },
        {
         "customdata": [
          [
           "t20210801",
           7
          ],
          [
           "t20210801",
           28
          ],
          [
           "t20210801",
           568
          ],
          [
           "t20210801",
           88
          ],
          [
           "t20210801",
           716
          ],
          [
           "t20210801",
           27
          ],
          [
           "t20210801",
           1
          ]
         ],
         "hovertemplate": "<b>%{hovertext}</b><br><br>company=%{text}<br>기준일자=%{customdata[0]}<br>로그=%{marker.size}<br>위도=%{lat}<br>경도=%{lon}<br>인원=%{customdata[1]}<extra></extra>",
         "hovertext": [
          "경주",
          "군산",
          "분당사무소",
          "용인연구소",
          "울산본사",
          "음성",
          "인천"
         ],
         "ids": [
          "경주",
          "군산",
          "분당사무소",
          "용인연구소",
          "울산본사",
          "음성",
          "인천"
         ],
         "lat": [
          35.946756301742,
          35.9697769709966,
          37.378442,
          37.3065744445032,
          35.5057777899586,
          36.9312095,
          37.4864609
         ],
         "legendgroup": "HCE",
         "lon": [
          129.267161,
          126.596542336649,
          127.21423,
          127.137412074906,
          129.441743039015,
          127.752218,
          126.3298197
         ],
         "marker": {
          "color": "#EF553B",
          "opacity": 0.5,
          "size": [
           0.8450980400142568,
           1.4471580313422192,
           2.754348335711019,
           1.9444826721501687,
           2.8549130223078554,
           1.4313637641589874,
           0
          ],
          "sizemode": "area",
          "sizeref": 0.0009223782444986769
         },
         "mode": "markers+text",
         "name": "HCE",
         "showlegend": true,
         "subplot": "mapbox",
         "text": [
          "HCE",
          "HCE",
          "HCE",
          "HCE",
          "HCE",
          "HCE",
          "HCE"
         ],
         "type": "scattermapbox"
        },
        {
         "customdata": [
          [
           "t20210801",
           14
          ],
          [
           "t20210801",
           51
          ],
          [
           "t20210801",
           8
          ],
          [
           "t20210801",
           41
          ]
         ],
         "hovertemplate": "<b>%{hovertext}</b><br><br>company=%{text}<br>기준일자=%{customdata[0]}<br>로그=%{marker.size}<br>위도=%{lat}<br>경도=%{lon}<br>인원=%{customdata[1]}<extra></extra>",
         "hovertext": [
          "경주",
          "분당사무소",
          "용인연구소",
          "울산본사"
         ],
         "ids": [
          "경주",
          "분당사무소",
          "용인연구소",
          "울산본사"
         ],
         "lat": [
          35.946756301742,
          37.378442,
          37.3065744445032,
          35.5057777899586
         ],
         "legendgroup": "HDX",
         "lon": [
          129.267161,
          127.21423,
          127.137412074906,
          129.441743039015
         ],
         "marker": {
          "color": "#00cc96",
          "opacity": 0.5,
          "size": [
           1.146128035678238,
           1.7075701760979363,
           0.9030899869919435,
           1.6127838567197355
          ],
          "sizemode": "area",
          "sizeref": 0.0009223782444986769
         },
         "mode": "markers+text",
         "name": "HDX",
         "showlegend": true,
         "subplot": "mapbox",
         "text": [
          "HDX",
          "HDX",
          "HDX",
          "HDX"
         ],
         "type": "scattermapbox"
        }
       ],
       "frames": [
        {
         "data": [
          {
           "customdata": [
            [
             "t20210801",
             263
            ],
            [
             "t20210801",
             13
            ],
            [
             "t20210801",
             390
            ],
            [
             "t20210801",
             53
            ],
            [
             "t20210801",
             2092
            ]
           ],
           "hovertemplate": "<b>%{hovertext}</b><br><br>company=%{text}<br>기준일자=%{customdata[0]}<br>로그=%{marker.size}<br>위도=%{lat}<br>경도=%{lon}<br>인원=%{customdata[1]}<extra></extra>",
           "hovertext": [
            "군산공장",
            "보령Proving Ground",
            "분당두산타워",
            "안산부품센터",
            "인천공장"
           ],
           "ids": [
            "군산공장",
            "보령Proving Ground",
            "분당두산타워",
            "안산부품센터",
            "인천공장"
           ],
           "lat": [
            35.9677143,
            36.2851883,
            37.3640959,
            37.285315,
            37.4864609
           ],
           "legendgroup": "HDI",
           "lon": [
            126.2500686,
            126.6371552,
            127.000353,
            126.8882818,
            126.6298197
           ],
           "marker": {
            "color": "#636efa",
            "opacity": 0.5,
            "size": [
             2.419955748489758,
             1.1139433523068367,
             2.591064607026499,
             1.724275869600789,
             3.3205616801952367
            ],
            "sizemode": "area",
            "sizeref": 0.0009223782444986769
           },
           "mode": "markers+text",
           "name": "HDI",
           "showlegend": true,
           "subplot": "mapbox",
           "text": [
            "HDI",
            "HDI",
            "HDI",
            "HDI",
            "HDI"
           ],
           "type": "scattermapbox"
          },
          {
           "customdata": [
            [
             "t20210801",
             7
            ],
            [
             "t20210801",
             28
            ],
            [
             "t20210801",
             568
            ],
            [
             "t20210801",
             88
            ],
            [
             "t20210801",
             716
            ],
            [
             "t20210801",
             27
            ],
            [
             "t20210801",
             1
            ]
           ],
           "hovertemplate": "<b>%{hovertext}</b><br><br>company=%{text}<br>기준일자=%{customdata[0]}<br>로그=%{marker.size}<br>위도=%{lat}<br>경도=%{lon}<br>인원=%{customdata[1]}<extra></extra>",
           "hovertext": [
            "경주",
            "군산",
            "분당사무소",
            "용인연구소",
            "울산본사",
            "음성",
            "인천"
           ],
           "ids": [
            "경주",
            "군산",
            "분당사무소",
            "용인연구소",
            "울산본사",
            "음성",
            "인천"
           ],
           "lat": [
            35.946756301742,
            35.9697769709966,
            37.378442,
            37.3065744445032,
            35.5057777899586,
            36.9312095,
            37.4864609
           ],
           "legendgroup": "HCE",
           "lon": [
            129.267161,
            126.596542336649,
            127.21423,
            127.137412074906,
            129.441743039015,
            127.752218,
            126.3298197
           ],
           "marker": {
            "color": "#EF553B",
            "opacity": 0.5,
            "size": [
             0.8450980400142568,
             1.4471580313422192,
             2.754348335711019,
             1.9444826721501687,
             2.8549130223078554,
             1.4313637641589874,
             0
            ],
            "sizemode": "area",
            "sizeref": 0.0009223782444986769
           },
           "mode": "markers+text",
           "name": "HCE",
           "showlegend": true,
           "subplot": "mapbox",
           "text": [
            "HCE",
            "HCE",
            "HCE",
            "HCE",
            "HCE",
            "HCE",
            "HCE"
           ],
           "type": "scattermapbox"
          },
          {
           "customdata": [
            [
             "t20210801",
             14
            ],
            [
             "t20210801",
             51
            ],
            [
             "t20210801",
             8
            ],
            [
             "t20210801",
             41
            ]
           ],
           "hovertemplate": "<b>%{hovertext}</b><br><br>company=%{text}<br>기준일자=%{customdata[0]}<br>로그=%{marker.size}<br>위도=%{lat}<br>경도=%{lon}<br>인원=%{customdata[1]}<extra></extra>",
           "hovertext": [
            "경주",
            "분당사무소",
            "용인연구소",
            "울산본사"
           ],
           "ids": [
            "경주",
            "분당사무소",
            "용인연구소",
            "울산본사"
           ],
           "lat": [
            35.946756301742,
            37.378442,
            37.3065744445032,
            35.5057777899586
           ],
           "legendgroup": "HDX",
           "lon": [
            129.267161,
            127.21423,
            127.137412074906,
            129.441743039015
           ],
           "marker": {
            "color": "#00cc96",
            "opacity": 0.5,
            "size": [
             1.146128035678238,
             1.7075701760979363,
             0.9030899869919435,
             1.6127838567197355
            ],
            "sizemode": "area",
            "sizeref": 0.0009223782444986769
           },
           "mode": "markers+text",
           "name": "HDX",
           "showlegend": true,
           "subplot": "mapbox",
           "text": [
            "HDX",
            "HDX",
            "HDX",
            "HDX"
           ],
           "type": "scattermapbox"
          }
         ],
         "name": "t20210801"
        },
        {
         "data": [
          {
           "customdata": [
            [
             "t20211001",
             261
            ],
            [
             "t20211001",
             13
            ],
            [
             "t20211001",
             386
            ],
            [
             "t20211001",
             53
            ],
            [
             "t20211001",
             2088
            ]
           ],
           "hovertemplate": "<b>%{hovertext}</b><br><br>company=%{text}<br>기준일자=%{customdata[0]}<br>로그=%{marker.size}<br>위도=%{lat}<br>경도=%{lon}<br>인원=%{customdata[1]}<extra></extra>",
           "hovertext": [
            "군산공장",
            "보령Proving Ground",
            "분당두산타워",
            "안산부품센터",
            "인천공장"
           ],
           "ids": [
            "군산공장",
            "보령Proving Ground",
            "분당두산타워",
            "안산부품센터",
            "인천공장"
           ],
           "lat": [
            35.9677143,
            36.2851883,
            37.3640959,
            37.285315,
            37.4864609
           ],
           "legendgroup": "HDI",
           "lon": [
            126.2500686,
            126.6371552,
            127.000353,
            126.8882818,
            126.6298197
           ],
           "marker": {
            "color": "#636efa",
            "opacity": 0.5,
            "size": [
             2.416640507338281,
             1.1139433523068367,
             2.586587304671755,
             1.724275869600789,
             3.3197304943302246
            ],
            "sizemode": "area",
            "sizeref": 0.0009223782444986769
           },
           "mode": "markers+text",
           "name": "HDI",
           "showlegend": true,
           "subplot": "mapbox",
           "text": [
            "HDI",
            "HDI",
            "HDI",
            "HDI",
            "HDI"
           ],
           "type": "scattermapbox"
          },
          {
           "customdata": [
            [
             "t20211001",
             7
            ],
            [
             "t20211001",
             28
            ],
            [
             "t20211001",
             617
            ],
            [
             "t20211001",
             88
            ],
            [
             "t20211001",
             730
            ],
            [
             "t20211001",
             27
            ],
            [
             "t20211001",
             1
            ]
           ],
           "hovertemplate": "<b>%{hovertext}</b><br><br>company=%{text}<br>기준일자=%{customdata[0]}<br>로그=%{marker.size}<br>위도=%{lat}<br>경도=%{lon}<br>인원=%{customdata[1]}<extra></extra>",
           "hovertext": [
            "경주",
            "군산",
            "분당사무소",
            "용인연구소",
            "울산본사",
            "음성",
            "인천"
           ],
           "ids": [
            "경주",
            "군산",
            "분당사무소",
            "용인연구소",
            "울산본사",
            "음성",
            "인천"
           ],
           "lat": [
            35.946756301742,
            35.9697769709966,
            37.378442,
            37.3065744445032,
            35.5057777899586,
            36.9312095,
            37.4864609
           ],
           "legendgroup": "HCE",
           "lon": [
            129.267161,
            126.596542336649,
            127.21423,
            127.137412074906,
            129.441743039015,
            127.752218,
            126.3298197
           ],
           "marker": {
            "color": "#EF553B",
            "opacity": 0.5,
            "size": [
             0.8450980400142568,
             1.4471580313422192,
             2.7902851640332416,
             1.9444826721501687,
             2.863322860120456,
             1.4313637641589874,
             0
            ],
            "sizemode": "area",
            "sizeref": 0.0009223782444986769
           },
           "mode": "markers+text",
           "name": "HCE",
           "showlegend": true,
           "subplot": "mapbox",
           "text": [
            "HCE",
            "HCE",
            "HCE",
            "HCE",
            "HCE",
            "HCE",
            "HCE"
           ],
           "type": "scattermapbox"
          },
          {
           "customdata": [
            [
             "t20211001",
             14
            ],
            [
             "t20211001",
             93
            ],
            [
             "t20211001",
             8
            ],
            [
             "t20211001",
             41
            ]
           ],
           "hovertemplate": "<b>%{hovertext}</b><br><br>company=%{text}<br>기준일자=%{customdata[0]}<br>로그=%{marker.size}<br>위도=%{lat}<br>경도=%{lon}<br>인원=%{customdata[1]}<extra></extra>",
           "hovertext": [
            "경주",
            "분당사무소",
            "용인연구소",
            "울산본사"
           ],
           "ids": [
            "경주",
            "분당사무소",
            "용인연구소",
            "울산본사"
           ],
           "lat": [
            35.946756301742,
            37.378442,
            37.3065744445032,
            35.5057777899586
           ],
           "legendgroup": "HDX",
           "lon": [
            129.267161,
            127.21423,
            127.137412074906,
            129.441743039015
           ],
           "marker": {
            "color": "#00cc96",
            "opacity": 0.5,
            "size": [
             1.146128035678238,
             1.968482948553935,
             0.9030899869919435,
             1.6127838567197355
            ],
            "sizemode": "area",
            "sizeref": 0.0009223782444986769
           },
           "mode": "markers+text",
           "name": "HDX",
           "showlegend": true,
           "subplot": "mapbox",
           "text": [
            "HDX",
            "HDX",
            "HDX",
            "HDX"
           ],
           "type": "scattermapbox"
          }
         ],
         "name": "t20211001"
        },
        {
         "data": [
          {
           "customdata": [
            [
             "t20220101",
             1
            ],
            [
             "t20220101",
             265
            ],
            [
             "t20220101",
             12
            ],
            [
             "t20220101",
             363
            ],
            [
             "t20220101",
             65
            ],
            [
             "t20220101",
             1993
            ]
           ],
           "hovertemplate": "<b>%{hovertext}</b><br><br>company=%{text}<br>기준일자=%{customdata[0]}<br>로그=%{marker.size}<br>위도=%{lat}<br>경도=%{lon}<br>인원=%{customdata[1]}<extra></extra>",
           "hovertext": [
            "GRC",
            "군산공장",
            "보령Proving Ground",
            "분당두산타워",
            "안산부품센터",
            "인천공장"
           ],
           "ids": [
            "GRC",
            "군산공장",
            "보령Proving Ground",
            "분당두산타워",
            "안산부품센터",
            "인천공장"
           ],
           "lat": [
            37.3769230243523,
            35.9677143,
            36.2851883,
            37.3640959,
            37.285315,
            37.4864609
           ],
           "legendgroup": "HDI",
           "lon": [
            127.106107697859,
            126.2500686,
            126.6371552,
            127.000353,
            126.8882818,
            126.6298197
           ],
           "marker": {
            "color": "#636efa",
            "opacity": 0.5,
            "size": [
             0,
             2.423245873936808,
             1.0791812460476249,
             2.5599066250361124,
             1.8129133566428555,
             3.2995072987004876
            ],
            "sizemode": "area",
            "sizeref": 0.0009223782444986769
           },
           "mode": "markers+text",
           "name": "HDI",
           "showlegend": true,
           "subplot": "mapbox",
           "text": [
            "HDI",
            "HDI",
            "HDI",
            "HDI",
            "HDI",
            "HDI"
           ],
           "type": "scattermapbox"
          },
          {
           "customdata": [
            [
             "t20220101",
             7
            ],
            [
             "t20220101",
             10
            ],
            [
             "t20220101",
             466
            ],
            [
             "t20220101",
             85
            ],
            [
             "t20220101",
             715
            ],
            [
             "t20220101",
             27
            ],
            [
             "t20220101",
             1
            ]
           ],
           "hovertemplate": "<b>%{hovertext}</b><br><br>company=%{text}<br>기준일자=%{customdata[0]}<br>로그=%{marker.size}<br>위도=%{lat}<br>경도=%{lon}<br>인원=%{customdata[1]}<extra></extra>",
           "hovertext": [
            "경주",
            "군산",
            "분당사무소",
            "용인연구소",
            "울산본사",
            "음성",
            "인천"
           ],
           "ids": [
            "경주",
            "군산",
            "분당사무소",
            "용인연구소",
            "울산본사",
            "음성",
            "인천"
           ],
           "lat": [
            35.946756301742,
            35.9697769709966,
            37.378442,
            37.3065744445032,
            35.5057777899586,
            36.9312095,
            37.4864609
           ],
           "legendgroup": "HCE",
           "lon": [
            129.267161,
            126.596542336649,
            127.21423,
            127.137412074906,
            129.441743039015,
            127.752218,
            126.3298197
           ],
           "marker": {
            "color": "#EF553B",
            "opacity": 0.5,
            "size": [
             0.8450980400142568,
             1,
             2.66838591669,
             1.9294189257142926,
             2.8543060418010806,
             1.4313637641589874,
             0
            ],
            "sizemode": "area",
            "sizeref": 0.0009223782444986769
           },
           "mode": "markers+text",
           "name": "HCE",
           "showlegend": true,
           "subplot": "mapbox",
           "text": [
            "HCE",
            "HCE",
            "HCE",
            "HCE",
            "HCE",
            "HCE",
            "HCE"
           ],
           "type": "scattermapbox"
          },
          {
           "customdata": [
            [
             "t20220101",
             14
            ],
            [
             "t20220101",
             13
            ],
            [
             "t20220101",
             331
            ],
            [
             "t20220101",
             10
            ],
            [
             "t20220101",
             48
            ]
           ],
           "hovertemplate": "<b>%{hovertext}</b><br><br>company=%{text}<br>기준일자=%{customdata[0]}<br>로그=%{marker.size}<br>위도=%{lat}<br>경도=%{lon}<br>인원=%{customdata[1]}<extra></extra>",
           "hovertext": [
            "경주",
            "군산",
            "분당사무소",
            "용인연구소",
            "울산본사"
           ],
           "ids": [
            "경주",
            "군산",
            "분당사무소",
            "용인연구소",
            "울산본사"
           ],
           "lat": [
            35.946756301742,
            35.9697769709966,
            37.378442,
            37.3065744445032,
            35.5057777899586
           ],
           "legendgroup": "HDX",
           "lon": [
            129.267161,
            126.596542336649,
            127.21423,
            127.137412074906,
            129.441743039015
           ],
           "marker": {
            "color": "#00cc96",
            "opacity": 0.5,
            "size": [
             1.146128035678238,
             1.1139433523068367,
             2.519827993775719,
             1,
             1.6812412373755872
            ],
            "sizemode": "area",
            "sizeref": 0.0009223782444986769
           },
           "mode": "markers+text",
           "name": "HDX",
           "showlegend": true,
           "subplot": "mapbox",
           "text": [
            "HDX",
            "HDX",
            "HDX",
            "HDX",
            "HDX"
           ],
           "type": "scattermapbox"
          }
         ],
         "name": "t20220101"
        },
        {
         "data": [
          {
           "customdata": [
            [
             "t20220401",
             1
            ],
            [
             "t20220401",
             282
            ],
            [
             "t20220401",
             11
            ],
            [
             "t20220401",
             354
            ],
            [
             "t20220401",
             72
            ],
            [
             "t20220401",
             2067
            ]
           ],
           "hovertemplate": "<b>%{hovertext}</b><br><br>company=%{text}<br>기준일자=%{customdata[0]}<br>로그=%{marker.size}<br>위도=%{lat}<br>경도=%{lon}<br>인원=%{customdata[1]}<extra></extra>",
           "hovertext": [
            "GRC",
            "군산공장",
            "보령Proving Ground",
            "분당두산타워",
            "안산부품센터",
            "인천공장"
           ],
           "ids": [
            "GRC",
            "군산공장",
            "보령Proving Ground",
            "분당두산타워",
            "안산부품센터",
            "인천공장"
           ],
           "lat": [
            37.3769230243523,
            35.9677143,
            36.2851883,
            37.3640959,
            37.285315,
            37.4864609
           ],
           "legendgroup": "HDI",
           "lon": [
            127.106107697859,
            126.2500686,
            126.6371552,
            127.000353,
            126.8882818,
            126.6298197
           ],
           "marker": {
            "color": "#636efa",
            "opacity": 0.5,
            "size": [
             0,
             2.450249108319361,
             1.0413926851582251,
             2.5490032620257876,
             1.8573324964312685,
             3.3153404766272883
            ],
            "sizemode": "area",
            "sizeref": 0.0009223782444986769
           },
           "mode": "markers+text",
           "name": "HDI",
           "showlegend": true,
           "subplot": "mapbox",
           "text": [
            "HDI",
            "HDI",
            "HDI",
            "HDI",
            "HDI",
            "HDI"
           ],
           "type": "scattermapbox"
          },
          {
           "customdata": [
            [
             "t20220401",
             7
            ],
            [
             "t20220401",
             10
            ],
            [
             "t20220401",
             469
            ],
            [
             "t20220401",
             89
            ],
            [
             "t20220401",
             732
            ],
            [
             "t20220401",
             30
            ],
            [
             "t20220401",
             1
            ]
           ],
           "hovertemplate": "<b>%{hovertext}</b><br><br>company=%{text}<br>기준일자=%{customdata[0]}<br>로그=%{marker.size}<br>위도=%{lat}<br>경도=%{lon}<br>인원=%{customdata[1]}<extra></extra>",
           "hovertext": [
            "경주",
            "군산",
            "분당사무소",
            "용인연구소",
            "울산본사",
            "음성",
            "인천"
           ],
           "ids": [
            "경주",
            "군산",
            "분당사무소",
            "용인연구소",
            "울산본사",
            "음성",
            "인천"
           ],
           "lat": [
            35.946756301742,
            35.9697769709966,
            37.378442,
            37.3065744445032,
            35.5057777899586,
            36.9312095,
            37.4864609
           ],
           "legendgroup": "HCE",
           "lon": [
            129.267161,
            126.596542336649,
            127.21423,
            127.137412074906,
            129.441743039015,
            127.752218,
            126.3298197
           ],
           "marker": {
            "color": "#EF553B",
            "opacity": 0.5,
            "size": [
             0.8450980400142568,
             1,
             2.6711728427150834,
             1.9493900066449128,
             2.864511081058392,
             1.4771212547196624,
             0
            ],
            "sizemode": "area",
            "sizeref": 0.0009223782444986769
           },
           "mode": "markers+text",
           "name": "HCE",
           "showlegend": true,
           "subplot": "mapbox",
           "text": [
            "HCE",
            "HCE",
            "HCE",
            "HCE",
            "HCE",
            "HCE",
            "HCE"
           ],
           "type": "scattermapbox"
          },
          {
           "customdata": [
            [
             "t20220401",
             14
            ],
            [
             "t20220401",
             7
            ],
            [
             "t20220401",
             353
            ],
            [
             "t20220401",
             10
            ],
            [
             "t20220401",
             55
            ]
           ],
           "hovertemplate": "<b>%{hovertext}</b><br><br>company=%{text}<br>기준일자=%{customdata[0]}<br>로그=%{marker.size}<br>위도=%{lat}<br>경도=%{lon}<br>인원=%{customdata[1]}<extra></extra>",
           "hovertext": [
            "경주",
            "군산",
            "분당사무소",
            "용인연구소",
            "울산본사"
           ],
           "ids": [
            "경주",
            "군산",
            "분당사무소",
            "용인연구소",
            "울산본사"
           ],
           "lat": [
            35.946756301742,
            35.9697769709966,
            37.378442,
            37.3065744445032,
            35.5057777899586
           ],
           "legendgroup": "HDX",
           "lon": [
            129.267161,
            126.596542336649,
            127.21423,
            127.137412074906,
            129.441743039015
           ],
           "marker": {
            "color": "#00cc96",
            "opacity": 0.5,
            "size": [
             1.146128035678238,
             0.8450980400142568,
             2.5477747053878224,
             1,
             1.7403626894942439
            ],
            "sizemode": "area",
            "sizeref": 0.0009223782444986769
           },
           "mode": "markers+text",
           "name": "HDX",
           "showlegend": true,
           "subplot": "mapbox",
           "text": [
            "HDX",
            "HDX",
            "HDX",
            "HDX",
            "HDX"
           ],
           "type": "scattermapbox"
          }
         ],
         "name": "t20220401"
        },
        {
         "data": [
          {
           "customdata": [
            [
             "t20220701",
             1
            ],
            [
             "t20220701",
             285
            ],
            [
             "t20220701",
             11
            ],
            [
             "t20220701",
             367
            ],
            [
             "t20220701",
             73
            ],
            [
             "t20220701",
             2037
            ]
           ],
           "hovertemplate": "<b>%{hovertext}</b><br><br>company=%{text}<br>기준일자=%{customdata[0]}<br>로그=%{marker.size}<br>위도=%{lat}<br>경도=%{lon}<br>인원=%{customdata[1]}<extra></extra>",
           "hovertext": [
            "GRC",
            "군산공장",
            "보령Proving Ground",
            "분당두산타워",
            "안산부품센터",
            "인천공장"
           ],
           "ids": [
            "GRC",
            "군산공장",
            "보령Proving Ground",
            "분당두산타워",
            "안산부품센터",
            "인천공장"
           ],
           "lat": [
            37.3769230243523,
            35.9677143,
            36.2851883,
            37.3640959,
            37.285315,
            37.4864609
           ],
           "legendgroup": "HDI",
           "lon": [
            127.106107697859,
            126.2500686,
            126.6371552,
            127.000353,
            126.8882818,
            126.6298197
           ],
           "marker": {
            "color": "#636efa",
            "opacity": 0.5,
            "size": [
             0,
             2.45484486000851,
             1.0413926851582251,
             2.5646660642520893,
             1.863322860120456,
             3.3089910290001643
            ],
            "sizemode": "area",
            "sizeref": 0.0009223782444986769
           },
           "mode": "markers+text",
           "name": "HDI",
           "showlegend": true,
           "subplot": "mapbox",
           "text": [
            "HDI",
            "HDI",
            "HDI",
            "HDI",
            "HDI",
            "HDI"
           ],
           "type": "scattermapbox"
          },
          {
           "customdata": [
            [
             "t20220701",
             7
            ],
            [
             "t20220701",
             9
            ],
            [
             "t20220701",
             462
            ],
            [
             "t20220701",
             101
            ],
            [
             "t20220701",
             747
            ],
            [
             "t20220701",
             31
            ]
           ],
           "hovertemplate": "<b>%{hovertext}</b><br><br>company=%{text}<br>기준일자=%{customdata[0]}<br>로그=%{marker.size}<br>위도=%{lat}<br>경도=%{lon}<br>인원=%{customdata[1]}<extra></extra>",
           "hovertext": [
            "경주",
            "군산",
            "분당사무소",
            "용인연구소",
            "울산본사",
            "음성"
           ],
           "ids": [
            "경주",
            "군산",
            "분당사무소",
            "용인연구소",
            "울산본사",
            "음성"
           ],
           "lat": [
            35.946756301742,
            35.9697769709966,
            37.378442,
            37.3065744445032,
            35.5057777899586,
            36.9312095
           ],
           "legendgroup": "HCE",
           "lon": [
            129.267161,
            126.596542336649,
            127.21423,
            127.137412074906,
            129.441743039015,
            127.752218
           ],
           "marker": {
            "color": "#EF553B",
            "opacity": 0.5,
            "size": [
             0.8450980400142568,
             0.9542425094393249,
             2.6646419755561257,
             2.0043213737826426,
             2.873320601815399,
             1.4913616938342726
            ],
            "sizemode": "area",
            "sizeref": 0.0009223782444986769
           },
           "mode": "markers+text",
           "name": "HCE",
           "showlegend": true,
           "subplot": "mapbox",
           "text": [
            "HCE",
            "HCE",
            "HCE",
            "HCE",
            "HCE",
            "HCE"
           ],
           "type": "scattermapbox"
          },
          {
           "customdata": [
            [
             "t20220701",
             14
            ],
            [
             "t20220701",
             8
            ],
            [
             "t20220701",
             357
            ],
            [
             "t20220701",
             9
            ],
            [
             "t20220701",
             56
            ],
            [
             "t20220701",
             10
            ]
           ],
           "hovertemplate": "<b>%{hovertext}</b><br><br>company=%{text}<br>기준일자=%{customdata[0]}<br>로그=%{marker.size}<br>위도=%{lat}<br>경도=%{lon}<br>인원=%{customdata[1]}<extra></extra>",
           "hovertext": [
            "경주",
            "군산",
            "분당사무소",
            "용인연구소",
            "울산본사",
            "인천"
           ],
           "ids": [
            "경주",
            "군산",
            "분당사무소",
            "용인연구소",
            "울산본사",
            "인천"
           ],
           "lat": [
            35.946756301742,
            35.9697769709966,
            37.378442,
            37.3065744445032,
            35.5057777899586,
            37.4864609
           ],
           "legendgroup": "HDX",
           "lon": [
            129.267161,
            126.596542336649,
            127.21423,
            127.137412074906,
            129.441743039015,
            126.3298197
           ],
           "marker": {
            "color": "#00cc96",
            "opacity": 0.5,
            "size": [
             1.146128035678238,
             0.9030899869919435,
             2.552668216112193,
             0.9542425094393249,
             1.7481880270062005,
             1
            ],
            "sizemode": "area",
            "sizeref": 0.0009223782444986769
           },
           "mode": "markers+text",
           "name": "HDX",
           "showlegend": true,
           "subplot": "mapbox",
           "text": [
            "HDX",
            "HDX",
            "HDX",
            "HDX",
            "HDX",
            "HDX"
           ],
           "type": "scattermapbox"
          }
         ],
         "name": "t20220701"
        },
        {
         "data": [
          {
           "customdata": [
            [
             "t20221001",
             1
            ],
            [
             "t20221001",
             287
            ],
            [
             "t20221001",
             11
            ],
            [
             "t20221001",
             335
            ],
            [
             "t20221001",
             73
            ],
            [
             "t20221001",
             2030
            ]
           ],
           "hovertemplate": "<b>%{hovertext}</b><br><br>company=%{text}<br>기준일자=%{customdata[0]}<br>로그=%{marker.size}<br>위도=%{lat}<br>경도=%{lon}<br>인원=%{customdata[1]}<extra></extra>",
           "hovertext": [
            "GRC",
            "군산공장",
            "보령Proving Ground",
            "분당두산타워",
            "안산부품센터",
            "인천공장"
           ],
           "ids": [
            "GRC",
            "군산공장",
            "보령Proving Ground",
            "분당두산타워",
            "안산부품센터",
            "인천공장"
           ],
           "lat": [
            37.3769230243523,
            35.9677143,
            36.2851883,
            37.3640959,
            37.285315,
            37.4864609
           ],
           "legendgroup": "HDI",
           "lon": [
            127.106107697859,
            126.2500686,
            126.6371552,
            127.000353,
            126.8882818,
            126.6298197
           ],
           "marker": {
            "color": "#636efa",
            "opacity": 0.5,
            "size": [
             0,
             2.4578818967339924,
             1.0413926851582251,
             2.525044807036845,
             1.863322860120456,
             3.307496037913213
            ],
            "sizemode": "area",
            "sizeref": 0.0009223782444986769
           },
           "mode": "markers+text",
           "name": "HDI",
           "showlegend": true,
           "subplot": "mapbox",
           "text": [
            "HDI",
            "HDI",
            "HDI",
            "HDI",
            "HDI",
            "HDI"
           ],
           "type": "scattermapbox"
          },
          {
           "customdata": [
            [
             "t20221001",
             1
            ],
            [
             "t20221001",
             7
            ],
            [
             "t20221001",
             9
            ],
            [
             "t20221001",
             458
            ],
            [
             "t20221001",
             102
            ],
            [
             "t20221001",
             747
            ],
            [
             "t20221001",
             30
            ]
           ],
           "hovertemplate": "<b>%{hovertext}</b><br><br>company=%{text}<br>기준일자=%{customdata[0]}<br>로그=%{marker.size}<br>위도=%{lat}<br>경도=%{lon}<br>인원=%{customdata[1]}<extra></extra>",
           "hovertext": [
            "GRC",
            "경주",
            "군산",
            "분당사무소",
            "용인연구소",
            "울산본사",
            "음성"
           ],
           "ids": [
            "GRC",
            "경주",
            "군산",
            "분당사무소",
            "용인연구소",
            "울산본사",
            "음성"
           ],
           "lat": [
            37.3769230243523,
            35.946756301742,
            35.9697769709966,
            37.378442,
            37.3065744445032,
            35.5057777899586,
            36.9312095
           ],
           "legendgroup": "HCE",
           "lon": [
            127.106107697859,
            129.267161,
            126.596542336649,
            127.21423,
            127.137412074906,
            129.441743039015,
            127.752218
           ],
           "marker": {
            "color": "#EF553B",
            "opacity": 0.5,
            "size": [
             0,
             0.8450980400142568,
             0.9542425094393249,
             2.660865478003869,
             2.0086001717619175,
             2.873320601815399,
             1.4771212547196624
            ],
            "sizemode": "area",
            "sizeref": 0.0009223782444986769
           },
           "mode": "markers+text",
           "name": "HCE",
           "showlegend": true,
           "subplot": "mapbox",
           "text": [
            "HCE",
            "HCE",
            "HCE",
            "HCE",
            "HCE",
            "HCE",
            "HCE"
           ],
           "type": "scattermapbox"
          },
          {
           "customdata": [
            [
             "t20221001",
             14
            ],
            [
             "t20221001",
             8
            ],
            [
             "t20221001",
             356
            ],
            [
             "t20221001",
             9
            ],
            [
             "t20221001",
             60
            ],
            [
             "t20221001",
             12
            ]
           ],
           "hovertemplate": "<b>%{hovertext}</b><br><br>company=%{text}<br>기준일자=%{customdata[0]}<br>로그=%{marker.size}<br>위도=%{lat}<br>경도=%{lon}<br>인원=%{customdata[1]}<extra></extra>",
           "hovertext": [
            "경주",
            "군산",
            "분당사무소",
            "용인연구소",
            "울산본사",
            "인천"
           ],
           "ids": [
            "경주",
            "군산",
            "분당사무소",
            "용인연구소",
            "울산본사",
            "인천"
           ],
           "lat": [
            35.946756301742,
            35.9697769709966,
            37.378442,
            37.3065744445032,
            35.5057777899586,
            37.4864609
           ],
           "legendgroup": "HDX",
           "lon": [
            129.267161,
            126.596542336649,
            127.21423,
            127.137412074906,
            129.441743039015,
            126.3298197
           ],
           "marker": {
            "color": "#00cc96",
            "opacity": 0.5,
            "size": [
             1.146128035678238,
             0.9030899869919435,
             2.5514499979728753,
             0.9542425094393249,
             1.7781512503836436,
             1.0791812460476249
            ],
            "sizemode": "area",
            "sizeref": 0.0009223782444986769
           },
           "mode": "markers+text",
           "name": "HDX",
           "showlegend": true,
           "subplot": "mapbox",
           "text": [
            "HDX",
            "HDX",
            "HDX",
            "HDX",
            "HDX",
            "HDX"
           ],
           "type": "scattermapbox"
          }
         ],
         "name": "t20221001"
        },
        {
         "data": [
          {
           "customdata": [
            [
             "t20230101",
             745
            ],
            [
             "t20230101",
             295
            ],
            [
             "t20230101",
             12
            ],
            [
             "t20230101",
             65
            ],
            [
             "t20230101",
             1663
            ]
           ],
           "hovertemplate": "<b>%{hovertext}</b><br><br>company=%{text}<br>기준일자=%{customdata[0]}<br>로그=%{marker.size}<br>위도=%{lat}<br>경도=%{lon}<br>인원=%{customdata[1]}<extra></extra>",
           "hovertext": [
            "GRC",
            "군산공장",
            "보령Proving Ground",
            "안산부품센터",
            "인천공장"
           ],
           "ids": [
            "GRC",
            "군산공장",
            "보령Proving Ground",
            "안산부품센터",
            "인천공장"
           ],
           "lat": [
            37.3769230243523,
            35.9677143,
            36.2851883,
            37.285315,
            37.4864609
           ],
           "legendgroup": "HDI",
           "lon": [
            127.106107697859,
            126.2500686,
            126.6371552,
            126.8882818,
            126.6298197
           ],
           "marker": {
            "color": "#636efa",
            "opacity": 0.5,
            "size": [
             2.8721562727482928,
             2.469822015978163,
             1.0791812460476249,
             1.8129133566428555,
             3.2208922492195193
            ],
            "sizemode": "area",
            "sizeref": 0.0009223782444986769
           },
           "mode": "markers+text",
           "name": "HDI",
           "showlegend": true,
           "subplot": "mapbox",
           "text": [
            "HDI",
            "HDI",
            "HDI",
            "HDI",
            "HDI"
           ],
           "type": "scattermapbox"
          },
          {
           "customdata": [
            [
             "t20230101",
             472
            ],
            [
             "t20230101",
             7
            ],
            [
             "t20230101",
             6
            ],
            [
             "t20230101",
             17
            ],
            [
             "t20230101",
             63
            ],
            [
             "t20230101",
             731
            ],
            [
             "t20230101",
             30
            ]
           ],
           "hovertemplate": "<b>%{hovertext}</b><br><br>company=%{text}<br>기준일자=%{customdata[0]}<br>로그=%{marker.size}<br>위도=%{lat}<br>경도=%{lon}<br>인원=%{customdata[1]}<extra></extra>",
           "hovertext": [
            "GRC",
            "경주",
            "군산",
            "분당사무소",
            "용인연구소",
            "울산본사",
            "음성"
           ],
           "ids": [
            "GRC",
            "경주",
            "군산",
            "분당사무소",
            "용인연구소",
            "울산본사",
            "음성"
           ],
           "lat": [
            37.3769230243523,
            35.946756301742,
            35.9697769709966,
            37.378442,
            37.3065744445032,
            35.5057777899586,
            36.9312095
           ],
           "legendgroup": "HCE",
           "lon": [
            127.106107697859,
            129.267161,
            126.596542336649,
            127.21423,
            127.137412074906,
            129.441743039015,
            127.752218
           ],
           "marker": {
            "color": "#EF553B",
            "opacity": 0.5,
            "size": [
             2.673941998634088,
             0.8450980400142568,
             0.7781512503836436,
             1.2304489213782739,
             1.7993405494535817,
             2.8639173769578603,
             1.4771212547196624
            ],
            "sizemode": "area",
            "sizeref": 0.0009223782444986769
           },
           "mode": "markers+text",
           "name": "HCE",
           "showlegend": true,
           "subplot": "mapbox",
           "text": [
            "HCE",
            "HCE",
            "HCE",
            "HCE",
            "HCE",
            "HCE",
            "HCE"
           ],
           "type": "scattermapbox"
          },
          {
           "customdata": [
            [
             "t20230101",
             627
            ],
            [
             "t20230101",
             15
            ],
            [
             "t20230101",
             10
            ],
            [
             "t20230101",
             1
            ],
            [
             "t20230101",
             1
            ],
            [
             "t20230101",
             80
            ],
            [
             "t20230101",
             4
            ]
           ],
           "hovertemplate": "<b>%{hovertext}</b><br><br>company=%{text}<br>기준일자=%{customdata[0]}<br>로그=%{marker.size}<br>위도=%{lat}<br>경도=%{lon}<br>인원=%{customdata[1]}<extra></extra>",
           "hovertext": [
            "GRC",
            "경주",
            "군산",
            "분당사무소",
            "용인연구소",
            "울산본사",
            "인천"
           ],
           "ids": [
            "GRC",
            "경주",
            "군산",
            "분당사무소",
            "용인연구소",
            "울산본사",
            "인천"
           ],
           "lat": [
            37.3769230243523,
            35.946756301742,
            35.9697769709966,
            37.378442,
            37.3065744445032,
            35.5057777899586,
            37.4864609
           ],
           "legendgroup": "HDX",
           "lon": [
            127.106107697859,
            129.267161,
            126.596542336649,
            127.21423,
            127.137412074906,
            129.441743039015,
            126.3298197
           ],
           "marker": {
            "color": "#00cc96",
            "opacity": 0.5,
            "size": [
             2.7972675408307164,
             1.1760912590556813,
             1,
             0,
             0,
             1.9030899869919435,
             0.6020599913279624
            ],
            "sizemode": "area",
            "sizeref": 0.0009223782444986769
           },
           "mode": "markers+text",
           "name": "HDX",
           "showlegend": true,
           "subplot": "mapbox",
           "text": [
            "HDX",
            "HDX",
            "HDX",
            "HDX",
            "HDX",
            "HDX",
            "HDX"
           ],
           "type": "scattermapbox"
          }
         ],
         "name": "t20230101"
        },
        {
         "data": [
          {
           "customdata": [
            [
             "t20230401",
             642
            ],
            [
             "t20230401",
             300
            ],
            [
             "t20230401",
             13
            ],
            [
             "t20230401",
             65
            ],
            [
             "t20230401",
             1695
            ]
           ],
           "hovertemplate": "<b>%{hovertext}</b><br><br>company=%{text}<br>기준일자=%{customdata[0]}<br>로그=%{marker.size}<br>위도=%{lat}<br>경도=%{lon}<br>인원=%{customdata[1]}<extra></extra>",
           "hovertext": [
            "GRC",
            "군산공장",
            "보령Proving Ground",
            "안산부품센터",
            "인천공장"
           ],
           "ids": [
            "GRC",
            "군산공장",
            "보령Proving Ground",
            "안산부품센터",
            "인천공장"
           ],
           "lat": [
            37.3769230243523,
            35.9677143,
            36.2851883,
            37.285315,
            37.4864609
           ],
           "legendgroup": "HDI",
           "lon": [
            127.106107697859,
            126.2500686,
            126.6371552,
            126.8882818,
            126.6298197
           ],
           "marker": {
            "color": "#636efa",
            "opacity": 0.5,
            "size": [
             2.807535028068853,
             2.4771212547196626,
             1.1139433523068367,
             1.8129133566428555,
             3.229169702539101
            ],
            "sizemode": "area",
            "sizeref": 0.0009223782444986769
           },
           "mode": "markers+text",
           "name": "HDI",
           "showlegend": true,
           "subplot": "mapbox",
           "text": [
            "HDI",
            "HDI",
            "HDI",
            "HDI",
            "HDI"
           ],
           "type": "scattermapbox"
          },
          {
           "customdata": [
            [
             "t20230401",
             491
            ],
            [
             "t20230401",
             7
            ],
            [
             "t20230401",
             6
            ],
            [
             "t20230401",
             19
            ],
            [
             "t20230401",
             68
            ],
            [
             "t20230401",
             723
            ],
            [
             "t20230401",
             39
            ]
           ],
           "hovertemplate": "<b>%{hovertext}</b><br><br>company=%{text}<br>기준일자=%{customdata[0]}<br>로그=%{marker.size}<br>위도=%{lat}<br>경도=%{lon}<br>인원=%{customdata[1]}<extra></extra>",
           "hovertext": [
            "GRC",
            "경주",
            "군산",
            "분당사무소",
            "용인연구소",
            "울산본사",
            "음성"
           ],
           "ids": [
            "GRC",
            "경주",
            "군산",
            "분당사무소",
            "용인연구소",
            "울산본사",
            "음성"
           ],
           "lat": [
            37.3769230243523,
            35.946756301742,
            35.9697769709966,
            37.378442,
            37.3065744445032,
            35.5057777899586,
            36.9312095
           ],
           "legendgroup": "HCE",
           "lon": [
            127.106107697859,
            129.267161,
            126.596542336649,
            127.21423,
            127.137412074906,
            129.441743039015,
            127.752218
           ],
           "marker": {
            "color": "#EF553B",
            "opacity": 0.5,
            "size": [
             2.6910814921229687,
             0.8450980400142568,
             0.7781512503836436,
             1.2787536009528289,
             1.8325089127062364,
             2.859138297294531,
             1.591064607026499
            ],
            "sizemode": "area",
            "sizeref": 0.0009223782444986769
           },
           "mode": "markers+text",
           "name": "HCE",
           "showlegend": true,
           "subplot": "mapbox",
           "text": [
            "HCE",
            "HCE",
            "HCE",
            "HCE",
            "HCE",
            "HCE",
            "HCE"
           ],
           "type": "scattermapbox"
          },
          {
           "customdata": [
            [
             "t20230401",
             660
            ],
            [
             "t20230401",
             14
            ],
            [
             "t20230401",
             10
            ],
            [
             "t20230401",
             2
            ],
            [
             "t20230401",
             2
            ],
            [
             "t20230401",
             102
            ],
            [
             "t20230401",
             4
            ]
           ],
           "hovertemplate": "<b>%{hovertext}</b><br><br>company=%{text}<br>기준일자=%{customdata[0]}<br>로그=%{marker.size}<br>위도=%{lat}<br>경도=%{lon}<br>인원=%{customdata[1]}<extra></extra>",
           "hovertext": [
            "GRC",
            "경주",
            "군산",
            "분당사무소",
            "용인연구소",
            "울산본사",
            "인천"
           ],
           "ids": [
            "GRC",
            "경주",
            "군산",
            "분당사무소",
            "용인연구소",
            "울산본사",
            "인천"
           ],
           "lat": [
            37.3769230243523,
            35.946756301742,
            35.9697769709966,
            37.378442,
            37.3065744445032,
            35.5057777899586,
            37.4864609
           ],
           "legendgroup": "HDX",
           "lon": [
            127.106107697859,
            129.267161,
            126.596542336649,
            127.21423,
            127.137412074906,
            129.441743039015,
            126.3298197
           ],
           "marker": {
            "color": "#00cc96",
            "opacity": 0.5,
            "size": [
             2.8195439355418688,
             1.146128035678238,
             1,
             0.3010299956639812,
             0.3010299956639812,
             2.0086001717619175,
             0.6020599913279624
            ],
            "sizemode": "area",
            "sizeref": 0.0009223782444986769
           },
           "mode": "markers+text",
           "name": "HDX",
           "showlegend": true,
           "subplot": "mapbox",
           "text": [
            "HDX",
            "HDX",
            "HDX",
            "HDX",
            "HDX",
            "HDX",
            "HDX"
           ],
           "type": "scattermapbox"
          }
         ],
         "name": "t20230401"
        }
       ],
       "layout": {
        "height": 800,
        "legend": {
         "itemsizing": "constant",
         "title": {
          "text": "company"
         },
         "tracegroupgap": 0
        },
        "mapbox": {
         "accesstoken": "pk.eyJ1Ijoia3N0eWxlMDcxMCIsImEiOiJja2lwa3ZvM2gwNW1oMnRscmpnd3h3eHc2In0._8EKxsQhiot3haFfX5J-0A",
         "center": {
          "lat": 36.4,
          "lon": 128.1
         },
         "domain": {
          "x": [
           0,
           1
          ],
          "y": [
           0,
           1
          ]
         },
         "style": "light",
         "zoom": 7
        },
        "margin": {
         "t": 60
        },
        "sliders": [
         {
          "active": 0,
          "currentvalue": {
           "prefix": "기준일자="
          },
          "len": 0.9,
          "pad": {
           "b": 10,
           "t": 60
          },
          "steps": [
           {
            "args": [
             [
              "t20210801"
             ],
             {
              "frame": {
               "duration": 0,
               "redraw": true
              },
              "fromcurrent": true,
              "mode": "immediate",
              "transition": {
               "duration": 0,
               "easing": "linear"
              }
             }
            ],
            "label": "t20210801",
            "method": "animate"
           },
           {
            "args": [
             [
              "t20211001"
             ],
             {
              "frame": {
               "duration": 0,
               "redraw": true
              },
              "fromcurrent": true,
              "mode": "immediate",
              "transition": {
               "duration": 0,
               "easing": "linear"
              }
             }
            ],
            "label": "t20211001",
            "method": "animate"
           },
           {
            "args": [
             [
              "t20220101"
             ],
             {
              "frame": {
               "duration": 0,
               "redraw": true
              },
              "fromcurrent": true,
              "mode": "immediate",
              "transition": {
               "duration": 0,
               "easing": "linear"
              }
             }
            ],
            "label": "t20220101",
            "method": "animate"
           },
           {
            "args": [
             [
              "t20220401"
             ],
             {
              "frame": {
               "duration": 0,
               "redraw": true
              },
              "fromcurrent": true,
              "mode": "immediate",
              "transition": {
               "duration": 0,
               "easing": "linear"
              }
             }
            ],
            "label": "t20220401",
            "method": "animate"
           },
           {
            "args": [
             [
              "t20220701"
             ],
             {
              "frame": {
               "duration": 0,
               "redraw": true
              },
              "fromcurrent": true,
              "mode": "immediate",
              "transition": {
               "duration": 0,
               "easing": "linear"
              }
             }
            ],
            "label": "t20220701",
            "method": "animate"
           },
           {
            "args": [
             [
              "t20221001"
             ],
             {
              "frame": {
               "duration": 0,
               "redraw": true
              },
              "fromcurrent": true,
              "mode": "immediate",
              "transition": {
               "duration": 0,
               "easing": "linear"
              }
             }
            ],
            "label": "t20221001",
            "method": "animate"
           },
           {
            "args": [
             [
              "t20230101"
             ],
             {
              "frame": {
               "duration": 0,
               "redraw": true
              },
              "fromcurrent": true,
              "mode": "immediate",
              "transition": {
               "duration": 0,
               "easing": "linear"
              }
             }
            ],
            "label": "t20230101",
            "method": "animate"
           },
           {
            "args": [
             [
              "t20230401"
             ],
             {
              "frame": {
               "duration": 0,
               "redraw": true
              },
              "fromcurrent": true,
              "mode": "immediate",
              "transition": {
               "duration": 0,
               "easing": "linear"
              }
             }
            ],
            "label": "t20230401",
            "method": "animate"
           }
          ],
          "x": 0.1,
          "xanchor": "left",
          "y": 0,
          "yanchor": "top"
         }
        ],
        "template": {
         "data": {
          "bar": [
           {
            "error_x": {
             "color": "#2a3f5f"
            },
            "error_y": {
             "color": "#2a3f5f"
            },
            "marker": {
             "line": {
              "color": "#E5ECF6",
              "width": 0.5
             },
             "pattern": {
              "fillmode": "overlay",
              "size": 10,
              "solidity": 0.2
             }
            },
            "type": "bar"
           }
          ],
          "barpolar": [
           {
            "marker": {
             "line": {
              "color": "#E5ECF6",
              "width": 0.5
             },
             "pattern": {
              "fillmode": "overlay",
              "size": 10,
              "solidity": 0.2
             }
            },
            "type": "barpolar"
           }
          ],
          "carpet": [
           {
            "aaxis": {
             "endlinecolor": "#2a3f5f",
             "gridcolor": "white",
             "linecolor": "white",
             "minorgridcolor": "white",
             "startlinecolor": "#2a3f5f"
            },
            "baxis": {
             "endlinecolor": "#2a3f5f",
             "gridcolor": "white",
             "linecolor": "white",
             "minorgridcolor": "white",
             "startlinecolor": "#2a3f5f"
            },
            "type": "carpet"
           }
          ],
          "choropleth": [
           {
            "colorbar": {
             "outlinewidth": 0,
             "ticks": ""
            },
            "type": "choropleth"
           }
          ],
          "contour": [
           {
            "colorbar": {
             "outlinewidth": 0,
             "ticks": ""
            },
            "colorscale": [
             [
              0,
              "#0d0887"
             ],
             [
              0.1111111111111111,
              "#46039f"
             ],
             [
              0.2222222222222222,
              "#7201a8"
             ],
             [
              0.3333333333333333,
              "#9c179e"
             ],
             [
              0.4444444444444444,
              "#bd3786"
             ],
             [
              0.5555555555555556,
              "#d8576b"
             ],
             [
              0.6666666666666666,
              "#ed7953"
             ],
             [
              0.7777777777777778,
              "#fb9f3a"
             ],
             [
              0.8888888888888888,
              "#fdca26"
             ],
             [
              1,
              "#f0f921"
             ]
            ],
            "type": "contour"
           }
          ],
          "contourcarpet": [
           {
            "colorbar": {
             "outlinewidth": 0,
             "ticks": ""
            },
            "type": "contourcarpet"
           }
          ],
          "heatmap": [
           {
            "colorbar": {
             "outlinewidth": 0,
             "ticks": ""
            },
            "colorscale": [
             [
              0,
              "#0d0887"
             ],
             [
              0.1111111111111111,
              "#46039f"
             ],
             [
              0.2222222222222222,
              "#7201a8"
             ],
             [
              0.3333333333333333,
              "#9c179e"
             ],
             [
              0.4444444444444444,
              "#bd3786"
             ],
             [
              0.5555555555555556,
              "#d8576b"
             ],
             [
              0.6666666666666666,
              "#ed7953"
             ],
             [
              0.7777777777777778,
              "#fb9f3a"
             ],
             [
              0.8888888888888888,
              "#fdca26"
             ],
             [
              1,
              "#f0f921"
             ]
            ],
            "type": "heatmap"
           }
          ],
          "heatmapgl": [
           {
            "colorbar": {
             "outlinewidth": 0,
             "ticks": ""
            },
            "colorscale": [
             [
              0,
              "#0d0887"
             ],
             [
              0.1111111111111111,
              "#46039f"
             ],
             [
              0.2222222222222222,
              "#7201a8"
             ],
             [
              0.3333333333333333,
              "#9c179e"
             ],
             [
              0.4444444444444444,
              "#bd3786"
             ],
             [
              0.5555555555555556,
              "#d8576b"
             ],
             [
              0.6666666666666666,
              "#ed7953"
             ],
             [
              0.7777777777777778,
              "#fb9f3a"
             ],
             [
              0.8888888888888888,
              "#fdca26"
             ],
             [
              1,
              "#f0f921"
             ]
            ],
            "type": "heatmapgl"
           }
          ],
          "histogram": [
           {
            "marker": {
             "pattern": {
              "fillmode": "overlay",
              "size": 10,
              "solidity": 0.2
             }
            },
            "type": "histogram"
           }
          ],
          "histogram2d": [
           {
            "colorbar": {
             "outlinewidth": 0,
             "ticks": ""
            },
            "colorscale": [
             [
              0,
              "#0d0887"
             ],
             [
              0.1111111111111111,
              "#46039f"
             ],
             [
              0.2222222222222222,
              "#7201a8"
             ],
             [
              0.3333333333333333,
              "#9c179e"
             ],
             [
              0.4444444444444444,
              "#bd3786"
             ],
             [
              0.5555555555555556,
              "#d8576b"
             ],
             [
              0.6666666666666666,
              "#ed7953"
             ],
             [
              0.7777777777777778,
              "#fb9f3a"
             ],
             [
              0.8888888888888888,
              "#fdca26"
             ],
             [
              1,
              "#f0f921"
             ]
            ],
            "type": "histogram2d"
           }
          ],
          "histogram2dcontour": [
           {
            "colorbar": {
             "outlinewidth": 0,
             "ticks": ""
            },
            "colorscale": [
             [
              0,
              "#0d0887"
             ],
             [
              0.1111111111111111,
              "#46039f"
             ],
             [
              0.2222222222222222,
              "#7201a8"
             ],
             [
              0.3333333333333333,
              "#9c179e"
             ],
             [
              0.4444444444444444,
              "#bd3786"
             ],
             [
              0.5555555555555556,
              "#d8576b"
             ],
             [
              0.6666666666666666,
              "#ed7953"
             ],
             [
              0.7777777777777778,
              "#fb9f3a"
             ],
             [
              0.8888888888888888,
              "#fdca26"
             ],
             [
              1,
              "#f0f921"
             ]
            ],
            "type": "histogram2dcontour"
           }
          ],
          "mesh3d": [
           {
            "colorbar": {
             "outlinewidth": 0,
             "ticks": ""
            },
            "type": "mesh3d"
           }
          ],
          "parcoords": [
           {
            "line": {
             "colorbar": {
              "outlinewidth": 0,
              "ticks": ""
             }
            },
            "type": "parcoords"
           }
          ],
          "pie": [
           {
            "automargin": true,
            "type": "pie"
           }
          ],
          "scatter": [
           {
            "fillpattern": {
             "fillmode": "overlay",
             "size": 10,
             "solidity": 0.2
            },
            "type": "scatter"
           }
          ],
          "scatter3d": [
           {
            "line": {
             "colorbar": {
              "outlinewidth": 0,
              "ticks": ""
             }
            },
            "marker": {
             "colorbar": {
              "outlinewidth": 0,
              "ticks": ""
             }
            },
            "type": "scatter3d"
           }
          ],
          "scattercarpet": [
           {
            "marker": {
             "colorbar": {
              "outlinewidth": 0,
              "ticks": ""
             }
            },
            "type": "scattercarpet"
           }
          ],
          "scattergeo": [
           {
            "marker": {
             "colorbar": {
              "outlinewidth": 0,
              "ticks": ""
             }
            },
            "type": "scattergeo"
           }
          ],
          "scattergl": [
           {
            "marker": {
             "colorbar": {
              "outlinewidth": 0,
              "ticks": ""
             }
            },
            "type": "scattergl"
           }
          ],
          "scattermapbox": [
           {
            "marker": {
             "colorbar": {
              "outlinewidth": 0,
              "ticks": ""
             }
            },
            "type": "scattermapbox"
           }
          ],
          "scatterpolar": [
           {
            "marker": {
             "colorbar": {
              "outlinewidth": 0,
              "ticks": ""
             }
            },
            "type": "scatterpolar"
           }
          ],
          "scatterpolargl": [
           {
            "marker": {
             "colorbar": {
              "outlinewidth": 0,
              "ticks": ""
             }
            },
            "type": "scatterpolargl"
           }
          ],
          "scatterternary": [
           {
            "marker": {
             "colorbar": {
              "outlinewidth": 0,
              "ticks": ""
             }
            },
            "type": "scatterternary"
           }
          ],
          "surface": [
           {
            "colorbar": {
             "outlinewidth": 0,
             "ticks": ""
            },
            "colorscale": [
             [
              0,
              "#0d0887"
             ],
             [
              0.1111111111111111,
              "#46039f"
             ],
             [
              0.2222222222222222,
              "#7201a8"
             ],
             [
              0.3333333333333333,
              "#9c179e"
             ],
             [
              0.4444444444444444,
              "#bd3786"
             ],
             [
              0.5555555555555556,
              "#d8576b"
             ],
             [
              0.6666666666666666,
              "#ed7953"
             ],
             [
              0.7777777777777778,
              "#fb9f3a"
             ],
             [
              0.8888888888888888,
              "#fdca26"
             ],
             [
              1,
              "#f0f921"
             ]
            ],
            "type": "surface"
           }
          ],
          "table": [
           {
            "cells": {
             "fill": {
              "color": "#EBF0F8"
             },
             "line": {
              "color": "white"
             }
            },
            "header": {
             "fill": {
              "color": "#C8D4E3"
             },
             "line": {
              "color": "white"
             }
            },
            "type": "table"
           }
          ]
         },
         "layout": {
          "annotationdefaults": {
           "arrowcolor": "#2a3f5f",
           "arrowhead": 0,
           "arrowwidth": 1
          },
          "autotypenumbers": "strict",
          "coloraxis": {
           "colorbar": {
            "outlinewidth": 0,
            "ticks": ""
           }
          },
          "colorscale": {
           "diverging": [
            [
             0,
             "#8e0152"
            ],
            [
             0.1,
             "#c51b7d"
            ],
            [
             0.2,
             "#de77ae"
            ],
            [
             0.3,
             "#f1b6da"
            ],
            [
             0.4,
             "#fde0ef"
            ],
            [
             0.5,
             "#f7f7f7"
            ],
            [
             0.6,
             "#e6f5d0"
            ],
            [
             0.7,
             "#b8e186"
            ],
            [
             0.8,
             "#7fbc41"
            ],
            [
             0.9,
             "#4d9221"
            ],
            [
             1,
             "#276419"
            ]
           ],
           "sequential": [
            [
             0,
             "#0d0887"
            ],
            [
             0.1111111111111111,
             "#46039f"
            ],
            [
             0.2222222222222222,
             "#7201a8"
            ],
            [
             0.3333333333333333,
             "#9c179e"
            ],
            [
             0.4444444444444444,
             "#bd3786"
            ],
            [
             0.5555555555555556,
             "#d8576b"
            ],
            [
             0.6666666666666666,
             "#ed7953"
            ],
            [
             0.7777777777777778,
             "#fb9f3a"
            ],
            [
             0.8888888888888888,
             "#fdca26"
            ],
            [
             1,
             "#f0f921"
            ]
           ],
           "sequentialminus": [
            [
             0,
             "#0d0887"
            ],
            [
             0.1111111111111111,
             "#46039f"
            ],
            [
             0.2222222222222222,
             "#7201a8"
            ],
            [
             0.3333333333333333,
             "#9c179e"
            ],
            [
             0.4444444444444444,
             "#bd3786"
            ],
            [
             0.5555555555555556,
             "#d8576b"
            ],
            [
             0.6666666666666666,
             "#ed7953"
            ],
            [
             0.7777777777777778,
             "#fb9f3a"
            ],
            [
             0.8888888888888888,
             "#fdca26"
            ],
            [
             1,
             "#f0f921"
            ]
           ]
          },
          "colorway": [
           "#636efa",
           "#EF553B",
           "#00cc96",
           "#ab63fa",
           "#FFA15A",
           "#19d3f3",
           "#FF6692",
           "#B6E880",
           "#FF97FF",
           "#FECB52"
          ],
          "font": {
           "color": "#2a3f5f"
          },
          "geo": {
           "bgcolor": "white",
           "lakecolor": "white",
           "landcolor": "#E5ECF6",
           "showlakes": true,
           "showland": true,
           "subunitcolor": "white"
          },
          "hoverlabel": {
           "align": "left"
          },
          "hovermode": "closest",
          "mapbox": {
           "style": "light"
          },
          "paper_bgcolor": "white",
          "plot_bgcolor": "#E5ECF6",
          "polar": {
           "angularaxis": {
            "gridcolor": "white",
            "linecolor": "white",
            "ticks": ""
           },
           "bgcolor": "#E5ECF6",
           "radialaxis": {
            "gridcolor": "white",
            "linecolor": "white",
            "ticks": ""
           }
          },
          "scene": {
           "xaxis": {
            "backgroundcolor": "#E5ECF6",
            "gridcolor": "white",
            "gridwidth": 2,
            "linecolor": "white",
            "showbackground": true,
            "ticks": "",
            "zerolinecolor": "white"
           },
           "yaxis": {
            "backgroundcolor": "#E5ECF6",
            "gridcolor": "white",
            "gridwidth": 2,
            "linecolor": "white",
            "showbackground": true,
            "ticks": "",
            "zerolinecolor": "white"
           },
           "zaxis": {
            "backgroundcolor": "#E5ECF6",
            "gridcolor": "white",
            "gridwidth": 2,
            "linecolor": "white",
            "showbackground": true,
            "ticks": "",
            "zerolinecolor": "white"
           }
          },
          "shapedefaults": {
           "line": {
            "color": "#2a3f5f"
           }
          },
          "ternary": {
           "aaxis": {
            "gridcolor": "white",
            "linecolor": "white",
            "ticks": ""
           },
           "baxis": {
            "gridcolor": "white",
            "linecolor": "white",
            "ticks": ""
           },
           "bgcolor": "#E5ECF6",
           "caxis": {
            "gridcolor": "white",
            "linecolor": "white",
            "ticks": ""
           }
          },
          "title": {
           "x": 0.05
          },
          "xaxis": {
           "automargin": true,
           "gridcolor": "white",
           "linecolor": "white",
           "ticks": "",
           "title": {
            "standoff": 15
           },
           "zerolinecolor": "white",
           "zerolinewidth": 2
          },
          "yaxis": {
           "automargin": true,
           "gridcolor": "white",
           "linecolor": "white",
           "ticks": "",
           "title": {
            "standoff": 15
           },
           "zerolinecolor": "white",
           "zerolinewidth": 2
          }
         }
        },
        "updatemenus": [
         {
          "buttons": [
           {
            "args": [
             null,
             {
              "frame": {
               "duration": 500,
               "redraw": true
              },
              "fromcurrent": true,
              "mode": "immediate",
              "transition": {
               "duration": 500,
               "easing": "linear"
              }
             }
            ],
            "label": "&#9654;",
            "method": "animate"
           },
           {
            "args": [
             [
              null
             ],
             {
              "frame": {
               "duration": 0,
               "redraw": true
              },
              "fromcurrent": true,
              "mode": "immediate",
              "transition": {
               "duration": 0,
               "easing": "linear"
              }
             }
            ],
            "label": "&#9724;",
            "method": "animate"
           }
          ],
          "direction": "left",
          "pad": {
           "r": 10,
           "t": 70
          },
          "showactive": false,
          "type": "buttons",
          "x": 0.1,
          "xanchor": "right",
          "y": 0,
          "yanchor": "top"
         }
        ]
       }
      },
      "text/html": [
       "<div>                            <div id=\"20c132f5-bcee-406c-a0f3-197c00eb4742\" class=\"plotly-graph-div\" style=\"height:800px; width:100%;\"></div>            <script type=\"text/javascript\">                require([\"plotly\"], function(Plotly) {                    window.PLOTLYENV=window.PLOTLYENV || {};                                    if (document.getElementById(\"20c132f5-bcee-406c-a0f3-197c00eb4742\")) {                    Plotly.newPlot(                        \"20c132f5-bcee-406c-a0f3-197c00eb4742\",                        [{\"customdata\":[[\"t20210801\",263],[\"t20210801\",13],[\"t20210801\",390],[\"t20210801\",53],[\"t20210801\",2092]],\"hovertemplate\":\"<b>%{hovertext}</b><br><br>company=%{text}<br>\\uae30\\uc900\\uc77c\\uc790=%{customdata[0]}<br>\\ub85c\\uadf8=%{marker.size}<br>\\uc704\\ub3c4=%{lat}<br>\\uacbd\\ub3c4=%{lon}<br>\\uc778\\uc6d0=%{customdata[1]}<extra></extra>\",\"hovertext\":[\"\\uad70\\uc0b0\\uacf5\\uc7a5\",\"\\ubcf4\\ub839Proving Ground\",\"\\ubd84\\ub2f9\\ub450\\uc0b0\\ud0c0\\uc6cc\",\"\\uc548\\uc0b0\\ubd80\\ud488\\uc13c\\ud130\",\"\\uc778\\ucc9c\\uacf5\\uc7a5\"],\"ids\":[\"\\uad70\\uc0b0\\uacf5\\uc7a5\",\"\\ubcf4\\ub839Proving Ground\",\"\\ubd84\\ub2f9\\ub450\\uc0b0\\ud0c0\\uc6cc\",\"\\uc548\\uc0b0\\ubd80\\ud488\\uc13c\\ud130\",\"\\uc778\\ucc9c\\uacf5\\uc7a5\"],\"lat\":[35.9677143,36.2851883,37.3640959,37.285315,37.4864609],\"legendgroup\":\"HDI\",\"lon\":[126.2500686,126.6371552,127.000353,126.8882818,126.6298197],\"marker\":{\"color\":\"#636efa\",\"opacity\":0.5,\"size\":[2.419955748489758,1.1139433523068367,2.591064607026499,1.724275869600789,3.3205616801952367],\"sizemode\":\"area\",\"sizeref\":0.0009223782444986769},\"mode\":\"markers+text\",\"name\":\"HDI\",\"showlegend\":true,\"subplot\":\"mapbox\",\"text\":[\"HDI\",\"HDI\",\"HDI\",\"HDI\",\"HDI\"],\"type\":\"scattermapbox\"},{\"customdata\":[[\"t20210801\",7],[\"t20210801\",28],[\"t20210801\",568],[\"t20210801\",88],[\"t20210801\",716],[\"t20210801\",27],[\"t20210801\",1]],\"hovertemplate\":\"<b>%{hovertext}</b><br><br>company=%{text}<br>\\uae30\\uc900\\uc77c\\uc790=%{customdata[0]}<br>\\ub85c\\uadf8=%{marker.size}<br>\\uc704\\ub3c4=%{lat}<br>\\uacbd\\ub3c4=%{lon}<br>\\uc778\\uc6d0=%{customdata[1]}<extra></extra>\",\"hovertext\":[\"\\uacbd\\uc8fc\",\"\\uad70\\uc0b0\",\"\\ubd84\\ub2f9\\uc0ac\\ubb34\\uc18c\",\"\\uc6a9\\uc778\\uc5f0\\uad6c\\uc18c\",\"\\uc6b8\\uc0b0\\ubcf8\\uc0ac\",\"\\uc74c\\uc131\",\"\\uc778\\ucc9c\"],\"ids\":[\"\\uacbd\\uc8fc\",\"\\uad70\\uc0b0\",\"\\ubd84\\ub2f9\\uc0ac\\ubb34\\uc18c\",\"\\uc6a9\\uc778\\uc5f0\\uad6c\\uc18c\",\"\\uc6b8\\uc0b0\\ubcf8\\uc0ac\",\"\\uc74c\\uc131\",\"\\uc778\\ucc9c\"],\"lat\":[35.946756301742,35.9697769709966,37.378442,37.3065744445032,35.5057777899586,36.9312095,37.4864609],\"legendgroup\":\"HCE\",\"lon\":[129.267161,126.596542336649,127.21423,127.137412074906,129.441743039015,127.752218,126.3298197],\"marker\":{\"color\":\"#EF553B\",\"opacity\":0.5,\"size\":[0.8450980400142568,1.4471580313422192,2.754348335711019,1.9444826721501687,2.8549130223078554,1.4313637641589874,0.0],\"sizemode\":\"area\",\"sizeref\":0.0009223782444986769},\"mode\":\"markers+text\",\"name\":\"HCE\",\"showlegend\":true,\"subplot\":\"mapbox\",\"text\":[\"HCE\",\"HCE\",\"HCE\",\"HCE\",\"HCE\",\"HCE\",\"HCE\"],\"type\":\"scattermapbox\"},{\"customdata\":[[\"t20210801\",14],[\"t20210801\",51],[\"t20210801\",8],[\"t20210801\",41]],\"hovertemplate\":\"<b>%{hovertext}</b><br><br>company=%{text}<br>\\uae30\\uc900\\uc77c\\uc790=%{customdata[0]}<br>\\ub85c\\uadf8=%{marker.size}<br>\\uc704\\ub3c4=%{lat}<br>\\uacbd\\ub3c4=%{lon}<br>\\uc778\\uc6d0=%{customdata[1]}<extra></extra>\",\"hovertext\":[\"\\uacbd\\uc8fc\",\"\\ubd84\\ub2f9\\uc0ac\\ubb34\\uc18c\",\"\\uc6a9\\uc778\\uc5f0\\uad6c\\uc18c\",\"\\uc6b8\\uc0b0\\ubcf8\\uc0ac\"],\"ids\":[\"\\uacbd\\uc8fc\",\"\\ubd84\\ub2f9\\uc0ac\\ubb34\\uc18c\",\"\\uc6a9\\uc778\\uc5f0\\uad6c\\uc18c\",\"\\uc6b8\\uc0b0\\ubcf8\\uc0ac\"],\"lat\":[35.946756301742,37.378442,37.3065744445032,35.5057777899586],\"legendgroup\":\"HDX\",\"lon\":[129.267161,127.21423,127.137412074906,129.441743039015],\"marker\":{\"color\":\"#00cc96\",\"opacity\":0.5,\"size\":[1.146128035678238,1.7075701760979363,0.9030899869919435,1.6127838567197355],\"sizemode\":\"area\",\"sizeref\":0.0009223782444986769},\"mode\":\"markers+text\",\"name\":\"HDX\",\"showlegend\":true,\"subplot\":\"mapbox\",\"text\":[\"HDX\",\"HDX\",\"HDX\",\"HDX\"],\"type\":\"scattermapbox\"}],                        {\"template\":{\"data\":{\"histogram2dcontour\":[{\"type\":\"histogram2dcontour\",\"colorbar\":{\"outlinewidth\":0,\"ticks\":\"\"},\"colorscale\":[[0.0,\"#0d0887\"],[0.1111111111111111,\"#46039f\"],[0.2222222222222222,\"#7201a8\"],[0.3333333333333333,\"#9c179e\"],[0.4444444444444444,\"#bd3786\"],[0.5555555555555556,\"#d8576b\"],[0.6666666666666666,\"#ed7953\"],[0.7777777777777778,\"#fb9f3a\"],[0.8888888888888888,\"#fdca26\"],[1.0,\"#f0f921\"]]}],\"choropleth\":[{\"type\":\"choropleth\",\"colorbar\":{\"outlinewidth\":0,\"ticks\":\"\"}}],\"histogram2d\":[{\"type\":\"histogram2d\",\"colorbar\":{\"outlinewidth\":0,\"ticks\":\"\"},\"colorscale\":[[0.0,\"#0d0887\"],[0.1111111111111111,\"#46039f\"],[0.2222222222222222,\"#7201a8\"],[0.3333333333333333,\"#9c179e\"],[0.4444444444444444,\"#bd3786\"],[0.5555555555555556,\"#d8576b\"],[0.6666666666666666,\"#ed7953\"],[0.7777777777777778,\"#fb9f3a\"],[0.8888888888888888,\"#fdca26\"],[1.0,\"#f0f921\"]]}],\"heatmap\":[{\"type\":\"heatmap\",\"colorbar\":{\"outlinewidth\":0,\"ticks\":\"\"},\"colorscale\":[[0.0,\"#0d0887\"],[0.1111111111111111,\"#46039f\"],[0.2222222222222222,\"#7201a8\"],[0.3333333333333333,\"#9c179e\"],[0.4444444444444444,\"#bd3786\"],[0.5555555555555556,\"#d8576b\"],[0.6666666666666666,\"#ed7953\"],[0.7777777777777778,\"#fb9f3a\"],[0.8888888888888888,\"#fdca26\"],[1.0,\"#f0f921\"]]}],\"heatmapgl\":[{\"type\":\"heatmapgl\",\"colorbar\":{\"outlinewidth\":0,\"ticks\":\"\"},\"colorscale\":[[0.0,\"#0d0887\"],[0.1111111111111111,\"#46039f\"],[0.2222222222222222,\"#7201a8\"],[0.3333333333333333,\"#9c179e\"],[0.4444444444444444,\"#bd3786\"],[0.5555555555555556,\"#d8576b\"],[0.6666666666666666,\"#ed7953\"],[0.7777777777777778,\"#fb9f3a\"],[0.8888888888888888,\"#fdca26\"],[1.0,\"#f0f921\"]]}],\"contourcarpet\":[{\"type\":\"contourcarpet\",\"colorbar\":{\"outlinewidth\":0,\"ticks\":\"\"}}],\"contour\":[{\"type\":\"contour\",\"colorbar\":{\"outlinewidth\":0,\"ticks\":\"\"},\"colorscale\":[[0.0,\"#0d0887\"],[0.1111111111111111,\"#46039f\"],[0.2222222222222222,\"#7201a8\"],[0.3333333333333333,\"#9c179e\"],[0.4444444444444444,\"#bd3786\"],[0.5555555555555556,\"#d8576b\"],[0.6666666666666666,\"#ed7953\"],[0.7777777777777778,\"#fb9f3a\"],[0.8888888888888888,\"#fdca26\"],[1.0,\"#f0f921\"]]}],\"surface\":[{\"type\":\"surface\",\"colorbar\":{\"outlinewidth\":0,\"ticks\":\"\"},\"colorscale\":[[0.0,\"#0d0887\"],[0.1111111111111111,\"#46039f\"],[0.2222222222222222,\"#7201a8\"],[0.3333333333333333,\"#9c179e\"],[0.4444444444444444,\"#bd3786\"],[0.5555555555555556,\"#d8576b\"],[0.6666666666666666,\"#ed7953\"],[0.7777777777777778,\"#fb9f3a\"],[0.8888888888888888,\"#fdca26\"],[1.0,\"#f0f921\"]]}],\"mesh3d\":[{\"type\":\"mesh3d\",\"colorbar\":{\"outlinewidth\":0,\"ticks\":\"\"}}],\"scatter\":[{\"fillpattern\":{\"fillmode\":\"overlay\",\"size\":10,\"solidity\":0.2},\"type\":\"scatter\"}],\"parcoords\":[{\"type\":\"parcoords\",\"line\":{\"colorbar\":{\"outlinewidth\":0,\"ticks\":\"\"}}}],\"scatterpolargl\":[{\"type\":\"scatterpolargl\",\"marker\":{\"colorbar\":{\"outlinewidth\":0,\"ticks\":\"\"}}}],\"bar\":[{\"error_x\":{\"color\":\"#2a3f5f\"},\"error_y\":{\"color\":\"#2a3f5f\"},\"marker\":{\"line\":{\"color\":\"#E5ECF6\",\"width\":0.5},\"pattern\":{\"fillmode\":\"overlay\",\"size\":10,\"solidity\":0.2}},\"type\":\"bar\"}],\"scattergeo\":[{\"type\":\"scattergeo\",\"marker\":{\"colorbar\":{\"outlinewidth\":0,\"ticks\":\"\"}}}],\"scatterpolar\":[{\"type\":\"scatterpolar\",\"marker\":{\"colorbar\":{\"outlinewidth\":0,\"ticks\":\"\"}}}],\"histogram\":[{\"marker\":{\"pattern\":{\"fillmode\":\"overlay\",\"size\":10,\"solidity\":0.2}},\"type\":\"histogram\"}],\"scattergl\":[{\"type\":\"scattergl\",\"marker\":{\"colorbar\":{\"outlinewidth\":0,\"ticks\":\"\"}}}],\"scatter3d\":[{\"type\":\"scatter3d\",\"line\":{\"colorbar\":{\"outlinewidth\":0,\"ticks\":\"\"}},\"marker\":{\"colorbar\":{\"outlinewidth\":0,\"ticks\":\"\"}}}],\"scattermapbox\":[{\"type\":\"scattermapbox\",\"marker\":{\"colorbar\":{\"outlinewidth\":0,\"ticks\":\"\"}}}],\"scatterternary\":[{\"type\":\"scatterternary\",\"marker\":{\"colorbar\":{\"outlinewidth\":0,\"ticks\":\"\"}}}],\"scattercarpet\":[{\"type\":\"scattercarpet\",\"marker\":{\"colorbar\":{\"outlinewidth\":0,\"ticks\":\"\"}}}],\"carpet\":[{\"aaxis\":{\"endlinecolor\":\"#2a3f5f\",\"gridcolor\":\"white\",\"linecolor\":\"white\",\"minorgridcolor\":\"white\",\"startlinecolor\":\"#2a3f5f\"},\"baxis\":{\"endlinecolor\":\"#2a3f5f\",\"gridcolor\":\"white\",\"linecolor\":\"white\",\"minorgridcolor\":\"white\",\"startlinecolor\":\"#2a3f5f\"},\"type\":\"carpet\"}],\"table\":[{\"cells\":{\"fill\":{\"color\":\"#EBF0F8\"},\"line\":{\"color\":\"white\"}},\"header\":{\"fill\":{\"color\":\"#C8D4E3\"},\"line\":{\"color\":\"white\"}},\"type\":\"table\"}],\"barpolar\":[{\"marker\":{\"line\":{\"color\":\"#E5ECF6\",\"width\":0.5},\"pattern\":{\"fillmode\":\"overlay\",\"size\":10,\"solidity\":0.2}},\"type\":\"barpolar\"}],\"pie\":[{\"automargin\":true,\"type\":\"pie\"}]},\"layout\":{\"autotypenumbers\":\"strict\",\"colorway\":[\"#636efa\",\"#EF553B\",\"#00cc96\",\"#ab63fa\",\"#FFA15A\",\"#19d3f3\",\"#FF6692\",\"#B6E880\",\"#FF97FF\",\"#FECB52\"],\"font\":{\"color\":\"#2a3f5f\"},\"hovermode\":\"closest\",\"hoverlabel\":{\"align\":\"left\"},\"paper_bgcolor\":\"white\",\"plot_bgcolor\":\"#E5ECF6\",\"polar\":{\"bgcolor\":\"#E5ECF6\",\"angularaxis\":{\"gridcolor\":\"white\",\"linecolor\":\"white\",\"ticks\":\"\"},\"radialaxis\":{\"gridcolor\":\"white\",\"linecolor\":\"white\",\"ticks\":\"\"}},\"ternary\":{\"bgcolor\":\"#E5ECF6\",\"aaxis\":{\"gridcolor\":\"white\",\"linecolor\":\"white\",\"ticks\":\"\"},\"baxis\":{\"gridcolor\":\"white\",\"linecolor\":\"white\",\"ticks\":\"\"},\"caxis\":{\"gridcolor\":\"white\",\"linecolor\":\"white\",\"ticks\":\"\"}},\"coloraxis\":{\"colorbar\":{\"outlinewidth\":0,\"ticks\":\"\"}},\"colorscale\":{\"sequential\":[[0.0,\"#0d0887\"],[0.1111111111111111,\"#46039f\"],[0.2222222222222222,\"#7201a8\"],[0.3333333333333333,\"#9c179e\"],[0.4444444444444444,\"#bd3786\"],[0.5555555555555556,\"#d8576b\"],[0.6666666666666666,\"#ed7953\"],[0.7777777777777778,\"#fb9f3a\"],[0.8888888888888888,\"#fdca26\"],[1.0,\"#f0f921\"]],\"sequentialminus\":[[0.0,\"#0d0887\"],[0.1111111111111111,\"#46039f\"],[0.2222222222222222,\"#7201a8\"],[0.3333333333333333,\"#9c179e\"],[0.4444444444444444,\"#bd3786\"],[0.5555555555555556,\"#d8576b\"],[0.6666666666666666,\"#ed7953\"],[0.7777777777777778,\"#fb9f3a\"],[0.8888888888888888,\"#fdca26\"],[1.0,\"#f0f921\"]],\"diverging\":[[0,\"#8e0152\"],[0.1,\"#c51b7d\"],[0.2,\"#de77ae\"],[0.3,\"#f1b6da\"],[0.4,\"#fde0ef\"],[0.5,\"#f7f7f7\"],[0.6,\"#e6f5d0\"],[0.7,\"#b8e186\"],[0.8,\"#7fbc41\"],[0.9,\"#4d9221\"],[1,\"#276419\"]]},\"xaxis\":{\"gridcolor\":\"white\",\"linecolor\":\"white\",\"ticks\":\"\",\"title\":{\"standoff\":15},\"zerolinecolor\":\"white\",\"automargin\":true,\"zerolinewidth\":2},\"yaxis\":{\"gridcolor\":\"white\",\"linecolor\":\"white\",\"ticks\":\"\",\"title\":{\"standoff\":15},\"zerolinecolor\":\"white\",\"automargin\":true,\"zerolinewidth\":2},\"scene\":{\"xaxis\":{\"backgroundcolor\":\"#E5ECF6\",\"gridcolor\":\"white\",\"linecolor\":\"white\",\"showbackground\":true,\"ticks\":\"\",\"zerolinecolor\":\"white\",\"gridwidth\":2},\"yaxis\":{\"backgroundcolor\":\"#E5ECF6\",\"gridcolor\":\"white\",\"linecolor\":\"white\",\"showbackground\":true,\"ticks\":\"\",\"zerolinecolor\":\"white\",\"gridwidth\":2},\"zaxis\":{\"backgroundcolor\":\"#E5ECF6\",\"gridcolor\":\"white\",\"linecolor\":\"white\",\"showbackground\":true,\"ticks\":\"\",\"zerolinecolor\":\"white\",\"gridwidth\":2}},\"shapedefaults\":{\"line\":{\"color\":\"#2a3f5f\"}},\"annotationdefaults\":{\"arrowcolor\":\"#2a3f5f\",\"arrowhead\":0,\"arrowwidth\":1},\"geo\":{\"bgcolor\":\"white\",\"landcolor\":\"#E5ECF6\",\"subunitcolor\":\"white\",\"showland\":true,\"showlakes\":true,\"lakecolor\":\"white\"},\"title\":{\"x\":0.05},\"mapbox\":{\"style\":\"light\"}}},\"mapbox\":{\"domain\":{\"x\":[0.0,1.0],\"y\":[0.0,1.0]},\"center\":{\"lat\":36.4,\"lon\":128.1},\"accesstoken\":\"pk.eyJ1Ijoia3N0eWxlMDcxMCIsImEiOiJja2lwa3ZvM2gwNW1oMnRscmpnd3h3eHc2In0._8EKxsQhiot3haFfX5J-0A\",\"zoom\":7,\"style\":\"light\"},\"legend\":{\"title\":{\"text\":\"company\"},\"tracegroupgap\":0,\"itemsizing\":\"constant\"},\"margin\":{\"t\":60},\"height\":800,\"updatemenus\":[{\"buttons\":[{\"args\":[null,{\"frame\":{\"duration\":500,\"redraw\":true},\"mode\":\"immediate\",\"fromcurrent\":true,\"transition\":{\"duration\":500,\"easing\":\"linear\"}}],\"label\":\"&#9654;\",\"method\":\"animate\"},{\"args\":[[null],{\"frame\":{\"duration\":0,\"redraw\":true},\"mode\":\"immediate\",\"fromcurrent\":true,\"transition\":{\"duration\":0,\"easing\":\"linear\"}}],\"label\":\"&#9724;\",\"method\":\"animate\"}],\"direction\":\"left\",\"pad\":{\"r\":10,\"t\":70},\"showactive\":false,\"type\":\"buttons\",\"x\":0.1,\"xanchor\":\"right\",\"y\":0,\"yanchor\":\"top\"}],\"sliders\":[{\"active\":0,\"currentvalue\":{\"prefix\":\"\\uae30\\uc900\\uc77c\\uc790=\"},\"len\":0.9,\"pad\":{\"b\":10,\"t\":60},\"steps\":[{\"args\":[[\"t20210801\"],{\"frame\":{\"duration\":0,\"redraw\":true},\"mode\":\"immediate\",\"fromcurrent\":true,\"transition\":{\"duration\":0,\"easing\":\"linear\"}}],\"label\":\"t20210801\",\"method\":\"animate\"},{\"args\":[[\"t20211001\"],{\"frame\":{\"duration\":0,\"redraw\":true},\"mode\":\"immediate\",\"fromcurrent\":true,\"transition\":{\"duration\":0,\"easing\":\"linear\"}}],\"label\":\"t20211001\",\"method\":\"animate\"},{\"args\":[[\"t20220101\"],{\"frame\":{\"duration\":0,\"redraw\":true},\"mode\":\"immediate\",\"fromcurrent\":true,\"transition\":{\"duration\":0,\"easing\":\"linear\"}}],\"label\":\"t20220101\",\"method\":\"animate\"},{\"args\":[[\"t20220401\"],{\"frame\":{\"duration\":0,\"redraw\":true},\"mode\":\"immediate\",\"fromcurrent\":true,\"transition\":{\"duration\":0,\"easing\":\"linear\"}}],\"label\":\"t20220401\",\"method\":\"animate\"},{\"args\":[[\"t20220701\"],{\"frame\":{\"duration\":0,\"redraw\":true},\"mode\":\"immediate\",\"fromcurrent\":true,\"transition\":{\"duration\":0,\"easing\":\"linear\"}}],\"label\":\"t20220701\",\"method\":\"animate\"},{\"args\":[[\"t20221001\"],{\"frame\":{\"duration\":0,\"redraw\":true},\"mode\":\"immediate\",\"fromcurrent\":true,\"transition\":{\"duration\":0,\"easing\":\"linear\"}}],\"label\":\"t20221001\",\"method\":\"animate\"},{\"args\":[[\"t20230101\"],{\"frame\":{\"duration\":0,\"redraw\":true},\"mode\":\"immediate\",\"fromcurrent\":true,\"transition\":{\"duration\":0,\"easing\":\"linear\"}}],\"label\":\"t20230101\",\"method\":\"animate\"},{\"args\":[[\"t20230401\"],{\"frame\":{\"duration\":0,\"redraw\":true},\"mode\":\"immediate\",\"fromcurrent\":true,\"transition\":{\"duration\":0,\"easing\":\"linear\"}}],\"label\":\"t20230401\",\"method\":\"animate\"}],\"x\":0.1,\"xanchor\":\"left\",\"y\":0,\"yanchor\":\"top\"}]},                        {\"responsive\": true}                    ).then(function(){\n",
       "                            Plotly.addFrames('20c132f5-bcee-406c-a0f3-197c00eb4742', [{\"data\":[{\"customdata\":[[\"t20210801\",263],[\"t20210801\",13],[\"t20210801\",390],[\"t20210801\",53],[\"t20210801\",2092]],\"hovertemplate\":\"<b>%{hovertext}</b><br><br>company=%{text}<br>\\uae30\\uc900\\uc77c\\uc790=%{customdata[0]}<br>\\ub85c\\uadf8=%{marker.size}<br>\\uc704\\ub3c4=%{lat}<br>\\uacbd\\ub3c4=%{lon}<br>\\uc778\\uc6d0=%{customdata[1]}<extra></extra>\",\"hovertext\":[\"\\uad70\\uc0b0\\uacf5\\uc7a5\",\"\\ubcf4\\ub839Proving Ground\",\"\\ubd84\\ub2f9\\ub450\\uc0b0\\ud0c0\\uc6cc\",\"\\uc548\\uc0b0\\ubd80\\ud488\\uc13c\\ud130\",\"\\uc778\\ucc9c\\uacf5\\uc7a5\"],\"ids\":[\"\\uad70\\uc0b0\\uacf5\\uc7a5\",\"\\ubcf4\\ub839Proving Ground\",\"\\ubd84\\ub2f9\\ub450\\uc0b0\\ud0c0\\uc6cc\",\"\\uc548\\uc0b0\\ubd80\\ud488\\uc13c\\ud130\",\"\\uc778\\ucc9c\\uacf5\\uc7a5\"],\"lat\":[35.9677143,36.2851883,37.3640959,37.285315,37.4864609],\"legendgroup\":\"HDI\",\"lon\":[126.2500686,126.6371552,127.000353,126.8882818,126.6298197],\"marker\":{\"color\":\"#636efa\",\"opacity\":0.5,\"size\":[2.419955748489758,1.1139433523068367,2.591064607026499,1.724275869600789,3.3205616801952367],\"sizemode\":\"area\",\"sizeref\":0.0009223782444986769},\"mode\":\"markers+text\",\"name\":\"HDI\",\"showlegend\":true,\"subplot\":\"mapbox\",\"text\":[\"HDI\",\"HDI\",\"HDI\",\"HDI\",\"HDI\"],\"type\":\"scattermapbox\"},{\"customdata\":[[\"t20210801\",7],[\"t20210801\",28],[\"t20210801\",568],[\"t20210801\",88],[\"t20210801\",716],[\"t20210801\",27],[\"t20210801\",1]],\"hovertemplate\":\"<b>%{hovertext}</b><br><br>company=%{text}<br>\\uae30\\uc900\\uc77c\\uc790=%{customdata[0]}<br>\\ub85c\\uadf8=%{marker.size}<br>\\uc704\\ub3c4=%{lat}<br>\\uacbd\\ub3c4=%{lon}<br>\\uc778\\uc6d0=%{customdata[1]}<extra></extra>\",\"hovertext\":[\"\\uacbd\\uc8fc\",\"\\uad70\\uc0b0\",\"\\ubd84\\ub2f9\\uc0ac\\ubb34\\uc18c\",\"\\uc6a9\\uc778\\uc5f0\\uad6c\\uc18c\",\"\\uc6b8\\uc0b0\\ubcf8\\uc0ac\",\"\\uc74c\\uc131\",\"\\uc778\\ucc9c\"],\"ids\":[\"\\uacbd\\uc8fc\",\"\\uad70\\uc0b0\",\"\\ubd84\\ub2f9\\uc0ac\\ubb34\\uc18c\",\"\\uc6a9\\uc778\\uc5f0\\uad6c\\uc18c\",\"\\uc6b8\\uc0b0\\ubcf8\\uc0ac\",\"\\uc74c\\uc131\",\"\\uc778\\ucc9c\"],\"lat\":[35.946756301742,35.9697769709966,37.378442,37.3065744445032,35.5057777899586,36.9312095,37.4864609],\"legendgroup\":\"HCE\",\"lon\":[129.267161,126.596542336649,127.21423,127.137412074906,129.441743039015,127.752218,126.3298197],\"marker\":{\"color\":\"#EF553B\",\"opacity\":0.5,\"size\":[0.8450980400142568,1.4471580313422192,2.754348335711019,1.9444826721501687,2.8549130223078554,1.4313637641589874,0.0],\"sizemode\":\"area\",\"sizeref\":0.0009223782444986769},\"mode\":\"markers+text\",\"name\":\"HCE\",\"showlegend\":true,\"subplot\":\"mapbox\",\"text\":[\"HCE\",\"HCE\",\"HCE\",\"HCE\",\"HCE\",\"HCE\",\"HCE\"],\"type\":\"scattermapbox\"},{\"customdata\":[[\"t20210801\",14],[\"t20210801\",51],[\"t20210801\",8],[\"t20210801\",41]],\"hovertemplate\":\"<b>%{hovertext}</b><br><br>company=%{text}<br>\\uae30\\uc900\\uc77c\\uc790=%{customdata[0]}<br>\\ub85c\\uadf8=%{marker.size}<br>\\uc704\\ub3c4=%{lat}<br>\\uacbd\\ub3c4=%{lon}<br>\\uc778\\uc6d0=%{customdata[1]}<extra></extra>\",\"hovertext\":[\"\\uacbd\\uc8fc\",\"\\ubd84\\ub2f9\\uc0ac\\ubb34\\uc18c\",\"\\uc6a9\\uc778\\uc5f0\\uad6c\\uc18c\",\"\\uc6b8\\uc0b0\\ubcf8\\uc0ac\"],\"ids\":[\"\\uacbd\\uc8fc\",\"\\ubd84\\ub2f9\\uc0ac\\ubb34\\uc18c\",\"\\uc6a9\\uc778\\uc5f0\\uad6c\\uc18c\",\"\\uc6b8\\uc0b0\\ubcf8\\uc0ac\"],\"lat\":[35.946756301742,37.378442,37.3065744445032,35.5057777899586],\"legendgroup\":\"HDX\",\"lon\":[129.267161,127.21423,127.137412074906,129.441743039015],\"marker\":{\"color\":\"#00cc96\",\"opacity\":0.5,\"size\":[1.146128035678238,1.7075701760979363,0.9030899869919435,1.6127838567197355],\"sizemode\":\"area\",\"sizeref\":0.0009223782444986769},\"mode\":\"markers+text\",\"name\":\"HDX\",\"showlegend\":true,\"subplot\":\"mapbox\",\"text\":[\"HDX\",\"HDX\",\"HDX\",\"HDX\"],\"type\":\"scattermapbox\"}],\"name\":\"t20210801\"},{\"data\":[{\"customdata\":[[\"t20211001\",261],[\"t20211001\",13],[\"t20211001\",386],[\"t20211001\",53],[\"t20211001\",2088]],\"hovertemplate\":\"<b>%{hovertext}</b><br><br>company=%{text}<br>\\uae30\\uc900\\uc77c\\uc790=%{customdata[0]}<br>\\ub85c\\uadf8=%{marker.size}<br>\\uc704\\ub3c4=%{lat}<br>\\uacbd\\ub3c4=%{lon}<br>\\uc778\\uc6d0=%{customdata[1]}<extra></extra>\",\"hovertext\":[\"\\uad70\\uc0b0\\uacf5\\uc7a5\",\"\\ubcf4\\ub839Proving Ground\",\"\\ubd84\\ub2f9\\ub450\\uc0b0\\ud0c0\\uc6cc\",\"\\uc548\\uc0b0\\ubd80\\ud488\\uc13c\\ud130\",\"\\uc778\\ucc9c\\uacf5\\uc7a5\"],\"ids\":[\"\\uad70\\uc0b0\\uacf5\\uc7a5\",\"\\ubcf4\\ub839Proving Ground\",\"\\ubd84\\ub2f9\\ub450\\uc0b0\\ud0c0\\uc6cc\",\"\\uc548\\uc0b0\\ubd80\\ud488\\uc13c\\ud130\",\"\\uc778\\ucc9c\\uacf5\\uc7a5\"],\"lat\":[35.9677143,36.2851883,37.3640959,37.285315,37.4864609],\"legendgroup\":\"HDI\",\"lon\":[126.2500686,126.6371552,127.000353,126.8882818,126.6298197],\"marker\":{\"color\":\"#636efa\",\"opacity\":0.5,\"size\":[2.416640507338281,1.1139433523068367,2.586587304671755,1.724275869600789,3.3197304943302246],\"sizemode\":\"area\",\"sizeref\":0.0009223782444986769},\"mode\":\"markers+text\",\"name\":\"HDI\",\"showlegend\":true,\"subplot\":\"mapbox\",\"text\":[\"HDI\",\"HDI\",\"HDI\",\"HDI\",\"HDI\"],\"type\":\"scattermapbox\"},{\"customdata\":[[\"t20211001\",7],[\"t20211001\",28],[\"t20211001\",617],[\"t20211001\",88],[\"t20211001\",730],[\"t20211001\",27],[\"t20211001\",1]],\"hovertemplate\":\"<b>%{hovertext}</b><br><br>company=%{text}<br>\\uae30\\uc900\\uc77c\\uc790=%{customdata[0]}<br>\\ub85c\\uadf8=%{marker.size}<br>\\uc704\\ub3c4=%{lat}<br>\\uacbd\\ub3c4=%{lon}<br>\\uc778\\uc6d0=%{customdata[1]}<extra></extra>\",\"hovertext\":[\"\\uacbd\\uc8fc\",\"\\uad70\\uc0b0\",\"\\ubd84\\ub2f9\\uc0ac\\ubb34\\uc18c\",\"\\uc6a9\\uc778\\uc5f0\\uad6c\\uc18c\",\"\\uc6b8\\uc0b0\\ubcf8\\uc0ac\",\"\\uc74c\\uc131\",\"\\uc778\\ucc9c\"],\"ids\":[\"\\uacbd\\uc8fc\",\"\\uad70\\uc0b0\",\"\\ubd84\\ub2f9\\uc0ac\\ubb34\\uc18c\",\"\\uc6a9\\uc778\\uc5f0\\uad6c\\uc18c\",\"\\uc6b8\\uc0b0\\ubcf8\\uc0ac\",\"\\uc74c\\uc131\",\"\\uc778\\ucc9c\"],\"lat\":[35.946756301742,35.9697769709966,37.378442,37.3065744445032,35.5057777899586,36.9312095,37.4864609],\"legendgroup\":\"HCE\",\"lon\":[129.267161,126.596542336649,127.21423,127.137412074906,129.441743039015,127.752218,126.3298197],\"marker\":{\"color\":\"#EF553B\",\"opacity\":0.5,\"size\":[0.8450980400142568,1.4471580313422192,2.7902851640332416,1.9444826721501687,2.863322860120456,1.4313637641589874,0.0],\"sizemode\":\"area\",\"sizeref\":0.0009223782444986769},\"mode\":\"markers+text\",\"name\":\"HCE\",\"showlegend\":true,\"subplot\":\"mapbox\",\"text\":[\"HCE\",\"HCE\",\"HCE\",\"HCE\",\"HCE\",\"HCE\",\"HCE\"],\"type\":\"scattermapbox\"},{\"customdata\":[[\"t20211001\",14],[\"t20211001\",93],[\"t20211001\",8],[\"t20211001\",41]],\"hovertemplate\":\"<b>%{hovertext}</b><br><br>company=%{text}<br>\\uae30\\uc900\\uc77c\\uc790=%{customdata[0]}<br>\\ub85c\\uadf8=%{marker.size}<br>\\uc704\\ub3c4=%{lat}<br>\\uacbd\\ub3c4=%{lon}<br>\\uc778\\uc6d0=%{customdata[1]}<extra></extra>\",\"hovertext\":[\"\\uacbd\\uc8fc\",\"\\ubd84\\ub2f9\\uc0ac\\ubb34\\uc18c\",\"\\uc6a9\\uc778\\uc5f0\\uad6c\\uc18c\",\"\\uc6b8\\uc0b0\\ubcf8\\uc0ac\"],\"ids\":[\"\\uacbd\\uc8fc\",\"\\ubd84\\ub2f9\\uc0ac\\ubb34\\uc18c\",\"\\uc6a9\\uc778\\uc5f0\\uad6c\\uc18c\",\"\\uc6b8\\uc0b0\\ubcf8\\uc0ac\"],\"lat\":[35.946756301742,37.378442,37.3065744445032,35.5057777899586],\"legendgroup\":\"HDX\",\"lon\":[129.267161,127.21423,127.137412074906,129.441743039015],\"marker\":{\"color\":\"#00cc96\",\"opacity\":0.5,\"size\":[1.146128035678238,1.968482948553935,0.9030899869919435,1.6127838567197355],\"sizemode\":\"area\",\"sizeref\":0.0009223782444986769},\"mode\":\"markers+text\",\"name\":\"HDX\",\"showlegend\":true,\"subplot\":\"mapbox\",\"text\":[\"HDX\",\"HDX\",\"HDX\",\"HDX\"],\"type\":\"scattermapbox\"}],\"name\":\"t20211001\"},{\"data\":[{\"customdata\":[[\"t20220101\",1],[\"t20220101\",265],[\"t20220101\",12],[\"t20220101\",363],[\"t20220101\",65],[\"t20220101\",1993]],\"hovertemplate\":\"<b>%{hovertext}</b><br><br>company=%{text}<br>\\uae30\\uc900\\uc77c\\uc790=%{customdata[0]}<br>\\ub85c\\uadf8=%{marker.size}<br>\\uc704\\ub3c4=%{lat}<br>\\uacbd\\ub3c4=%{lon}<br>\\uc778\\uc6d0=%{customdata[1]}<extra></extra>\",\"hovertext\":[\"GRC\",\"\\uad70\\uc0b0\\uacf5\\uc7a5\",\"\\ubcf4\\ub839Proving Ground\",\"\\ubd84\\ub2f9\\ub450\\uc0b0\\ud0c0\\uc6cc\",\"\\uc548\\uc0b0\\ubd80\\ud488\\uc13c\\ud130\",\"\\uc778\\ucc9c\\uacf5\\uc7a5\"],\"ids\":[\"GRC\",\"\\uad70\\uc0b0\\uacf5\\uc7a5\",\"\\ubcf4\\ub839Proving Ground\",\"\\ubd84\\ub2f9\\ub450\\uc0b0\\ud0c0\\uc6cc\",\"\\uc548\\uc0b0\\ubd80\\ud488\\uc13c\\ud130\",\"\\uc778\\ucc9c\\uacf5\\uc7a5\"],\"lat\":[37.3769230243523,35.9677143,36.2851883,37.3640959,37.285315,37.4864609],\"legendgroup\":\"HDI\",\"lon\":[127.106107697859,126.2500686,126.6371552,127.000353,126.8882818,126.6298197],\"marker\":{\"color\":\"#636efa\",\"opacity\":0.5,\"size\":[0.0,2.423245873936808,1.0791812460476249,2.5599066250361124,1.8129133566428555,3.2995072987004876],\"sizemode\":\"area\",\"sizeref\":0.0009223782444986769},\"mode\":\"markers+text\",\"name\":\"HDI\",\"showlegend\":true,\"subplot\":\"mapbox\",\"text\":[\"HDI\",\"HDI\",\"HDI\",\"HDI\",\"HDI\",\"HDI\"],\"type\":\"scattermapbox\"},{\"customdata\":[[\"t20220101\",7],[\"t20220101\",10],[\"t20220101\",466],[\"t20220101\",85],[\"t20220101\",715],[\"t20220101\",27],[\"t20220101\",1]],\"hovertemplate\":\"<b>%{hovertext}</b><br><br>company=%{text}<br>\\uae30\\uc900\\uc77c\\uc790=%{customdata[0]}<br>\\ub85c\\uadf8=%{marker.size}<br>\\uc704\\ub3c4=%{lat}<br>\\uacbd\\ub3c4=%{lon}<br>\\uc778\\uc6d0=%{customdata[1]}<extra></extra>\",\"hovertext\":[\"\\uacbd\\uc8fc\",\"\\uad70\\uc0b0\",\"\\ubd84\\ub2f9\\uc0ac\\ubb34\\uc18c\",\"\\uc6a9\\uc778\\uc5f0\\uad6c\\uc18c\",\"\\uc6b8\\uc0b0\\ubcf8\\uc0ac\",\"\\uc74c\\uc131\",\"\\uc778\\ucc9c\"],\"ids\":[\"\\uacbd\\uc8fc\",\"\\uad70\\uc0b0\",\"\\ubd84\\ub2f9\\uc0ac\\ubb34\\uc18c\",\"\\uc6a9\\uc778\\uc5f0\\uad6c\\uc18c\",\"\\uc6b8\\uc0b0\\ubcf8\\uc0ac\",\"\\uc74c\\uc131\",\"\\uc778\\ucc9c\"],\"lat\":[35.946756301742,35.9697769709966,37.378442,37.3065744445032,35.5057777899586,36.9312095,37.4864609],\"legendgroup\":\"HCE\",\"lon\":[129.267161,126.596542336649,127.21423,127.137412074906,129.441743039015,127.752218,126.3298197],\"marker\":{\"color\":\"#EF553B\",\"opacity\":0.5,\"size\":[0.8450980400142568,1.0,2.66838591669,1.9294189257142926,2.8543060418010806,1.4313637641589874,0.0],\"sizemode\":\"area\",\"sizeref\":0.0009223782444986769},\"mode\":\"markers+text\",\"name\":\"HCE\",\"showlegend\":true,\"subplot\":\"mapbox\",\"text\":[\"HCE\",\"HCE\",\"HCE\",\"HCE\",\"HCE\",\"HCE\",\"HCE\"],\"type\":\"scattermapbox\"},{\"customdata\":[[\"t20220101\",14],[\"t20220101\",13],[\"t20220101\",331],[\"t20220101\",10],[\"t20220101\",48]],\"hovertemplate\":\"<b>%{hovertext}</b><br><br>company=%{text}<br>\\uae30\\uc900\\uc77c\\uc790=%{customdata[0]}<br>\\ub85c\\uadf8=%{marker.size}<br>\\uc704\\ub3c4=%{lat}<br>\\uacbd\\ub3c4=%{lon}<br>\\uc778\\uc6d0=%{customdata[1]}<extra></extra>\",\"hovertext\":[\"\\uacbd\\uc8fc\",\"\\uad70\\uc0b0\",\"\\ubd84\\ub2f9\\uc0ac\\ubb34\\uc18c\",\"\\uc6a9\\uc778\\uc5f0\\uad6c\\uc18c\",\"\\uc6b8\\uc0b0\\ubcf8\\uc0ac\"],\"ids\":[\"\\uacbd\\uc8fc\",\"\\uad70\\uc0b0\",\"\\ubd84\\ub2f9\\uc0ac\\ubb34\\uc18c\",\"\\uc6a9\\uc778\\uc5f0\\uad6c\\uc18c\",\"\\uc6b8\\uc0b0\\ubcf8\\uc0ac\"],\"lat\":[35.946756301742,35.9697769709966,37.378442,37.3065744445032,35.5057777899586],\"legendgroup\":\"HDX\",\"lon\":[129.267161,126.596542336649,127.21423,127.137412074906,129.441743039015],\"marker\":{\"color\":\"#00cc96\",\"opacity\":0.5,\"size\":[1.146128035678238,1.1139433523068367,2.519827993775719,1.0,1.6812412373755872],\"sizemode\":\"area\",\"sizeref\":0.0009223782444986769},\"mode\":\"markers+text\",\"name\":\"HDX\",\"showlegend\":true,\"subplot\":\"mapbox\",\"text\":[\"HDX\",\"HDX\",\"HDX\",\"HDX\",\"HDX\"],\"type\":\"scattermapbox\"}],\"name\":\"t20220101\"},{\"data\":[{\"customdata\":[[\"t20220401\",1],[\"t20220401\",282],[\"t20220401\",11],[\"t20220401\",354],[\"t20220401\",72],[\"t20220401\",2067]],\"hovertemplate\":\"<b>%{hovertext}</b><br><br>company=%{text}<br>\\uae30\\uc900\\uc77c\\uc790=%{customdata[0]}<br>\\ub85c\\uadf8=%{marker.size}<br>\\uc704\\ub3c4=%{lat}<br>\\uacbd\\ub3c4=%{lon}<br>\\uc778\\uc6d0=%{customdata[1]}<extra></extra>\",\"hovertext\":[\"GRC\",\"\\uad70\\uc0b0\\uacf5\\uc7a5\",\"\\ubcf4\\ub839Proving Ground\",\"\\ubd84\\ub2f9\\ub450\\uc0b0\\ud0c0\\uc6cc\",\"\\uc548\\uc0b0\\ubd80\\ud488\\uc13c\\ud130\",\"\\uc778\\ucc9c\\uacf5\\uc7a5\"],\"ids\":[\"GRC\",\"\\uad70\\uc0b0\\uacf5\\uc7a5\",\"\\ubcf4\\ub839Proving Ground\",\"\\ubd84\\ub2f9\\ub450\\uc0b0\\ud0c0\\uc6cc\",\"\\uc548\\uc0b0\\ubd80\\ud488\\uc13c\\ud130\",\"\\uc778\\ucc9c\\uacf5\\uc7a5\"],\"lat\":[37.3769230243523,35.9677143,36.2851883,37.3640959,37.285315,37.4864609],\"legendgroup\":\"HDI\",\"lon\":[127.106107697859,126.2500686,126.6371552,127.000353,126.8882818,126.6298197],\"marker\":{\"color\":\"#636efa\",\"opacity\":0.5,\"size\":[0.0,2.450249108319361,1.0413926851582251,2.5490032620257876,1.8573324964312685,3.3153404766272883],\"sizemode\":\"area\",\"sizeref\":0.0009223782444986769},\"mode\":\"markers+text\",\"name\":\"HDI\",\"showlegend\":true,\"subplot\":\"mapbox\",\"text\":[\"HDI\",\"HDI\",\"HDI\",\"HDI\",\"HDI\",\"HDI\"],\"type\":\"scattermapbox\"},{\"customdata\":[[\"t20220401\",7],[\"t20220401\",10],[\"t20220401\",469],[\"t20220401\",89],[\"t20220401\",732],[\"t20220401\",30],[\"t20220401\",1]],\"hovertemplate\":\"<b>%{hovertext}</b><br><br>company=%{text}<br>\\uae30\\uc900\\uc77c\\uc790=%{customdata[0]}<br>\\ub85c\\uadf8=%{marker.size}<br>\\uc704\\ub3c4=%{lat}<br>\\uacbd\\ub3c4=%{lon}<br>\\uc778\\uc6d0=%{customdata[1]}<extra></extra>\",\"hovertext\":[\"\\uacbd\\uc8fc\",\"\\uad70\\uc0b0\",\"\\ubd84\\ub2f9\\uc0ac\\ubb34\\uc18c\",\"\\uc6a9\\uc778\\uc5f0\\uad6c\\uc18c\",\"\\uc6b8\\uc0b0\\ubcf8\\uc0ac\",\"\\uc74c\\uc131\",\"\\uc778\\ucc9c\"],\"ids\":[\"\\uacbd\\uc8fc\",\"\\uad70\\uc0b0\",\"\\ubd84\\ub2f9\\uc0ac\\ubb34\\uc18c\",\"\\uc6a9\\uc778\\uc5f0\\uad6c\\uc18c\",\"\\uc6b8\\uc0b0\\ubcf8\\uc0ac\",\"\\uc74c\\uc131\",\"\\uc778\\ucc9c\"],\"lat\":[35.946756301742,35.9697769709966,37.378442,37.3065744445032,35.5057777899586,36.9312095,37.4864609],\"legendgroup\":\"HCE\",\"lon\":[129.267161,126.596542336649,127.21423,127.137412074906,129.441743039015,127.752218,126.3298197],\"marker\":{\"color\":\"#EF553B\",\"opacity\":0.5,\"size\":[0.8450980400142568,1.0,2.6711728427150834,1.9493900066449128,2.864511081058392,1.4771212547196624,0.0],\"sizemode\":\"area\",\"sizeref\":0.0009223782444986769},\"mode\":\"markers+text\",\"name\":\"HCE\",\"showlegend\":true,\"subplot\":\"mapbox\",\"text\":[\"HCE\",\"HCE\",\"HCE\",\"HCE\",\"HCE\",\"HCE\",\"HCE\"],\"type\":\"scattermapbox\"},{\"customdata\":[[\"t20220401\",14],[\"t20220401\",7],[\"t20220401\",353],[\"t20220401\",10],[\"t20220401\",55]],\"hovertemplate\":\"<b>%{hovertext}</b><br><br>company=%{text}<br>\\uae30\\uc900\\uc77c\\uc790=%{customdata[0]}<br>\\ub85c\\uadf8=%{marker.size}<br>\\uc704\\ub3c4=%{lat}<br>\\uacbd\\ub3c4=%{lon}<br>\\uc778\\uc6d0=%{customdata[1]}<extra></extra>\",\"hovertext\":[\"\\uacbd\\uc8fc\",\"\\uad70\\uc0b0\",\"\\ubd84\\ub2f9\\uc0ac\\ubb34\\uc18c\",\"\\uc6a9\\uc778\\uc5f0\\uad6c\\uc18c\",\"\\uc6b8\\uc0b0\\ubcf8\\uc0ac\"],\"ids\":[\"\\uacbd\\uc8fc\",\"\\uad70\\uc0b0\",\"\\ubd84\\ub2f9\\uc0ac\\ubb34\\uc18c\",\"\\uc6a9\\uc778\\uc5f0\\uad6c\\uc18c\",\"\\uc6b8\\uc0b0\\ubcf8\\uc0ac\"],\"lat\":[35.946756301742,35.9697769709966,37.378442,37.3065744445032,35.5057777899586],\"legendgroup\":\"HDX\",\"lon\":[129.267161,126.596542336649,127.21423,127.137412074906,129.441743039015],\"marker\":{\"color\":\"#00cc96\",\"opacity\":0.5,\"size\":[1.146128035678238,0.8450980400142568,2.5477747053878224,1.0,1.7403626894942439],\"sizemode\":\"area\",\"sizeref\":0.0009223782444986769},\"mode\":\"markers+text\",\"name\":\"HDX\",\"showlegend\":true,\"subplot\":\"mapbox\",\"text\":[\"HDX\",\"HDX\",\"HDX\",\"HDX\",\"HDX\"],\"type\":\"scattermapbox\"}],\"name\":\"t20220401\"},{\"data\":[{\"customdata\":[[\"t20220701\",1],[\"t20220701\",285],[\"t20220701\",11],[\"t20220701\",367],[\"t20220701\",73],[\"t20220701\",2037]],\"hovertemplate\":\"<b>%{hovertext}</b><br><br>company=%{text}<br>\\uae30\\uc900\\uc77c\\uc790=%{customdata[0]}<br>\\ub85c\\uadf8=%{marker.size}<br>\\uc704\\ub3c4=%{lat}<br>\\uacbd\\ub3c4=%{lon}<br>\\uc778\\uc6d0=%{customdata[1]}<extra></extra>\",\"hovertext\":[\"GRC\",\"\\uad70\\uc0b0\\uacf5\\uc7a5\",\"\\ubcf4\\ub839Proving Ground\",\"\\ubd84\\ub2f9\\ub450\\uc0b0\\ud0c0\\uc6cc\",\"\\uc548\\uc0b0\\ubd80\\ud488\\uc13c\\ud130\",\"\\uc778\\ucc9c\\uacf5\\uc7a5\"],\"ids\":[\"GRC\",\"\\uad70\\uc0b0\\uacf5\\uc7a5\",\"\\ubcf4\\ub839Proving Ground\",\"\\ubd84\\ub2f9\\ub450\\uc0b0\\ud0c0\\uc6cc\",\"\\uc548\\uc0b0\\ubd80\\ud488\\uc13c\\ud130\",\"\\uc778\\ucc9c\\uacf5\\uc7a5\"],\"lat\":[37.3769230243523,35.9677143,36.2851883,37.3640959,37.285315,37.4864609],\"legendgroup\":\"HDI\",\"lon\":[127.106107697859,126.2500686,126.6371552,127.000353,126.8882818,126.6298197],\"marker\":{\"color\":\"#636efa\",\"opacity\":0.5,\"size\":[0.0,2.45484486000851,1.0413926851582251,2.5646660642520893,1.863322860120456,3.3089910290001643],\"sizemode\":\"area\",\"sizeref\":0.0009223782444986769},\"mode\":\"markers+text\",\"name\":\"HDI\",\"showlegend\":true,\"subplot\":\"mapbox\",\"text\":[\"HDI\",\"HDI\",\"HDI\",\"HDI\",\"HDI\",\"HDI\"],\"type\":\"scattermapbox\"},{\"customdata\":[[\"t20220701\",7],[\"t20220701\",9],[\"t20220701\",462],[\"t20220701\",101],[\"t20220701\",747],[\"t20220701\",31]],\"hovertemplate\":\"<b>%{hovertext}</b><br><br>company=%{text}<br>\\uae30\\uc900\\uc77c\\uc790=%{customdata[0]}<br>\\ub85c\\uadf8=%{marker.size}<br>\\uc704\\ub3c4=%{lat}<br>\\uacbd\\ub3c4=%{lon}<br>\\uc778\\uc6d0=%{customdata[1]}<extra></extra>\",\"hovertext\":[\"\\uacbd\\uc8fc\",\"\\uad70\\uc0b0\",\"\\ubd84\\ub2f9\\uc0ac\\ubb34\\uc18c\",\"\\uc6a9\\uc778\\uc5f0\\uad6c\\uc18c\",\"\\uc6b8\\uc0b0\\ubcf8\\uc0ac\",\"\\uc74c\\uc131\"],\"ids\":[\"\\uacbd\\uc8fc\",\"\\uad70\\uc0b0\",\"\\ubd84\\ub2f9\\uc0ac\\ubb34\\uc18c\",\"\\uc6a9\\uc778\\uc5f0\\uad6c\\uc18c\",\"\\uc6b8\\uc0b0\\ubcf8\\uc0ac\",\"\\uc74c\\uc131\"],\"lat\":[35.946756301742,35.9697769709966,37.378442,37.3065744445032,35.5057777899586,36.9312095],\"legendgroup\":\"HCE\",\"lon\":[129.267161,126.596542336649,127.21423,127.137412074906,129.441743039015,127.752218],\"marker\":{\"color\":\"#EF553B\",\"opacity\":0.5,\"size\":[0.8450980400142568,0.9542425094393249,2.6646419755561257,2.0043213737826426,2.873320601815399,1.4913616938342726],\"sizemode\":\"area\",\"sizeref\":0.0009223782444986769},\"mode\":\"markers+text\",\"name\":\"HCE\",\"showlegend\":true,\"subplot\":\"mapbox\",\"text\":[\"HCE\",\"HCE\",\"HCE\",\"HCE\",\"HCE\",\"HCE\"],\"type\":\"scattermapbox\"},{\"customdata\":[[\"t20220701\",14],[\"t20220701\",8],[\"t20220701\",357],[\"t20220701\",9],[\"t20220701\",56],[\"t20220701\",10]],\"hovertemplate\":\"<b>%{hovertext}</b><br><br>company=%{text}<br>\\uae30\\uc900\\uc77c\\uc790=%{customdata[0]}<br>\\ub85c\\uadf8=%{marker.size}<br>\\uc704\\ub3c4=%{lat}<br>\\uacbd\\ub3c4=%{lon}<br>\\uc778\\uc6d0=%{customdata[1]}<extra></extra>\",\"hovertext\":[\"\\uacbd\\uc8fc\",\"\\uad70\\uc0b0\",\"\\ubd84\\ub2f9\\uc0ac\\ubb34\\uc18c\",\"\\uc6a9\\uc778\\uc5f0\\uad6c\\uc18c\",\"\\uc6b8\\uc0b0\\ubcf8\\uc0ac\",\"\\uc778\\ucc9c\"],\"ids\":[\"\\uacbd\\uc8fc\",\"\\uad70\\uc0b0\",\"\\ubd84\\ub2f9\\uc0ac\\ubb34\\uc18c\",\"\\uc6a9\\uc778\\uc5f0\\uad6c\\uc18c\",\"\\uc6b8\\uc0b0\\ubcf8\\uc0ac\",\"\\uc778\\ucc9c\"],\"lat\":[35.946756301742,35.9697769709966,37.378442,37.3065744445032,35.5057777899586,37.4864609],\"legendgroup\":\"HDX\",\"lon\":[129.267161,126.596542336649,127.21423,127.137412074906,129.441743039015,126.3298197],\"marker\":{\"color\":\"#00cc96\",\"opacity\":0.5,\"size\":[1.146128035678238,0.9030899869919435,2.552668216112193,0.9542425094393249,1.7481880270062005,1.0],\"sizemode\":\"area\",\"sizeref\":0.0009223782444986769},\"mode\":\"markers+text\",\"name\":\"HDX\",\"showlegend\":true,\"subplot\":\"mapbox\",\"text\":[\"HDX\",\"HDX\",\"HDX\",\"HDX\",\"HDX\",\"HDX\"],\"type\":\"scattermapbox\"}],\"name\":\"t20220701\"},{\"data\":[{\"customdata\":[[\"t20221001\",1],[\"t20221001\",287],[\"t20221001\",11],[\"t20221001\",335],[\"t20221001\",73],[\"t20221001\",2030]],\"hovertemplate\":\"<b>%{hovertext}</b><br><br>company=%{text}<br>\\uae30\\uc900\\uc77c\\uc790=%{customdata[0]}<br>\\ub85c\\uadf8=%{marker.size}<br>\\uc704\\ub3c4=%{lat}<br>\\uacbd\\ub3c4=%{lon}<br>\\uc778\\uc6d0=%{customdata[1]}<extra></extra>\",\"hovertext\":[\"GRC\",\"\\uad70\\uc0b0\\uacf5\\uc7a5\",\"\\ubcf4\\ub839Proving Ground\",\"\\ubd84\\ub2f9\\ub450\\uc0b0\\ud0c0\\uc6cc\",\"\\uc548\\uc0b0\\ubd80\\ud488\\uc13c\\ud130\",\"\\uc778\\ucc9c\\uacf5\\uc7a5\"],\"ids\":[\"GRC\",\"\\uad70\\uc0b0\\uacf5\\uc7a5\",\"\\ubcf4\\ub839Proving Ground\",\"\\ubd84\\ub2f9\\ub450\\uc0b0\\ud0c0\\uc6cc\",\"\\uc548\\uc0b0\\ubd80\\ud488\\uc13c\\ud130\",\"\\uc778\\ucc9c\\uacf5\\uc7a5\"],\"lat\":[37.3769230243523,35.9677143,36.2851883,37.3640959,37.285315,37.4864609],\"legendgroup\":\"HDI\",\"lon\":[127.106107697859,126.2500686,126.6371552,127.000353,126.8882818,126.6298197],\"marker\":{\"color\":\"#636efa\",\"opacity\":0.5,\"size\":[0.0,2.4578818967339924,1.0413926851582251,2.525044807036845,1.863322860120456,3.307496037913213],\"sizemode\":\"area\",\"sizeref\":0.0009223782444986769},\"mode\":\"markers+text\",\"name\":\"HDI\",\"showlegend\":true,\"subplot\":\"mapbox\",\"text\":[\"HDI\",\"HDI\",\"HDI\",\"HDI\",\"HDI\",\"HDI\"],\"type\":\"scattermapbox\"},{\"customdata\":[[\"t20221001\",1],[\"t20221001\",7],[\"t20221001\",9],[\"t20221001\",458],[\"t20221001\",102],[\"t20221001\",747],[\"t20221001\",30]],\"hovertemplate\":\"<b>%{hovertext}</b><br><br>company=%{text}<br>\\uae30\\uc900\\uc77c\\uc790=%{customdata[0]}<br>\\ub85c\\uadf8=%{marker.size}<br>\\uc704\\ub3c4=%{lat}<br>\\uacbd\\ub3c4=%{lon}<br>\\uc778\\uc6d0=%{customdata[1]}<extra></extra>\",\"hovertext\":[\"GRC\",\"\\uacbd\\uc8fc\",\"\\uad70\\uc0b0\",\"\\ubd84\\ub2f9\\uc0ac\\ubb34\\uc18c\",\"\\uc6a9\\uc778\\uc5f0\\uad6c\\uc18c\",\"\\uc6b8\\uc0b0\\ubcf8\\uc0ac\",\"\\uc74c\\uc131\"],\"ids\":[\"GRC\",\"\\uacbd\\uc8fc\",\"\\uad70\\uc0b0\",\"\\ubd84\\ub2f9\\uc0ac\\ubb34\\uc18c\",\"\\uc6a9\\uc778\\uc5f0\\uad6c\\uc18c\",\"\\uc6b8\\uc0b0\\ubcf8\\uc0ac\",\"\\uc74c\\uc131\"],\"lat\":[37.3769230243523,35.946756301742,35.9697769709966,37.378442,37.3065744445032,35.5057777899586,36.9312095],\"legendgroup\":\"HCE\",\"lon\":[127.106107697859,129.267161,126.596542336649,127.21423,127.137412074906,129.441743039015,127.752218],\"marker\":{\"color\":\"#EF553B\",\"opacity\":0.5,\"size\":[0.0,0.8450980400142568,0.9542425094393249,2.660865478003869,2.0086001717619175,2.873320601815399,1.4771212547196624],\"sizemode\":\"area\",\"sizeref\":0.0009223782444986769},\"mode\":\"markers+text\",\"name\":\"HCE\",\"showlegend\":true,\"subplot\":\"mapbox\",\"text\":[\"HCE\",\"HCE\",\"HCE\",\"HCE\",\"HCE\",\"HCE\",\"HCE\"],\"type\":\"scattermapbox\"},{\"customdata\":[[\"t20221001\",14],[\"t20221001\",8],[\"t20221001\",356],[\"t20221001\",9],[\"t20221001\",60],[\"t20221001\",12]],\"hovertemplate\":\"<b>%{hovertext}</b><br><br>company=%{text}<br>\\uae30\\uc900\\uc77c\\uc790=%{customdata[0]}<br>\\ub85c\\uadf8=%{marker.size}<br>\\uc704\\ub3c4=%{lat}<br>\\uacbd\\ub3c4=%{lon}<br>\\uc778\\uc6d0=%{customdata[1]}<extra></extra>\",\"hovertext\":[\"\\uacbd\\uc8fc\",\"\\uad70\\uc0b0\",\"\\ubd84\\ub2f9\\uc0ac\\ubb34\\uc18c\",\"\\uc6a9\\uc778\\uc5f0\\uad6c\\uc18c\",\"\\uc6b8\\uc0b0\\ubcf8\\uc0ac\",\"\\uc778\\ucc9c\"],\"ids\":[\"\\uacbd\\uc8fc\",\"\\uad70\\uc0b0\",\"\\ubd84\\ub2f9\\uc0ac\\ubb34\\uc18c\",\"\\uc6a9\\uc778\\uc5f0\\uad6c\\uc18c\",\"\\uc6b8\\uc0b0\\ubcf8\\uc0ac\",\"\\uc778\\ucc9c\"],\"lat\":[35.946756301742,35.9697769709966,37.378442,37.3065744445032,35.5057777899586,37.4864609],\"legendgroup\":\"HDX\",\"lon\":[129.267161,126.596542336649,127.21423,127.137412074906,129.441743039015,126.3298197],\"marker\":{\"color\":\"#00cc96\",\"opacity\":0.5,\"size\":[1.146128035678238,0.9030899869919435,2.5514499979728753,0.9542425094393249,1.7781512503836436,1.0791812460476249],\"sizemode\":\"area\",\"sizeref\":0.0009223782444986769},\"mode\":\"markers+text\",\"name\":\"HDX\",\"showlegend\":true,\"subplot\":\"mapbox\",\"text\":[\"HDX\",\"HDX\",\"HDX\",\"HDX\",\"HDX\",\"HDX\"],\"type\":\"scattermapbox\"}],\"name\":\"t20221001\"},{\"data\":[{\"customdata\":[[\"t20230101\",745],[\"t20230101\",295],[\"t20230101\",12],[\"t20230101\",65],[\"t20230101\",1663]],\"hovertemplate\":\"<b>%{hovertext}</b><br><br>company=%{text}<br>\\uae30\\uc900\\uc77c\\uc790=%{customdata[0]}<br>\\ub85c\\uadf8=%{marker.size}<br>\\uc704\\ub3c4=%{lat}<br>\\uacbd\\ub3c4=%{lon}<br>\\uc778\\uc6d0=%{customdata[1]}<extra></extra>\",\"hovertext\":[\"GRC\",\"\\uad70\\uc0b0\\uacf5\\uc7a5\",\"\\ubcf4\\ub839Proving Ground\",\"\\uc548\\uc0b0\\ubd80\\ud488\\uc13c\\ud130\",\"\\uc778\\ucc9c\\uacf5\\uc7a5\"],\"ids\":[\"GRC\",\"\\uad70\\uc0b0\\uacf5\\uc7a5\",\"\\ubcf4\\ub839Proving Ground\",\"\\uc548\\uc0b0\\ubd80\\ud488\\uc13c\\ud130\",\"\\uc778\\ucc9c\\uacf5\\uc7a5\"],\"lat\":[37.3769230243523,35.9677143,36.2851883,37.285315,37.4864609],\"legendgroup\":\"HDI\",\"lon\":[127.106107697859,126.2500686,126.6371552,126.8882818,126.6298197],\"marker\":{\"color\":\"#636efa\",\"opacity\":0.5,\"size\":[2.8721562727482928,2.469822015978163,1.0791812460476249,1.8129133566428555,3.2208922492195193],\"sizemode\":\"area\",\"sizeref\":0.0009223782444986769},\"mode\":\"markers+text\",\"name\":\"HDI\",\"showlegend\":true,\"subplot\":\"mapbox\",\"text\":[\"HDI\",\"HDI\",\"HDI\",\"HDI\",\"HDI\"],\"type\":\"scattermapbox\"},{\"customdata\":[[\"t20230101\",472],[\"t20230101\",7],[\"t20230101\",6],[\"t20230101\",17],[\"t20230101\",63],[\"t20230101\",731],[\"t20230101\",30]],\"hovertemplate\":\"<b>%{hovertext}</b><br><br>company=%{text}<br>\\uae30\\uc900\\uc77c\\uc790=%{customdata[0]}<br>\\ub85c\\uadf8=%{marker.size}<br>\\uc704\\ub3c4=%{lat}<br>\\uacbd\\ub3c4=%{lon}<br>\\uc778\\uc6d0=%{customdata[1]}<extra></extra>\",\"hovertext\":[\"GRC\",\"\\uacbd\\uc8fc\",\"\\uad70\\uc0b0\",\"\\ubd84\\ub2f9\\uc0ac\\ubb34\\uc18c\",\"\\uc6a9\\uc778\\uc5f0\\uad6c\\uc18c\",\"\\uc6b8\\uc0b0\\ubcf8\\uc0ac\",\"\\uc74c\\uc131\"],\"ids\":[\"GRC\",\"\\uacbd\\uc8fc\",\"\\uad70\\uc0b0\",\"\\ubd84\\ub2f9\\uc0ac\\ubb34\\uc18c\",\"\\uc6a9\\uc778\\uc5f0\\uad6c\\uc18c\",\"\\uc6b8\\uc0b0\\ubcf8\\uc0ac\",\"\\uc74c\\uc131\"],\"lat\":[37.3769230243523,35.946756301742,35.9697769709966,37.378442,37.3065744445032,35.5057777899586,36.9312095],\"legendgroup\":\"HCE\",\"lon\":[127.106107697859,129.267161,126.596542336649,127.21423,127.137412074906,129.441743039015,127.752218],\"marker\":{\"color\":\"#EF553B\",\"opacity\":0.5,\"size\":[2.673941998634088,0.8450980400142568,0.7781512503836436,1.2304489213782739,1.7993405494535817,2.8639173769578603,1.4771212547196624],\"sizemode\":\"area\",\"sizeref\":0.0009223782444986769},\"mode\":\"markers+text\",\"name\":\"HCE\",\"showlegend\":true,\"subplot\":\"mapbox\",\"text\":[\"HCE\",\"HCE\",\"HCE\",\"HCE\",\"HCE\",\"HCE\",\"HCE\"],\"type\":\"scattermapbox\"},{\"customdata\":[[\"t20230101\",627],[\"t20230101\",15],[\"t20230101\",10],[\"t20230101\",1],[\"t20230101\",1],[\"t20230101\",80],[\"t20230101\",4]],\"hovertemplate\":\"<b>%{hovertext}</b><br><br>company=%{text}<br>\\uae30\\uc900\\uc77c\\uc790=%{customdata[0]}<br>\\ub85c\\uadf8=%{marker.size}<br>\\uc704\\ub3c4=%{lat}<br>\\uacbd\\ub3c4=%{lon}<br>\\uc778\\uc6d0=%{customdata[1]}<extra></extra>\",\"hovertext\":[\"GRC\",\"\\uacbd\\uc8fc\",\"\\uad70\\uc0b0\",\"\\ubd84\\ub2f9\\uc0ac\\ubb34\\uc18c\",\"\\uc6a9\\uc778\\uc5f0\\uad6c\\uc18c\",\"\\uc6b8\\uc0b0\\ubcf8\\uc0ac\",\"\\uc778\\ucc9c\"],\"ids\":[\"GRC\",\"\\uacbd\\uc8fc\",\"\\uad70\\uc0b0\",\"\\ubd84\\ub2f9\\uc0ac\\ubb34\\uc18c\",\"\\uc6a9\\uc778\\uc5f0\\uad6c\\uc18c\",\"\\uc6b8\\uc0b0\\ubcf8\\uc0ac\",\"\\uc778\\ucc9c\"],\"lat\":[37.3769230243523,35.946756301742,35.9697769709966,37.378442,37.3065744445032,35.5057777899586,37.4864609],\"legendgroup\":\"HDX\",\"lon\":[127.106107697859,129.267161,126.596542336649,127.21423,127.137412074906,129.441743039015,126.3298197],\"marker\":{\"color\":\"#00cc96\",\"opacity\":0.5,\"size\":[2.7972675408307164,1.1760912590556813,1.0,0.0,0.0,1.9030899869919435,0.6020599913279624],\"sizemode\":\"area\",\"sizeref\":0.0009223782444986769},\"mode\":\"markers+text\",\"name\":\"HDX\",\"showlegend\":true,\"subplot\":\"mapbox\",\"text\":[\"HDX\",\"HDX\",\"HDX\",\"HDX\",\"HDX\",\"HDX\",\"HDX\"],\"type\":\"scattermapbox\"}],\"name\":\"t20230101\"},{\"data\":[{\"customdata\":[[\"t20230401\",642],[\"t20230401\",300],[\"t20230401\",13],[\"t20230401\",65],[\"t20230401\",1695]],\"hovertemplate\":\"<b>%{hovertext}</b><br><br>company=%{text}<br>\\uae30\\uc900\\uc77c\\uc790=%{customdata[0]}<br>\\ub85c\\uadf8=%{marker.size}<br>\\uc704\\ub3c4=%{lat}<br>\\uacbd\\ub3c4=%{lon}<br>\\uc778\\uc6d0=%{customdata[1]}<extra></extra>\",\"hovertext\":[\"GRC\",\"\\uad70\\uc0b0\\uacf5\\uc7a5\",\"\\ubcf4\\ub839Proving Ground\",\"\\uc548\\uc0b0\\ubd80\\ud488\\uc13c\\ud130\",\"\\uc778\\ucc9c\\uacf5\\uc7a5\"],\"ids\":[\"GRC\",\"\\uad70\\uc0b0\\uacf5\\uc7a5\",\"\\ubcf4\\ub839Proving Ground\",\"\\uc548\\uc0b0\\ubd80\\ud488\\uc13c\\ud130\",\"\\uc778\\ucc9c\\uacf5\\uc7a5\"],\"lat\":[37.3769230243523,35.9677143,36.2851883,37.285315,37.4864609],\"legendgroup\":\"HDI\",\"lon\":[127.106107697859,126.2500686,126.6371552,126.8882818,126.6298197],\"marker\":{\"color\":\"#636efa\",\"opacity\":0.5,\"size\":[2.807535028068853,2.4771212547196626,1.1139433523068367,1.8129133566428555,3.229169702539101],\"sizemode\":\"area\",\"sizeref\":0.0009223782444986769},\"mode\":\"markers+text\",\"name\":\"HDI\",\"showlegend\":true,\"subplot\":\"mapbox\",\"text\":[\"HDI\",\"HDI\",\"HDI\",\"HDI\",\"HDI\"],\"type\":\"scattermapbox\"},{\"customdata\":[[\"t20230401\",491],[\"t20230401\",7],[\"t20230401\",6],[\"t20230401\",19],[\"t20230401\",68],[\"t20230401\",723],[\"t20230401\",39]],\"hovertemplate\":\"<b>%{hovertext}</b><br><br>company=%{text}<br>\\uae30\\uc900\\uc77c\\uc790=%{customdata[0]}<br>\\ub85c\\uadf8=%{marker.size}<br>\\uc704\\ub3c4=%{lat}<br>\\uacbd\\ub3c4=%{lon}<br>\\uc778\\uc6d0=%{customdata[1]}<extra></extra>\",\"hovertext\":[\"GRC\",\"\\uacbd\\uc8fc\",\"\\uad70\\uc0b0\",\"\\ubd84\\ub2f9\\uc0ac\\ubb34\\uc18c\",\"\\uc6a9\\uc778\\uc5f0\\uad6c\\uc18c\",\"\\uc6b8\\uc0b0\\ubcf8\\uc0ac\",\"\\uc74c\\uc131\"],\"ids\":[\"GRC\",\"\\uacbd\\uc8fc\",\"\\uad70\\uc0b0\",\"\\ubd84\\ub2f9\\uc0ac\\ubb34\\uc18c\",\"\\uc6a9\\uc778\\uc5f0\\uad6c\\uc18c\",\"\\uc6b8\\uc0b0\\ubcf8\\uc0ac\",\"\\uc74c\\uc131\"],\"lat\":[37.3769230243523,35.946756301742,35.9697769709966,37.378442,37.3065744445032,35.5057777899586,36.9312095],\"legendgroup\":\"HCE\",\"lon\":[127.106107697859,129.267161,126.596542336649,127.21423,127.137412074906,129.441743039015,127.752218],\"marker\":{\"color\":\"#EF553B\",\"opacity\":0.5,\"size\":[2.6910814921229687,0.8450980400142568,0.7781512503836436,1.2787536009528289,1.8325089127062364,2.859138297294531,1.591064607026499],\"sizemode\":\"area\",\"sizeref\":0.0009223782444986769},\"mode\":\"markers+text\",\"name\":\"HCE\",\"showlegend\":true,\"subplot\":\"mapbox\",\"text\":[\"HCE\",\"HCE\",\"HCE\",\"HCE\",\"HCE\",\"HCE\",\"HCE\"],\"type\":\"scattermapbox\"},{\"customdata\":[[\"t20230401\",660],[\"t20230401\",14],[\"t20230401\",10],[\"t20230401\",2],[\"t20230401\",2],[\"t20230401\",102],[\"t20230401\",4]],\"hovertemplate\":\"<b>%{hovertext}</b><br><br>company=%{text}<br>\\uae30\\uc900\\uc77c\\uc790=%{customdata[0]}<br>\\ub85c\\uadf8=%{marker.size}<br>\\uc704\\ub3c4=%{lat}<br>\\uacbd\\ub3c4=%{lon}<br>\\uc778\\uc6d0=%{customdata[1]}<extra></extra>\",\"hovertext\":[\"GRC\",\"\\uacbd\\uc8fc\",\"\\uad70\\uc0b0\",\"\\ubd84\\ub2f9\\uc0ac\\ubb34\\uc18c\",\"\\uc6a9\\uc778\\uc5f0\\uad6c\\uc18c\",\"\\uc6b8\\uc0b0\\ubcf8\\uc0ac\",\"\\uc778\\ucc9c\"],\"ids\":[\"GRC\",\"\\uacbd\\uc8fc\",\"\\uad70\\uc0b0\",\"\\ubd84\\ub2f9\\uc0ac\\ubb34\\uc18c\",\"\\uc6a9\\uc778\\uc5f0\\uad6c\\uc18c\",\"\\uc6b8\\uc0b0\\ubcf8\\uc0ac\",\"\\uc778\\ucc9c\"],\"lat\":[37.3769230243523,35.946756301742,35.9697769709966,37.378442,37.3065744445032,35.5057777899586,37.4864609],\"legendgroup\":\"HDX\",\"lon\":[127.106107697859,129.267161,126.596542336649,127.21423,127.137412074906,129.441743039015,126.3298197],\"marker\":{\"color\":\"#00cc96\",\"opacity\":0.5,\"size\":[2.8195439355418688,1.146128035678238,1.0,0.3010299956639812,0.3010299956639812,2.0086001717619175,0.6020599913279624],\"sizemode\":\"area\",\"sizeref\":0.0009223782444986769},\"mode\":\"markers+text\",\"name\":\"HDX\",\"showlegend\":true,\"subplot\":\"mapbox\",\"text\":[\"HDX\",\"HDX\",\"HDX\",\"HDX\",\"HDX\",\"HDX\",\"HDX\"],\"type\":\"scattermapbox\"}],\"name\":\"t20230401\"}]);\n",
       "                        }).then(function(){\n",
       "                            \n",
       "var gd = document.getElementById('20c132f5-bcee-406c-a0f3-197c00eb4742');\n",
       "var x = new MutationObserver(function (mutations, observer) {{\n",
       "        var display = window.getComputedStyle(gd).display;\n",
       "        if (!display || display === 'none') {{\n",
       "            console.log([gd, 'removed!']);\n",
       "            Plotly.purge(gd);\n",
       "            observer.disconnect();\n",
       "        }}\n",
       "}});\n",
       "\n",
       "// Listen for the removal of the full notebook cells\n",
       "var notebookContainer = gd.closest('#notebook-container');\n",
       "if (notebookContainer) {{\n",
       "    x.observe(notebookContainer, {childList: true});\n",
       "}}\n",
       "\n",
       "// Listen for the clearing of the current output cell\n",
       "var outputEl = gd.closest('.output');\n",
       "if (outputEl) {{\n",
       "    x.observe(outputEl, {childList: true});\n",
       "}}\n",
       "\n",
       "                        })                };                });            </script>        </div>"
      ]
     },
     "metadata": {},
     "output_type": "display_data"
    }
   ],
   "source": [
    "px.set_mapbox_access_token(open(\"mapbox_token.py\").read())\n",
    "df = target_df1\n",
    "fig = px.scatter_mapbox(df, lat=\"위도\", lon=\"경도\",  color=\"회사\", size=\"로그\",\n",
    "                        color_continuous_scale=px.colors.sequential, size_max=60, zoom=7,\n",
    "                        center = {'lat':36.40, 'lon':128.10}, height=800, mapbox_style='light',\n",
    "                        labels = {'회사': 'company'}, animation_frame=\"기준일자\",\n",
    "                        animation_group=\"근무지\", category_orders=order1,\n",
    "                        hover_name=\"근무지\", opacity=0.5, hover_data=[\"기준일자\", \"인원\"], text=\"회사\")\n",
    "fig.show()"
   ]
  },
  {
   "cell_type": "code",
   "execution_count": 1,
   "id": "c28960b2",
   "metadata": {},
   "outputs": [
    {
     "name": "stderr",
     "output_type": "stream",
     "text": [
      "2023-05-03 07:53:45.442 \n",
      "  \u001b[33m\u001b[1mWarning:\u001b[0m to view this Streamlit app on a browser, run it with the following\n",
      "  command:\n",
      "\n",
      "    streamlit run C:\\hr\\hrenv\\lib\\site-packages\\ipykernel_launcher.py [ARGUMENTS]\n"
     ]
    },
    {
     "data": {
      "text/plain": [
       "DeltaGenerator()"
      ]
     },
     "execution_count": 1,
     "metadata": {},
     "output_type": "execute_result"
    }
   ],
   "source": []
  },
  {
   "cell_type": "code",
   "execution_count": 8,
   "id": "e9363f75",
   "metadata": {},
   "outputs": [
    {
     "data": {
      "text/plain": [
       "0.009980002836602657"
      ]
     },
     "execution_count": 8,
     "metadata": {},
     "output_type": "execute_result"
    }
   ],
   "source": [
    "a = np.random.random(1)/100\n",
    "a[0]"
   ]
  },
  {
   "cell_type": "code",
   "execution_count": null,
   "id": "a917ebc7",
   "metadata": {},
   "outputs": [],
   "source": []
  }
 ],
 "metadata": {
  "kernelspec": {
   "display_name": "Python 3 (ipykernel)",
   "language": "python",
   "name": "python3"
  },
  "language_info": {
   "codemirror_mode": {
    "name": "ipython",
    "version": 3
   },
   "file_extension": ".py",
   "mimetype": "text/x-python",
   "name": "python",
   "nbconvert_exporter": "python",
   "pygments_lexer": "ipython3",
   "version": "3.8.10"
  }
 },
 "nbformat": 4,
 "nbformat_minor": 5
}
