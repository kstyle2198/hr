{
 "cells": [
  {
   "cell_type": "code",
   "execution_count": 520,
   "id": "cd1bf564",
   "metadata": {},
   "outputs": [],
   "source": [
    "import pandas as pd\n",
    "import numpy as np\n",
    "import sqlite3\n",
    "import warnings\n",
    "import re\n",
    "from ipyvizzu import Data, Config, Style\n",
    "from ipyvizzustory import Story, Slide, Step\n",
    "from datetime import datetime\n",
    "warnings.filterwarnings(action='ignore')"
   ]
  },
  {
   "cell_type": "code",
   "execution_count": 521,
   "id": "674d9a84",
   "metadata": {},
   "outputs": [],
   "source": [
    "import functools # not required, but helps in production\n",
    "def unpack_df_columns(func):\n",
    "    \"\"\"\n",
    "    A general use decorator to unpack a df[subset] of columns\n",
    "    into a function which expects the values at those columns\n",
    "    as arguments\n",
    "    \"\"\"\n",
    "    \n",
    "    @functools.wraps(func)\n",
    "    def _unpack_df_columns(*args, **kwargs):\n",
    "        \n",
    "        # args[0] is a pandas series equal in length as the \n",
    "        # df[subset] to which the apply function is applied \n",
    "        series = args[0]\n",
    "\n",
    "        # series.values holds the number of arguments expected\n",
    "        # by func and is os length len(df[subset].columns)\n",
    "        return func(*series.values)\n",
    "\n",
    "    return _unpack_df_columns"
   ]
  },
  {
   "cell_type": "code",
   "execution_count": 522,
   "id": "9c53e630",
   "metadata": {},
   "outputs": [],
   "source": [
    "# Read sqlite query results into a pandas DataFrame\n",
    "con = sqlite3.connect(\"../db/hr.db\")\n",
    "df = pd.read_sql_query(\"SELECT * from base_info\", con)"
   ]
  },
  {
   "cell_type": "code",
   "execution_count": 523,
   "id": "65c6208d",
   "metadata": {},
   "outputs": [],
   "source": [
    "pd.set_option('display.max_rows', 1000)\n",
    "pd.set_option('display.max_columns', 1000)"
   ]
  },
  {
   "cell_type": "code",
   "execution_count": 524,
   "id": "164ba21b",
   "metadata": {},
   "outputs": [
    {
     "data": {
      "text/plain": [
       "(38523, 103)"
      ]
     },
     "execution_count": 524,
     "metadata": {},
     "output_type": "execute_result"
    }
   ],
   "source": [
    "df.shape"
   ]
  },
  {
   "cell_type": "code",
   "execution_count": 525,
   "id": "cf9ee067",
   "metadata": {},
   "outputs": [],
   "source": [
    "# df.head(1)"
   ]
  },
  {
   "cell_type": "code",
   "execution_count": 526,
   "id": "7ccc28bc",
   "metadata": {},
   "outputs": [],
   "source": [
    "# df[\"사원유형\"].value_counts()"
   ]
  },
  {
   "cell_type": "code",
   "execution_count": 527,
   "id": "1bc6e994",
   "metadata": {},
   "outputs": [],
   "source": [
    "columns = ['기준일자','회사','사업본부(지원)','부문','부서','소속','직위','사번','성명','성별','주민번호','생년월일','고용형태','사원유형','직군','직급','그룹입사일자','승급일자','채용경로']"
   ]
  },
  {
   "cell_type": "code",
   "execution_count": 528,
   "id": "a7c02fd3",
   "metadata": {},
   "outputs": [],
   "source": [
    "def 고용형태_변환(df):\n",
    "    회사 = df[\"회사\"]\n",
    "    고용형태 = df[\"고용형태\"]\n",
    "    사원유형 = df[\"사원유형\"]\n",
    "    \n",
    "    if 회사 == \"HDX\" or 회사 == \"HCE\" or 회사 == \"HCM\":\n",
    "        \n",
    "        if 고용형태 == \"정규임원\"and 사원유형 == \"임원\":\n",
    "            return \"임원\"\n",
    "        elif 고용형태 == \"정규임원\"and 사원유형 == \"전문위원\":\n",
    "            return \"임원\"\n",
    "        elif 고용형태 == \"전문위원\"and 사원유형 == \"전문위원\":\n",
    "            return \"임원\"\n",
    "        elif 고용형태 == \"계약임원\"and 사원유형 == \"임원\":\n",
    "            return \"임원\"\n",
    "        \n",
    "        elif 고용형태 == \"상근임원\"and 사원유형 == \"퇴임임원\":\n",
    "            return \"퇴임임원\"\n",
    "        elif 고용형태 == \"비상근임원\"and 사원유형 == \"퇴임임원\":\n",
    "            return \"퇴임임원\"\n",
    "\n",
    "        elif 고용형태 == \"직원\"and 사원유형 == \"설계기술직\":\n",
    "            return \"직원\"\n",
    "        elif 고용형태 == \"직원\"and 사원유형 == \"연구직\":\n",
    "            return \"직원\"\n",
    "        elif 고용형태 == \"직원\"and 사원유형 == \"전문직\":\n",
    "            return \"직원\"\n",
    "    \n",
    "        elif 고용형태 == \"일반계약직\"and 사원유형 == \"별정직\":\n",
    "            return \"기간제\"\n",
    "        elif 고용형태 == \"일반계약직\"and 사원유형 == \"사무기술직\":\n",
    "            return \"기간제\"\n",
    "        elif 고용형태 == \"일반계약직\"and 사원유형 == \"생산기술직\":\n",
    "            return \"기간제\"\n",
    "        elif 고용형태 == \"일반계약직\"and 사원유형 == \"설계기술직\":\n",
    "            return \"기간제\"\n",
    "        elif 고용형태 == \"일반계약직\"and 사원유형 == \"연구직\":\n",
    "            return \"기간제\"\n",
    "        \n",
    "        elif 고용형태 == \"정년후계약직\"and 사원유형 == \"사무기술직\":\n",
    "            return \"기간제\"\n",
    "        elif 고용형태 == \"정년후계약직\"and 사원유형 == \"생산기술직\":\n",
    "            return \"기간제\"\n",
    "        \n",
    "        elif 고용형태 == \"조건제계약직\"and 사원유형 == \"사무기술직\":\n",
    "            return \"기간제\"\n",
    "        elif 고용형태 == \"조건제계약직\"and 사원유형 == \"설계기술직\":\n",
    "            return \"기간제\"\n",
    "        elif 고용형태 == \"조건제계약직\"and 사원유형 == \"연구직\":\n",
    "            return \"기간제\"\n",
    "\n",
    "        elif 고용형태 == \"고용외국인\"and 사원유형 == \"사무기술직\":\n",
    "            return \"기간제\"\n",
    "        elif 고용형태 == \"파견후계약직\"and 사원유형 == \"별정직\":\n",
    "            return \"기간제\"\n",
    "        \n",
    "        elif 고용형태 == \"조건제계약직\"and 사원유형 == \"연구직\":\n",
    "            return \"기간제\"\n",
    "        else:\n",
    "            return 고용형태\n",
    "    else:\n",
    "        return 고용형태\n"
   ]
  },
  {
   "cell_type": "code",
   "execution_count": 529,
   "id": "7d2dca6c",
   "metadata": {},
   "outputs": [],
   "source": [
    "def 사원유형_변환(df):\n",
    "    회사 = df[\"회사\"]\n",
    "    고용형태 = df[\"고용형태\"]\n",
    "    사원유형 = df[\"사원유형\"]\n",
    "    \n",
    "    if 회사 == \"HDX\" or 회사 == \"HCE\" or 회사 == \"HCM\":\n",
    "        \n",
    "        if 고용형태 == \"정규임원\"and 사원유형 == \"임원\":\n",
    "            return \"정규임원\"\n",
    "        elif 고용형태 == \"정규임원\"and 사원유형 == \"전문위원\":\n",
    "            return \"전문위원\"\n",
    "        elif 고용형태 == \"전문위원\"and 사원유형 == \"전문위원\":\n",
    "            return \"전문위원\"\n",
    "        elif 고용형태 == \"계약임원\"and 사원유형 == \"임원\":\n",
    "            return \"계약임원\"\n",
    "        \n",
    "        elif 고용형태 == \"상근임원\"and 사원유형 == \"퇴임임원\":\n",
    "            return \"상근임원\"\n",
    "        elif 고용형태 == \"비상근임원\"and 사원유형 == \"퇴임임원\":\n",
    "            return \"비상근임원\"\n",
    "\n",
    "        elif 고용형태 == \"직원\"and 사원유형 == \"설계기술직\":\n",
    "            return \"설계연구직\"\n",
    "        elif 고용형태 == \"직원\"and 사원유형 == \"연구직\":\n",
    "            return \"설계연구직\"\n",
    "        elif 고용형태 == \"직원\"and 사원유형 == \"전문직\":\n",
    "            return \"전문직A\"\n",
    "        elif 고용형태 == \"직원\"and 사원유형 == \"사무지원직\":\n",
    "            return \"사무지원/전문직B\"\n",
    "        \n",
    "        elif 고용형태 == \"일반계약직\"and 사원유형 == \"별정직\":\n",
    "            return \"일반계약직\"\n",
    "        elif 고용형태 == \"일반계약직\"and 사원유형 == \"사무기술직\":\n",
    "            return \"일반계약직\"\n",
    "        elif 고용형태 == \"일반계약직\"and 사원유형 == \"생산기술직\":\n",
    "            return \"일반계약직\"\n",
    "        elif 고용형태 == \"일반계약직\"and 사원유형 == \"설계기술직\":\n",
    "            return \"일반계약직\"\n",
    "        elif 고용형태 == \"일반계약직\"and 사원유형 == \"연구직\":\n",
    "            return \"일반계약직\"\n",
    "        \n",
    "        elif 고용형태 == \"정년후계약직\"and 사원유형 == \"사무기술직\":\n",
    "            return \"정년후계약직\"\n",
    "        elif 고용형태 == \"정년후계약직\"and 사원유형 == \"생산기술직\":\n",
    "            return \"정년후계약직\"\n",
    "        \n",
    "        elif 고용형태 == \"조건제계약직\"and 사원유형 == \"사무기술직\":\n",
    "            return \"일반계약직\"\n",
    "        elif 고용형태 == \"조건제계약직\"and 사원유형 == \"설계기술직\":\n",
    "            return \"일반계약직\"\n",
    "        elif 고용형태 == \"조건제계약직\"and 사원유형 == \"연구직\":\n",
    "            return \"일반계약직\"\n",
    "\n",
    "        elif 고용형태 == \"고용외국인\"and 사원유형 == \"사무기술직\":\n",
    "            return \"일반계약직\"\n",
    "        elif 고용형태 == \"파견후계약직\"and 사원유형 == \"별정직\":\n",
    "            return \"파견후계약직\"\n",
    "        \n",
    "        elif 고용형태 == \"조건제계약직\"and 사원유형 == \"연구직\":\n",
    "            return \"일반계약직\"\n",
    "        else:\n",
    "            return 사원유형\n",
    "        \n",
    "    elif 회사 == \"HDI\":\n",
    "        if 고용형태 == \"직원\"and 사원유형 == \"전문직B\":\n",
    "            return \"사무지원/전문직B\"\n",
    "        elif 고용형태 == \"직원\"and 사원유형 == \"별정직A\":\n",
    "            return \"별정직\"\n",
    "        elif 고용형태 == \"직원\"and 사원유형 == \"별정직B\":\n",
    "            return \"별정직\"\n",
    "        else:\n",
    "            return 사원유형\n",
    "        \n",
    "    else:\n",
    "        return 사원유형\n"
   ]
  },
  {
   "cell_type": "code",
   "execution_count": 530,
   "id": "71f30d51",
   "metadata": {},
   "outputs": [],
   "source": [
    "@unpack_df_columns\n",
    "def get_age(기준일자, birth_year):\n",
    "    age = int(기준일자[1:5]) - int(birth_year[:4])\n",
    "    return age"
   ]
  },
  {
   "cell_type": "code",
   "execution_count": 531,
   "id": "2d7fcf86",
   "metadata": {},
   "outputs": [],
   "source": [
    "def add_age_range(age):\n",
    "    return str(int(np.floor(age/10)*10))+\"대\""
   ]
  },
  {
   "cell_type": "code",
   "execution_count": 532,
   "id": "09988100",
   "metadata": {},
   "outputs": [],
   "source": [
    "def 직급간소화_변환(직급):\n",
    "    if 직급 == \"과장급\":\n",
    "        직급 = \"HL3(1)\"\n",
    "    elif 직급 == \"상무보급\":\n",
    "        직급 = \"상무급\"\n",
    "    elif 직급 == \"HL3\":\n",
    "        직급 = \"HL3(1)\"\n",
    "    elif 직급 == \"HL4\":\n",
    "        직급 = \"HL3(2)\"\n",
    "    elif 직급 == \"HL5\":\n",
    "        직급 = \"HL3(3)\"\n",
    "    \n",
    "    return 직급"
   ]
  },
  {
   "cell_type": "code",
   "execution_count": 533,
   "id": "893a3ade",
   "metadata": {},
   "outputs": [],
   "source": [
    "def 현대인프라팀명추출(df):\n",
    "    사업본부 = df[\"사업본부(지원)\"]\n",
    "    회사 = df[\"회사\"]\n",
    "    소속 = df[\"소속\"]\n",
    "    부서 = df[\"부서\"]\n",
    "    pattern1 = r'\\b\\w+(?:팀)'\n",
    "    pattern2 = r'\\b\\w+(?:법인)'\n",
    "    pattern3 = r'\\b\\w+(?:부)'\n",
    "\n",
    "    if 회사 == \"HDI\":\n",
    "        # \"~부\"를 추출하기 위해 \"~본부\"를 삭제하고 특수문제 &도 삭제한다.\n",
    "        소속 = 소속.replace(\"본부\", \"\").replace(\"&\",\"\").replace(\"/\",\"\")\n",
    "        소속 = 소속.replace(\"이큐브솔루션\", \"이큐브솔루션팀\").replace(\"&\",\"\").replace(\"/\",\"\")\n",
    "\n",
    "        \n",
    "        팀명 = re.findall(pattern1, 소속)   # 팀으로 끝나는 거 추출\n",
    "        \n",
    "        if len(팀명)  == 1:\n",
    "            return f\"{사업본부}_{팀명[0]}\"\n",
    "        \n",
    "        else:   # 그런데.. 추출된게 없으면,\n",
    "            팀명 = re.findall(pattern2, 소속)      # 법인으로 끝나는 거 추출\n",
    "            \n",
    "            if len(팀명) == 1:                 \n",
    "                return f\"{사업본부}_{팀명[0]}\"     # 법인으로 추출된게 있으면... 리턴해라..\n",
    "            \n",
    "            else:\n",
    "                팀명 = re.findall(pattern3, 소속)   # 법인으로도 추출된게 없으면.. 부로 끝나는 것 추출\n",
    "                \n",
    "                if len(팀명) == 1:           \n",
    "                    return f\"{사업본부}_{팀명[0]}\"   # 부으로 끝나는 것 추출된게 있으면 리턴\n",
    "                else:\n",
    "                    return None\n",
    "    else:\n",
    "        return 부서"
   ]
  },
  {
   "cell_type": "code",
   "execution_count": 534,
   "id": "d8315200",
   "metadata": {},
   "outputs": [],
   "source": [
    "def get_승급년도(승급일자):\n",
    "    try:\n",
    "        return 승급일자[:4]\n",
    "    except:\n",
    "        pass"
   ]
  },
  {
   "cell_type": "code",
   "execution_count": 535,
   "id": "deb503e7",
   "metadata": {},
   "outputs": [],
   "source": [
    "@unpack_df_columns\n",
    "def get_승급년차(기준일자, 승급년도):\n",
    "    try:\n",
    "        if 승급년도 is None:\n",
    "            return \n",
    "        \n",
    "        else:\n",
    "            return int(기준일자[1:5]) - int(승급년도) + 1\n",
    "    except:\n",
    "        pass"
   ]
  },
  {
   "cell_type": "code",
   "execution_count": null,
   "id": "173c52be",
   "metadata": {},
   "outputs": [],
   "source": []
  },
  {
   "cell_type": "markdown",
   "id": "5a7d4286",
   "metadata": {},
   "source": [
    "## base DF1 생성"
   ]
  },
  {
   "cell_type": "code",
   "execution_count": 536,
   "id": "f47bc374",
   "metadata": {},
   "outputs": [],
   "source": [
    "# 퇴임임원 자문역 날리기\n",
    "df1 = df[columns]\n",
    "df1.reset_index(drop=True, inplace=True)   # index 새로 부여\n",
    "# df1[\"사원유형\"].unique()"
   ]
  },
  {
   "cell_type": "code",
   "execution_count": 537,
   "id": "4d01424c",
   "metadata": {},
   "outputs": [
    {
     "name": "stdout",
     "output_type": "stream",
     "text": [
      "<class 'pandas.core.frame.DataFrame'>\n",
      "RangeIndex: 38523 entries, 0 to 38522\n",
      "Data columns (total 19 columns):\n",
      " #   Column    Non-Null Count  Dtype \n",
      "---  ------    --------------  ----- \n",
      " 0   기준일자      38523 non-null  object\n",
      " 1   회사        38523 non-null  object\n",
      " 2   사업본부(지원)  38518 non-null  object\n",
      " 3   부문        14199 non-null  object\n",
      " 4   부서        14987 non-null  object\n",
      " 5   소속        38523 non-null  object\n",
      " 6   직위        38523 non-null  object\n",
      " 7   사번        38523 non-null  object\n",
      " 8   성명        38523 non-null  object\n",
      " 9   성별        38523 non-null  object\n",
      " 10  주민번호      15407 non-null  object\n",
      " 11  생년월일      38281 non-null  object\n",
      " 12  고용형태      38523 non-null  object\n",
      " 13  사원유형      38523 non-null  object\n",
      " 14  직군        38523 non-null  object\n",
      " 15  직급        27850 non-null  object\n",
      " 16  그룹입사일자    38523 non-null  object\n",
      " 17  승급일자      19788 non-null  object\n",
      " 18  채용경로      15407 non-null  object\n",
      "dtypes: object(19)\n",
      "memory usage: 5.6+ MB\n"
     ]
    }
   ],
   "source": [
    "df1.info()"
   ]
  },
  {
   "cell_type": "markdown",
   "id": "39072f5f",
   "metadata": {},
   "source": [
    "## 겸직발령인원 제거하기(HDI, HCE 각각)\n",
    "- 제뉴인의 재정팀 및 내부회계 겸직자는 DB에서 날림"
   ]
  },
  {
   "cell_type": "code",
   "execution_count": 538,
   "id": "b2b32a79",
   "metadata": {},
   "outputs": [],
   "source": [
    "# HDI 겸직발령 임직원 인덱스 추출후 드랍\n",
    "drop_df1 = df1.loc[(df1[\"회사\"] == \"HDI\") & (df1[\"사업본부(지원)\"] == \"현대제뉴인\")]\n",
    "drop_index = drop_df1.index.tolist()\n",
    "df1 = df1.drop(index=drop_index)"
   ]
  },
  {
   "cell_type": "code",
   "execution_count": 539,
   "id": "5ddc1f56",
   "metadata": {},
   "outputs": [],
   "source": [
    "# 현건ㄴ기 겸직자 전처리 대상 사번\n",
    "현건기겸직자사번리스트 = ['A524204',\n",
    " 'A524205',\n",
    " 'A524206',\n",
    " 'A524207',\n",
    " 'A524208',\n",
    " 'A524209',\n",
    " 'A524210',\n",
    " 'A524211',\n",
    " 'A524212',\n",
    " 'A524213',\n",
    " 'A524214',\n",
    " 'A524215',\n",
    " 'A524216',\n",
    " 'A524217',\n",
    " 'A524218',\n",
    " 'A524219',\n",
    " 'A524220',\n",
    " 'A524221',\n",
    " 'A524222',\n",
    " 'A524223',\n",
    " 'A524224',\n",
    " 'A524225',\n",
    " 'A524226',\n",
    " 'A524227',\n",
    " 'A524228',\n",
    " 'A524229',\n",
    " 'A524230',\n",
    " 'A524231',\n",
    " 'A524232',\n",
    " 'A524233',\n",
    " 'A524234',\n",
    " 'A524235',\n",
    " 'A524236',\n",
    " 'A524237',\n",
    " 'A524238',\n",
    " 'A524239',\n",
    " 'A524240',\n",
    " 'A524241',\n",
    " 'A524242',\n",
    " 'A524243',\n",
    " 'A524244',\n",
    " 'A524245',\n",
    " 'A524246',\n",
    " 'A524247',\n",
    " 'A524248',\n",
    " 'A524249',\n",
    " 'A524250',\n",
    " 'A524251',\n",
    " 'A524252',\n",
    " 'A524253',\n",
    " 'A524254',\n",
    " 'A524255',\n",
    " 'A524256',\n",
    " 'A524257',\n",
    " 'A524258',\n",
    " 'A524259',\n",
    " 'A524260',\n",
    " 'A524307',\n",
    " 'A523742',\n",
    " 'A523767',\n",
    " 'A523768',\n",
    " 'A523743',\n",
    " 'A523744',\n",
    " 'A523745',\n",
    " 'A523746',\n",
    " 'A523748',\n",
    " 'A523765',\n",
    " 'A524456',\n",
    " 'A524457']"
   ]
  },
  {
   "cell_type": "code",
   "execution_count": 540,
   "id": "7d88a35b",
   "metadata": {},
   "outputs": [],
   "source": [
    "'''\n",
    "23년 1월 1일 현건기 기준명부상 겸직발령자 식별 불가\n",
    "23년 2월 8일 발령부터 겸직자 부문명을 \"겸직 제뉴인부문\"으로 변경\n",
    "이에 2월 8일 겸직자 사번 기준으로 23년 1월 1일 기준으로 대상자의 부문을 \"겸직 제뉴인부문\"으로 변경하고\n",
    "부문명에 \"겸직\"이 들어간 대상자를 드랍하여 겸직자를 제거함\n",
    "'''\n",
    "def 현건기겸직자23년1월부문변경(df):\n",
    "    기준일자 = df['기준일자']\n",
    "    사번 = df['사번']\n",
    "    회사 = df['회사']\n",
    "    부문 = df['부문']\n",
    "    global 현건기겸직자사번리스트 \n",
    "\n",
    "    if 기준일자 == \"t20230101\" and 회사 == \"HCE\" and 사번 in 현건기겸직자사번리스트:\n",
    "        부문 = \"겸직 제뉴인부문\"\n",
    "        return 부문\n",
    "    else:\n",
    "        return 부문"
   ]
  },
  {
   "cell_type": "code",
   "execution_count": 541,
   "id": "b2baf285",
   "metadata": {},
   "outputs": [],
   "source": [
    "df1['부문'] = df1.apply(현건기겸직자23년1월부문변경, axis=1)"
   ]
  },
  {
   "cell_type": "code",
   "execution_count": 542,
   "id": "b5d3dc4f",
   "metadata": {},
   "outputs": [],
   "source": [
    "# HCE 부문칼럼에 \"겸직\"이 있는 행 드랍\n",
    "df1['부문'].fillna(\"empty_value\", inplace=True)\n",
    "drop = df1['부문'].str.contains(\"겸직\")\n",
    "df1 = df1[~drop]"
   ]
  },
  {
   "cell_type": "code",
   "execution_count": 543,
   "id": "6b084cf7",
   "metadata": {},
   "outputs": [],
   "source": [
    "# 제뉴인은 입사구분에 \"계열회사 출입등록\" 일괄 삭제\n",
    "drop_df1 = df1.loc[(df1[\"회사\"] == \"HDX\")&(df1[\"채용경로\"] == \"계열회사 출입등록\")]\n",
    "drop_index = drop_df1.index.tolist()\n",
    "df1 = df1.drop(index=drop_index)"
   ]
  },
  {
   "cell_type": "markdown",
   "id": "bc6408eb",
   "metadata": {},
   "source": [
    "## 고용형태 및 사원유형 변환"
   ]
  },
  {
   "cell_type": "code",
   "execution_count": 544,
   "id": "971ffad4",
   "metadata": {},
   "outputs": [],
   "source": [
    "# df1[\"사원유형\"].value_counts()"
   ]
  },
  {
   "cell_type": "code",
   "execution_count": 545,
   "id": "8ffefdbe",
   "metadata": {},
   "outputs": [],
   "source": [
    "# df1[df1[\"사원유형\"] == \"임원\"]"
   ]
  },
  {
   "cell_type": "code",
   "execution_count": 546,
   "id": "a397c18b",
   "metadata": {},
   "outputs": [],
   "source": [
    "df1[\"수정_고용형태\"] = df1.apply(고용형태_변환, axis=1)\n",
    "df1[\"수정_사원유형\"] = df1.apply(사원유형_변환, axis=1)\n",
    "df1[\"직급\"] = df1[\"직급\"].apply(직급간소화_변환)\n",
    "\n",
    "df1[\"고용형태\"] = df1[\"수정_고용형태\"]\n",
    "df1[\"사원유형\"] = df1[\"수정_사원유형\"]"
   ]
  },
  {
   "cell_type": "code",
   "execution_count": 547,
   "id": "8ed79c37",
   "metadata": {},
   "outputs": [],
   "source": [
    "# df1[\"고용형태\"].value_counts()"
   ]
  },
  {
   "cell_type": "code",
   "execution_count": 548,
   "id": "15321a7f",
   "metadata": {},
   "outputs": [
    {
     "data": {
      "text/plain": [
       "생산기술직        12958\n",
       "사무기술직        12340\n",
       "설계연구직         7098\n",
       "일반계약직         2363\n",
       "사무지원/전문직B      909\n",
       "정규임원           655\n",
       "별정직            525\n",
       "전문직A           363\n",
       "기간제            291\n",
       "파견후계약직         264\n",
       "비상근임원           99\n",
       "파견직             30\n",
       "계약임원            29\n",
       "전문위원            24\n",
       "사외이사/감사         22\n",
       "정년후계약직          21\n",
       "상근임원             6\n",
       "사외이사             3\n",
       "Name: 사원유형, dtype: int64"
      ]
     },
     "execution_count": 548,
     "metadata": {},
     "output_type": "execute_result"
    }
   ],
   "source": [
    "df1[\"사원유형\"].value_counts()"
   ]
  },
  {
   "cell_type": "code",
   "execution_count": 549,
   "id": "172d5c9c",
   "metadata": {},
   "outputs": [
    {
     "data": {
      "text/html": [
       "<div>\n",
       "<style scoped>\n",
       "    .dataframe tbody tr th:only-of-type {\n",
       "        vertical-align: middle;\n",
       "    }\n",
       "\n",
       "    .dataframe tbody tr th {\n",
       "        vertical-align: top;\n",
       "    }\n",
       "\n",
       "    .dataframe thead th {\n",
       "        text-align: right;\n",
       "    }\n",
       "</style>\n",
       "<table border=\"1\" class=\"dataframe\">\n",
       "  <thead>\n",
       "    <tr style=\"text-align: right;\">\n",
       "      <th></th>\n",
       "      <th>기준일자</th>\n",
       "      <th>회사</th>\n",
       "      <th>사업본부(지원)</th>\n",
       "      <th>부문</th>\n",
       "      <th>부서</th>\n",
       "      <th>소속</th>\n",
       "      <th>직위</th>\n",
       "      <th>사번</th>\n",
       "      <th>성명</th>\n",
       "      <th>성별</th>\n",
       "      <th>주민번호</th>\n",
       "      <th>생년월일</th>\n",
       "      <th>고용형태</th>\n",
       "      <th>사원유형</th>\n",
       "      <th>직군</th>\n",
       "      <th>직급</th>\n",
       "      <th>그룹입사일자</th>\n",
       "      <th>승급일자</th>\n",
       "      <th>채용경로</th>\n",
       "      <th>수정_고용형태</th>\n",
       "      <th>수정_사원유형</th>\n",
       "    </tr>\n",
       "  </thead>\n",
       "  <tbody>\n",
       "    <tr>\n",
       "      <th>35707</th>\n",
       "      <td>t20230401</td>\n",
       "      <td>HDI</td>\n",
       "      <td>HR부문</td>\n",
       "      <td>HR부문</td>\n",
       "      <td>None</td>\n",
       "      <td>HR부문 HR운영팀</td>\n",
       "      <td>책임매니저</td>\n",
       "      <td>1922125</td>\n",
       "      <td>김범철</td>\n",
       "      <td>남성</td>\n",
       "      <td>None</td>\n",
       "      <td>1972-03-08</td>\n",
       "      <td>직원</td>\n",
       "      <td>사무기술직</td>\n",
       "      <td>경영지원</td>\n",
       "      <td>HL3(3)</td>\n",
       "      <td>1998-03-16</td>\n",
       "      <td>2014-07-01</td>\n",
       "      <td>None</td>\n",
       "      <td>직원</td>\n",
       "      <td>사무기술직</td>\n",
       "    </tr>\n",
       "  </tbody>\n",
       "</table>\n",
       "</div>"
      ],
      "text/plain": [
       "            기준일자   회사 사업본부(지원)    부문    부서          소속     직위       사번   성명  \\\n",
       "35707  t20230401  HDI     HR부문  HR부문  None  HR부문 HR운영팀  책임매니저  1922125  김범철   \n",
       "\n",
       "       성별  주민번호        생년월일 고용형태   사원유형    직군      직급      그룹입사일자        승급일자  \\\n",
       "35707  남성  None  1972-03-08   직원  사무기술직  경영지원  HL3(3)  1998-03-16  2014-07-01   \n",
       "\n",
       "       채용경로 수정_고용형태 수정_사원유형  \n",
       "35707  None      직원   사무기술직  "
      ]
     },
     "execution_count": 549,
     "metadata": {},
     "output_type": "execute_result"
    }
   ],
   "source": [
    "df1.loc[(df1[\"기준일자\"] == \"t20230401\")&(df1[\"성명\"]==\"김범철\")]"
   ]
  },
  {
   "cell_type": "markdown",
   "id": "fef82be6",
   "metadata": {},
   "source": [
    "# 그룹핑 전처리 구간"
   ]
  },
  {
   "cell_type": "markdown",
   "id": "867a85e2",
   "metadata": {},
   "source": [
    "## 현대인프라팀명 추출후 부서칼럼에 저장 (3사별 조작 칼럼을 동일하게 맞추기 위해)"
   ]
  },
  {
   "cell_type": "code",
   "execution_count": 550,
   "id": "8d209307",
   "metadata": {},
   "outputs": [],
   "source": [
    "# HDI는 부서 칼럼값이 없어서 소속 정보에서 ~\"팀\" \"부\"로 끝나는 팀명을 추출하여 부서 칼럼값으로 넣기\n",
    "df1[\"부서\"] = df1.apply(현대인프라팀명추출, axis=1)  \n",
    "# df1[df1[\"회사\"]==\"HDI\"][\"부서\"].unique()"
   ]
  },
  {
   "cell_type": "markdown",
   "id": "0e950c44",
   "metadata": {},
   "source": [
    "## 회사별 Unique 팀명 추출후 데이터프레임 통합 (Level1, Level2 그룹핑 검토용)"
   ]
  },
  {
   "cell_type": "code",
   "execution_count": 551,
   "id": "00a8fa08",
   "metadata": {},
   "outputs": [],
   "source": [
    "# 회사별로 \"팀명\"과 \"회사명\" 두개 칼럼으로 구성된 데이터프레임 생성후 Concat\n",
    "\n",
    "# HDI_team = pd.DataFrame({\"부서\": df1[df1[\"회사\"]==\"HDI\"][\"부서\"].unique().tolist()})\n",
    "# HDI_team[\"회사\"] = \"HDI\"\n",
    "\n",
    "# HCE_team = pd.DataFrame({\"부서\": df1[df1[\"회사\"]==\"HCE\"][\"부서\"].unique().tolist()})\n",
    "# HCE_team[\"회사\"] = \"HCE\"\n",
    "\n",
    "# HDX_team = pd.DataFrame({\"부서\": df1[df1[\"회사\"]==\"HDX\"][\"부서\"].unique().tolist()})\n",
    "# HDX_team[\"회사\"] = \"HDX\"\n",
    "\n",
    "# total_team = pd.concat([HDI_team, HCE_team, HDX_team])\n",
    "# len(total_team)\n"
   ]
  },
  {
   "cell_type": "code",
   "execution_count": 552,
   "id": "1114088b",
   "metadata": {},
   "outputs": [],
   "source": [
    "# total_team[total_team[\"회사명\"] == \"HDI\"][\"팀명\"].tolist()"
   ]
  },
  {
   "cell_type": "code",
   "execution_count": 553,
   "id": "ffd1ce5e",
   "metadata": {},
   "outputs": [],
   "source": [
    "# 검토를 위해 CSV로 저장 후 Level1, Level2 그룹핑 검토 --> 검토후 정리된 파일의 이름을 \"team_grouping.csv\"로 수정\n",
    "# total_team.to_csv('total.csv', encoding=\"utf-8-sig\")"
   ]
  },
  {
   "cell_type": "markdown",
   "id": "9bd56c7f",
   "metadata": {},
   "source": [
    "## 팀 그룹핑 파일 불러오기"
   ]
  },
  {
   "cell_type": "code",
   "execution_count": 554,
   "id": "2828573c",
   "metadata": {},
   "outputs": [],
   "source": [
    "grouping_df = pd.read_csv(\"team_grouping.csv\", encoding='UTF8')\n",
    "# grouping_df"
   ]
  },
  {
   "cell_type": "code",
   "execution_count": 555,
   "id": "b892e8d5",
   "metadata": {},
   "outputs": [
    {
     "data": {
      "text/plain": [
       "array(['영업', '해외법인', nan, 'R&D', '글로벌생산', '산업차량', '배치대기', '건설기계사업', '기술원',\n",
       "       '엔진사업', '사업지원'], dtype=object)"
      ]
     },
     "execution_count": 555,
     "metadata": {},
     "output_type": "execute_result"
    }
   ],
   "source": [
    "grouping_df[\"Level1\"].unique()"
   ]
  },
  {
   "cell_type": "code",
   "execution_count": 556,
   "id": "001191c8",
   "metadata": {},
   "outputs": [
    {
     "data": {
      "text/plain": [
       "array([nan, '품질', '제품개발', '산차영업', '산차R&D', '산차생산', '산차기획', '재무/기획', 'ICT',\n",
       "       'HR/지원', '구매', '법무/보안', '지원/EHS/ESG/동반성장', '건기제품개발', '글로벌생산', '영업',\n",
       "       '디자인', '융복합기술', '엔진제품개발', '기타', 'EHS', 'ESG/커뮤니케이션', '기능품',\n",
       "       '선행기술연구', '통합제품개발'], dtype=object)"
      ]
     },
     "execution_count": 556,
     "metadata": {},
     "output_type": "execute_result"
    }
   ],
   "source": [
    "grouping_df[\"Level2\"].unique()"
   ]
  },
  {
   "cell_type": "code",
   "execution_count": 557,
   "id": "1e9c184b",
   "metadata": {},
   "outputs": [],
   "source": [
    "# df1.loc[(df1[\"기준일자\"] == \"t20230401\")&(df1[\"성명\"]==\"김종배\")]"
   ]
  },
  {
   "cell_type": "markdown",
   "id": "f2aed30e",
   "metadata": {},
   "source": [
    "## DF2에 Left Join"
   ]
  },
  {
   "cell_type": "code",
   "execution_count": 558,
   "id": "1f2067b2",
   "metadata": {},
   "outputs": [],
   "source": [
    "# 사번대체 임시키 생성\n",
    "def temp_key(val):\n",
    "    key = \"t\"+str(hash(val))\n",
    "    return key"
   ]
  },
  {
   "cell_type": "code",
   "execution_count": 559,
   "id": "e22a9047",
   "metadata": {},
   "outputs": [],
   "source": [
    "# 일부 계열사간 이동 이력 직원의 생일을 양력 기준으로 통일\n",
    "def new_birthday(kf):\n",
    "    global df2\n",
    "    주민번호 = kf[\"주민번호\"]\n",
    "    생년월일 = kf[\"생년월일\"]\n",
    "    \n",
    "    if 주민번호 != None:\n",
    "        \n",
    "        if 주민번호[0] == \"0\":\n",
    "\n",
    "            temp = \"20\"+주민번호[:6]\n",
    "            temp = temp[:4]+\"-\"+temp[4:6]+\"-\"+temp[6:8]\n",
    "            temp = datetime.strptime(temp, '%Y-%m-%d')\n",
    "        #     temp = temp.strftime('%Y-%m-%d')\n",
    "            return temp\n",
    "\n",
    "        else:\n",
    "            temp = \"19\"+주민번호[:6]\n",
    "            temp = temp[:4]+\"-\"+temp[4:6]+\"-\"+temp[6:8]\n",
    "            temp = datetime.strptime(temp, '%Y-%m-%d')\n",
    "        #     temp = temp.strftime('%Y-%m-%d')\n",
    "            return temp\n",
    "    \n",
    "    else:\n",
    "        return 생년월일\n",
    "    "
   ]
  },
  {
   "cell_type": "code",
   "execution_count": 560,
   "id": "7ea480aa",
   "metadata": {},
   "outputs": [],
   "source": [
    "df2 = pd.merge(df1,grouping_df, on=['회사','부서'], how='left')"
   ]
  },
  {
   "cell_type": "code",
   "execution_count": 561,
   "id": "9a41311e",
   "metadata": {},
   "outputs": [
    {
     "data": {
      "text/html": [
       "<div>\n",
       "<style scoped>\n",
       "    .dataframe tbody tr th:only-of-type {\n",
       "        vertical-align: middle;\n",
       "    }\n",
       "\n",
       "    .dataframe tbody tr th {\n",
       "        vertical-align: top;\n",
       "    }\n",
       "\n",
       "    .dataframe thead th {\n",
       "        text-align: right;\n",
       "    }\n",
       "</style>\n",
       "<table border=\"1\" class=\"dataframe\">\n",
       "  <thead>\n",
       "    <tr style=\"text-align: right;\">\n",
       "      <th></th>\n",
       "      <th>기준일자</th>\n",
       "      <th>회사</th>\n",
       "      <th>사업본부(지원)</th>\n",
       "      <th>부문</th>\n",
       "      <th>부서</th>\n",
       "      <th>소속</th>\n",
       "      <th>직위</th>\n",
       "      <th>사번</th>\n",
       "      <th>성명</th>\n",
       "      <th>성별</th>\n",
       "      <th>주민번호</th>\n",
       "      <th>생년월일</th>\n",
       "      <th>고용형태</th>\n",
       "      <th>사원유형</th>\n",
       "      <th>직군</th>\n",
       "      <th>직급</th>\n",
       "      <th>그룹입사일자</th>\n",
       "      <th>승급일자</th>\n",
       "      <th>채용경로</th>\n",
       "      <th>수정_고용형태</th>\n",
       "      <th>수정_사원유형</th>\n",
       "      <th>열</th>\n",
       "      <th>Level1</th>\n",
       "      <th>Level2</th>\n",
       "    </tr>\n",
       "  </thead>\n",
       "  <tbody>\n",
       "    <tr>\n",
       "      <th>35184</th>\n",
       "      <td>t20230401</td>\n",
       "      <td>HDI</td>\n",
       "      <td>HR부문</td>\n",
       "      <td>HR부문</td>\n",
       "      <td>HR부문_HR운영팀</td>\n",
       "      <td>HR부문 HR운영팀</td>\n",
       "      <td>책임매니저</td>\n",
       "      <td>1922125</td>\n",
       "      <td>김범철</td>\n",
       "      <td>남성</td>\n",
       "      <td>None</td>\n",
       "      <td>1972-03-08</td>\n",
       "      <td>직원</td>\n",
       "      <td>사무기술직</td>\n",
       "      <td>경영지원</td>\n",
       "      <td>HL3(3)</td>\n",
       "      <td>1998-03-16</td>\n",
       "      <td>2014-07-01</td>\n",
       "      <td>None</td>\n",
       "      <td>직원</td>\n",
       "      <td>사무기술직</td>\n",
       "      <td>343.0</td>\n",
       "      <td>NaN</td>\n",
       "      <td>HR/지원</td>\n",
       "    </tr>\n",
       "  </tbody>\n",
       "</table>\n",
       "</div>"
      ],
      "text/plain": [
       "            기준일자   회사 사업본부(지원)    부문          부서          소속     직위       사번  \\\n",
       "35184  t20230401  HDI     HR부문  HR부문  HR부문_HR운영팀  HR부문 HR운영팀  책임매니저  1922125   \n",
       "\n",
       "        성명  성별  주민번호        생년월일 고용형태   사원유형    직군      직급      그룹입사일자  \\\n",
       "35184  김범철  남성  None  1972-03-08   직원  사무기술직  경영지원  HL3(3)  1998-03-16   \n",
       "\n",
       "             승급일자  채용경로 수정_고용형태 수정_사원유형      열 Level1 Level2  \n",
       "35184  2014-07-01  None      직원   사무기술직  343.0    NaN  HR/지원  "
      ]
     },
     "execution_count": 561,
     "metadata": {},
     "output_type": "execute_result"
    }
   ],
   "source": [
    "df2.loc[(df2[\"기준일자\"] == \"t20230401\")&(df2[\"성명\"]==\"김범철\")]"
   ]
  },
  {
   "cell_type": "code",
   "execution_count": 562,
   "id": "3758b8b4",
   "metadata": {},
   "outputs": [],
   "source": [
    "# 안쓰는 칼럼 날리고\n",
    "df2.drop(['부문','열','사업본부(지원)','소속', '직군'], axis=1, inplace=True)\n",
    "# 팀 상위그룹핑 칼럼 추가\n",
    "# df2.fillna(\"\", inplace=True)\n",
    "df2[\"Level1\"].fillna(\"직할\", inplace=True)\n",
    "df2[\"Level2\"].fillna(\"직할\", inplace=True)\n",
    "df2[\"그룹핑\"] = df2[\"Level1\"].str.cat(df2[\"Level2\"],sep='_',na_rep=\"직할\")\n",
    "df2[\"새생년월일\"] = df2.apply(new_birthday, axis=1)\n",
    "df2[\"임시키\"] = df2[\"새생년월일\"].astype('str')+df2[\"성명\"]\n",
    "df2[\"임시키\"] = df2[\"임시키\"].apply(temp_key)\n",
    "df2[\"연령\"] = df2[[\"기준일자\",\"새생년월일\"]].astype('str').apply(get_age, axis=1)\n",
    "df2[\"연령대\"] = df2[\"연령\"].apply(add_age_range)\n",
    "df2[\"승급년도\"] = df2[\"승급일자\"].apply(get_승급년도)\n",
    "df2[\"승급년차\"] = df2[[\"기준일자\",\"승급년도\"]].apply(get_승급년차, axis=1)\n"
   ]
  },
  {
   "cell_type": "code",
   "execution_count": 563,
   "id": "3c641767",
   "metadata": {},
   "outputs": [
    {
     "name": "stdout",
     "output_type": "stream",
     "text": [
      "<class 'pandas.core.frame.DataFrame'>\n",
      "Int64Index: 38000 entries, 0 to 37999\n",
      "Data columns (total 26 columns):\n",
      " #   Column   Non-Null Count  Dtype         \n",
      "---  ------   --------------  -----         \n",
      " 0   기준일자     38000 non-null  object        \n",
      " 1   회사       38000 non-null  object        \n",
      " 2   부서       37386 non-null  object        \n",
      " 3   직위       38000 non-null  object        \n",
      " 4   사번       38000 non-null  object        \n",
      " 5   성명       38000 non-null  object        \n",
      " 6   성별       38000 non-null  object        \n",
      " 7   주민번호     15252 non-null  object        \n",
      " 8   생년월일     37893 non-null  object        \n",
      " 9   고용형태     38000 non-null  object        \n",
      " 10  사원유형     38000 non-null  object        \n",
      " 11  직급       27459 non-null  object        \n",
      " 12  그룹입사일자   38000 non-null  object        \n",
      " 13  승급일자     19425 non-null  object        \n",
      " 14  채용경로     15252 non-null  object        \n",
      " 15  수정_고용형태  38000 non-null  object        \n",
      " 16  수정_사원유형  38000 non-null  object        \n",
      " 17  Level1   38000 non-null  object        \n",
      " 18  Level2   38000 non-null  object        \n",
      " 19  그룹핑      38000 non-null  object        \n",
      " 20  새생년월일    38000 non-null  datetime64[ns]\n",
      " 21  임시키      38000 non-null  object        \n",
      " 22  연령       38000 non-null  int64         \n",
      " 23  연령대      38000 non-null  object        \n",
      " 24  승급년도     19425 non-null  object        \n",
      " 25  승급년차     19425 non-null  float64       \n",
      "dtypes: datetime64[ns](1), float64(1), int64(1), object(23)\n",
      "memory usage: 7.8+ MB\n"
     ]
    }
   ],
   "source": [
    "df2.info()"
   ]
  },
  {
   "cell_type": "code",
   "execution_count": 564,
   "id": "e3c023c8",
   "metadata": {},
   "outputs": [
    {
     "data": {
      "text/plain": [
       "array(['2019', '2021', '2020', '2015', '2017', '2013', '2018', '2011',\n",
       "       '2012', '2014', '2016', '2006', '2010', '2008', '2009', '2005',\n",
       "       '1999', '2007', '2022', '2023', '1997', None, '1900', '2002'],\n",
       "      dtype=object)"
      ]
     },
     "execution_count": 564,
     "metadata": {},
     "output_type": "execute_result"
    }
   ],
   "source": [
    "df2.승급년도.unique()"
   ]
  },
  {
   "cell_type": "code",
   "execution_count": 565,
   "id": "6c7ed432",
   "metadata": {},
   "outputs": [
    {
     "data": {
      "text/plain": [
       "array([  3.,   1.,   2.,   7.,   5.,   9.,   4.,  11.,  10.,   8.,   6.,\n",
       "        16.,  12.,  14.,  13.,  17.,  23.,  15.,   0.,  24.,  18.,  19.,\n",
       "        25.,  27.,  nan, 124.,  22.])"
      ]
     },
     "execution_count": 565,
     "metadata": {},
     "output_type": "execute_result"
    }
   ],
   "source": [
    "df2.승급년차.unique()"
   ]
  },
  {
   "cell_type": "code",
   "execution_count": 566,
   "id": "9d99675b",
   "metadata": {},
   "outputs": [],
   "source": [
    "# 중간결과 확인\n",
    "df2.to_csv(\"./return_df2.csv\",encoding=\"utf-8-sig\")"
   ]
  },
  {
   "cell_type": "code",
   "execution_count": 567,
   "id": "d9d563a9",
   "metadata": {},
   "outputs": [
    {
     "data": {
      "text/html": [
       "<div>\n",
       "<style scoped>\n",
       "    .dataframe tbody tr th:only-of-type {\n",
       "        vertical-align: middle;\n",
       "    }\n",
       "\n",
       "    .dataframe tbody tr th {\n",
       "        vertical-align: top;\n",
       "    }\n",
       "\n",
       "    .dataframe thead th {\n",
       "        text-align: right;\n",
       "    }\n",
       "</style>\n",
       "<table border=\"1\" class=\"dataframe\">\n",
       "  <thead>\n",
       "    <tr style=\"text-align: right;\">\n",
       "      <th></th>\n",
       "      <th>기준일자</th>\n",
       "      <th>회사</th>\n",
       "      <th>부서</th>\n",
       "      <th>직위</th>\n",
       "      <th>사번</th>\n",
       "      <th>성명</th>\n",
       "      <th>성별</th>\n",
       "      <th>주민번호</th>\n",
       "      <th>생년월일</th>\n",
       "      <th>고용형태</th>\n",
       "      <th>사원유형</th>\n",
       "      <th>직급</th>\n",
       "      <th>그룹입사일자</th>\n",
       "      <th>승급일자</th>\n",
       "      <th>채용경로</th>\n",
       "      <th>수정_고용형태</th>\n",
       "      <th>수정_사원유형</th>\n",
       "      <th>Level1</th>\n",
       "      <th>Level2</th>\n",
       "      <th>그룹핑</th>\n",
       "      <th>새생년월일</th>\n",
       "      <th>임시키</th>\n",
       "      <th>연령</th>\n",
       "      <th>연령대</th>\n",
       "      <th>승급년도</th>\n",
       "      <th>승급년차</th>\n",
       "    </tr>\n",
       "  </thead>\n",
       "  <tbody>\n",
       "    <tr>\n",
       "      <th>35184</th>\n",
       "      <td>t20230401</td>\n",
       "      <td>HDI</td>\n",
       "      <td>HR부문_HR운영팀</td>\n",
       "      <td>책임매니저</td>\n",
       "      <td>1922125</td>\n",
       "      <td>김범철</td>\n",
       "      <td>남성</td>\n",
       "      <td>None</td>\n",
       "      <td>1972-03-08</td>\n",
       "      <td>직원</td>\n",
       "      <td>사무기술직</td>\n",
       "      <td>HL3(3)</td>\n",
       "      <td>1998-03-16</td>\n",
       "      <td>2014-07-01</td>\n",
       "      <td>None</td>\n",
       "      <td>직원</td>\n",
       "      <td>사무기술직</td>\n",
       "      <td>직할</td>\n",
       "      <td>HR/지원</td>\n",
       "      <td>직할_HR/지원</td>\n",
       "      <td>1972-03-08</td>\n",
       "      <td>t2657551067533633064</td>\n",
       "      <td>51</td>\n",
       "      <td>50대</td>\n",
       "      <td>2014</td>\n",
       "      <td>10.0</td>\n",
       "    </tr>\n",
       "  </tbody>\n",
       "</table>\n",
       "</div>"
      ],
      "text/plain": [
       "            기준일자   회사          부서     직위       사번   성명  성별  주민번호        생년월일  \\\n",
       "35184  t20230401  HDI  HR부문_HR운영팀  책임매니저  1922125  김범철  남성  None  1972-03-08   \n",
       "\n",
       "      고용형태   사원유형      직급      그룹입사일자        승급일자  채용경로 수정_고용형태 수정_사원유형  \\\n",
       "35184   직원  사무기술직  HL3(3)  1998-03-16  2014-07-01  None      직원   사무기술직   \n",
       "\n",
       "      Level1 Level2       그룹핑      새생년월일                   임시키  연령  연령대  승급년도  \\\n",
       "35184     직할  HR/지원  직할_HR/지원 1972-03-08  t2657551067533633064  51  50대  2014   \n",
       "\n",
       "       승급년차  \n",
       "35184  10.0  "
      ]
     },
     "execution_count": 567,
     "metadata": {},
     "output_type": "execute_result"
    }
   ],
   "source": [
    "df2.loc[(df2[\"기준일자\"] == \"t20230401\")&(df2[\"성명\"]==\"김범철\")]"
   ]
  },
  {
   "cell_type": "markdown",
   "id": "7cf528ca",
   "metadata": {},
   "source": [
    "# 중간정리 DF3 (고용형태 : 임원 및 직원)"
   ]
  },
  {
   "cell_type": "code",
   "execution_count": 568,
   "id": "e67f0495",
   "metadata": {},
   "outputs": [
    {
     "data": {
      "text/plain": [
       "(34751, 26)"
      ]
     },
     "execution_count": 568,
     "metadata": {},
     "output_type": "execute_result"
    }
   ],
   "source": [
    "df3 = df2.loc[(df2[\"고용형태\"] == \"임원\") | (df2[\"고용형태\"] == \"직원\")]\n",
    "# df3 = df3[df3[\"사원유형\"] != \"생산기술직\"]\n",
    "df3.shape"
   ]
  },
  {
   "cell_type": "code",
   "execution_count": 569,
   "id": "3f42fa09",
   "metadata": {},
   "outputs": [],
   "source": [
    "# df3.head(2)"
   ]
  },
  {
   "cell_type": "code",
   "execution_count": 570,
   "id": "9c7bd8d5",
   "metadata": {},
   "outputs": [],
   "source": [
    "# len(df3[\"사번\"].unique()), len(df3[\"임시키\"].unique())"
   ]
  },
  {
   "cell_type": "code",
   "execution_count": 571,
   "id": "fa88a399",
   "metadata": {},
   "outputs": [
    {
     "data": {
      "text/html": [
       "<div>\n",
       "<style scoped>\n",
       "    .dataframe tbody tr th:only-of-type {\n",
       "        vertical-align: middle;\n",
       "    }\n",
       "\n",
       "    .dataframe tbody tr th {\n",
       "        vertical-align: top;\n",
       "    }\n",
       "\n",
       "    .dataframe thead th {\n",
       "        text-align: right;\n",
       "    }\n",
       "</style>\n",
       "<table border=\"1\" class=\"dataframe\">\n",
       "  <thead>\n",
       "    <tr style=\"text-align: right;\">\n",
       "      <th></th>\n",
       "      <th>기준일자</th>\n",
       "      <th>회사</th>\n",
       "      <th>부서</th>\n",
       "      <th>직위</th>\n",
       "      <th>사번</th>\n",
       "      <th>성명</th>\n",
       "      <th>성별</th>\n",
       "      <th>주민번호</th>\n",
       "      <th>생년월일</th>\n",
       "      <th>고용형태</th>\n",
       "      <th>사원유형</th>\n",
       "      <th>직급</th>\n",
       "      <th>그룹입사일자</th>\n",
       "      <th>승급일자</th>\n",
       "      <th>채용경로</th>\n",
       "      <th>수정_고용형태</th>\n",
       "      <th>수정_사원유형</th>\n",
       "      <th>Level1</th>\n",
       "      <th>Level2</th>\n",
       "      <th>그룹핑</th>\n",
       "      <th>새생년월일</th>\n",
       "      <th>임시키</th>\n",
       "      <th>연령</th>\n",
       "      <th>연령대</th>\n",
       "      <th>승급년도</th>\n",
       "      <th>승급년차</th>\n",
       "    </tr>\n",
       "  </thead>\n",
       "  <tbody>\n",
       "    <tr>\n",
       "      <th>35184</th>\n",
       "      <td>t20230401</td>\n",
       "      <td>HDI</td>\n",
       "      <td>HR부문_HR운영팀</td>\n",
       "      <td>책임매니저</td>\n",
       "      <td>1922125</td>\n",
       "      <td>김범철</td>\n",
       "      <td>남성</td>\n",
       "      <td>None</td>\n",
       "      <td>1972-03-08</td>\n",
       "      <td>직원</td>\n",
       "      <td>사무기술직</td>\n",
       "      <td>HL3(3)</td>\n",
       "      <td>1998-03-16</td>\n",
       "      <td>2014-07-01</td>\n",
       "      <td>None</td>\n",
       "      <td>직원</td>\n",
       "      <td>사무기술직</td>\n",
       "      <td>직할</td>\n",
       "      <td>HR/지원</td>\n",
       "      <td>직할_HR/지원</td>\n",
       "      <td>1972-03-08</td>\n",
       "      <td>t2657551067533633064</td>\n",
       "      <td>51</td>\n",
       "      <td>50대</td>\n",
       "      <td>2014</td>\n",
       "      <td>10.0</td>\n",
       "    </tr>\n",
       "  </tbody>\n",
       "</table>\n",
       "</div>"
      ],
      "text/plain": [
       "            기준일자   회사          부서     직위       사번   성명  성별  주민번호        생년월일  \\\n",
       "35184  t20230401  HDI  HR부문_HR운영팀  책임매니저  1922125  김범철  남성  None  1972-03-08   \n",
       "\n",
       "      고용형태   사원유형      직급      그룹입사일자        승급일자  채용경로 수정_고용형태 수정_사원유형  \\\n",
       "35184   직원  사무기술직  HL3(3)  1998-03-16  2014-07-01  None      직원   사무기술직   \n",
       "\n",
       "      Level1 Level2       그룹핑      새생년월일                   임시키  연령  연령대  승급년도  \\\n",
       "35184     직할  HR/지원  직할_HR/지원 1972-03-08  t2657551067533633064  51  50대  2014   \n",
       "\n",
       "       승급년차  \n",
       "35184  10.0  "
      ]
     },
     "execution_count": 571,
     "metadata": {},
     "output_type": "execute_result"
    }
   ],
   "source": [
    "df3.loc[(df3[\"기준일자\"] == \"t20230401\")&(df3[\"성명\"]==\"김범철\")]"
   ]
  },
  {
   "cell_type": "code",
   "execution_count": 572,
   "id": "d5374625",
   "metadata": {},
   "outputs": [
    {
     "name": "stdout",
     "output_type": "stream",
     "text": [
      "<class 'pandas.core.frame.DataFrame'>\n",
      "Int64Index: 34751 entries, 1 to 37999\n",
      "Data columns (total 26 columns):\n",
      " #   Column   Non-Null Count  Dtype         \n",
      "---  ------   --------------  -----         \n",
      " 0   기준일자     34751 non-null  object        \n",
      " 1   회사       34751 non-null  object        \n",
      " 2   부서       34259 non-null  object        \n",
      " 3   직위       34751 non-null  object        \n",
      " 4   사번       34751 non-null  object        \n",
      " 5   성명       34751 non-null  object        \n",
      " 6   성별       34751 non-null  object        \n",
      " 7   주민번호     13906 non-null  object        \n",
      " 8   생년월일     34650 non-null  object        \n",
      " 9   고용형태     34751 non-null  object        \n",
      " 10  사원유형     34751 non-null  object        \n",
      " 11  직급       25912 non-null  object        \n",
      " 12  그룹입사일자   34751 non-null  object        \n",
      " 13  승급일자     17789 non-null  object        \n",
      " 14  채용경로     13906 non-null  object        \n",
      " 15  수정_고용형태  34751 non-null  object        \n",
      " 16  수정_사원유형  34751 non-null  object        \n",
      " 17  Level1   34751 non-null  object        \n",
      " 18  Level2   34751 non-null  object        \n",
      " 19  그룹핑      34751 non-null  object        \n",
      " 20  새생년월일    34751 non-null  datetime64[ns]\n",
      " 21  임시키      34751 non-null  object        \n",
      " 22  연령       34751 non-null  int64         \n",
      " 23  연령대      34751 non-null  object        \n",
      " 24  승급년도     17789 non-null  object        \n",
      " 25  승급년차     17789 non-null  float64       \n",
      "dtypes: datetime64[ns](1), float64(1), int64(1), object(23)\n",
      "memory usage: 7.2+ MB\n"
     ]
    }
   ],
   "source": [
    "df3.info()"
   ]
  },
  {
   "cell_type": "markdown",
   "id": "cc2acbd7",
   "metadata": {},
   "source": [
    "# 중간정리 DF4"
   ]
  },
  {
   "cell_type": "code",
   "execution_count": 573,
   "id": "a8ff6989",
   "metadata": {},
   "outputs": [],
   "source": [
    "df4 = df3[[\"임시키\", \"기준일자\",\"회사\", \"고용형태\", \"사원유형\", \"직급\",\"승급일자\",\"승급년도\",\"승급년차\",\"부서\",\"사번\",\"성명\",\"성별\",\"Level1\", \"Level2\",\"그룹핑\",\"연령\",\"연령대\"]].reset_index(drop=True, inplace=False)\n",
    "df4[\"rowid\"] = df4.index\n",
    "# df4.head()"
   ]
  },
  {
   "cell_type": "code",
   "execution_count": 574,
   "id": "ba3ef23d",
   "metadata": {},
   "outputs": [],
   "source": [
    "# df4.info()"
   ]
  },
  {
   "cell_type": "code",
   "execution_count": 575,
   "id": "dfadad74",
   "metadata": {},
   "outputs": [
    {
     "data": {
      "text/html": [
       "<div>\n",
       "<style scoped>\n",
       "    .dataframe tbody tr th:only-of-type {\n",
       "        vertical-align: middle;\n",
       "    }\n",
       "\n",
       "    .dataframe tbody tr th {\n",
       "        vertical-align: top;\n",
       "    }\n",
       "\n",
       "    .dataframe thead th {\n",
       "        text-align: right;\n",
       "    }\n",
       "</style>\n",
       "<table border=\"1\" class=\"dataframe\">\n",
       "  <thead>\n",
       "    <tr style=\"text-align: right;\">\n",
       "      <th></th>\n",
       "      <th>임시키</th>\n",
       "      <th>기준일자</th>\n",
       "      <th>회사</th>\n",
       "      <th>고용형태</th>\n",
       "      <th>사원유형</th>\n",
       "      <th>직급</th>\n",
       "      <th>승급일자</th>\n",
       "      <th>승급년도</th>\n",
       "      <th>승급년차</th>\n",
       "      <th>부서</th>\n",
       "      <th>사번</th>\n",
       "      <th>성명</th>\n",
       "      <th>성별</th>\n",
       "      <th>Level1</th>\n",
       "      <th>Level2</th>\n",
       "      <th>그룹핑</th>\n",
       "      <th>연령</th>\n",
       "      <th>연령대</th>\n",
       "      <th>rowid</th>\n",
       "    </tr>\n",
       "  </thead>\n",
       "  <tbody>\n",
       "    <tr>\n",
       "      <th>32242</th>\n",
       "      <td>t2657551067533633064</td>\n",
       "      <td>t20230401</td>\n",
       "      <td>HDI</td>\n",
       "      <td>직원</td>\n",
       "      <td>사무기술직</td>\n",
       "      <td>HL3(3)</td>\n",
       "      <td>2014-07-01</td>\n",
       "      <td>2014</td>\n",
       "      <td>10.0</td>\n",
       "      <td>HR부문_HR운영팀</td>\n",
       "      <td>1922125</td>\n",
       "      <td>김범철</td>\n",
       "      <td>남성</td>\n",
       "      <td>직할</td>\n",
       "      <td>HR/지원</td>\n",
       "      <td>직할_HR/지원</td>\n",
       "      <td>51</td>\n",
       "      <td>50대</td>\n",
       "      <td>32242</td>\n",
       "    </tr>\n",
       "  </tbody>\n",
       "</table>\n",
       "</div>"
      ],
      "text/plain": [
       "                        임시키       기준일자   회사 고용형태   사원유형      직급        승급일자  \\\n",
       "32242  t2657551067533633064  t20230401  HDI   직원  사무기술직  HL3(3)  2014-07-01   \n",
       "\n",
       "       승급년도  승급년차          부서       사번   성명  성별 Level1 Level2       그룹핑  연령  \\\n",
       "32242  2014  10.0  HR부문_HR운영팀  1922125  김범철  남성     직할  HR/지원  직할_HR/지원  51   \n",
       "\n",
       "       연령대  rowid  \n",
       "32242  50대  32242  "
      ]
     },
     "execution_count": 575,
     "metadata": {},
     "output_type": "execute_result"
    }
   ],
   "source": [
    "df4.loc[(df4[\"기준일자\"] == \"t20230401\")&(df4[\"성명\"]==\"김범철\")]"
   ]
  },
  {
   "cell_type": "markdown",
   "id": "af8441c7",
   "metadata": {},
   "source": [
    "# 회사별 전입자 / 전출자 리스팅"
   ]
  },
  {
   "cell_type": "code",
   "execution_count": 576,
   "id": "9323994c",
   "metadata": {},
   "outputs": [],
   "source": [
    "직급정렬 = [\"부회장급\",\"사장급\",\"부사장급\",\"전무급\",\"상무급\",\"HL3(3)\",\"HL3(2)\",\"HL3(1)\",\"HL2\",\"HL1\",\"S3\",\"S2\",\"S1\",\"사원급\" ]\n",
    "사원유형정렬 = [\"정규임원\", \"전문위원\", \"계약임원\", \"상근임원\", \"비상근임원\", \"퇴임임원\", \"설계연구직\", \"사무기술직\", \"생산기술직\", \"전문직A\", \"전문직\",\"전문직B\", \"사무지원직\", \"별정직\", \"일반계약직\", \"정년후계약직\", \"파견후계약직\", \"고용외국인\", \"파견직\"]"
   ]
  },
  {
   "cell_type": "code",
   "execution_count": 577,
   "id": "0c05333e",
   "metadata": {},
   "outputs": [],
   "source": [
    "def 회사별유출인원(회사, before, after):\n",
    "    global df4\n",
    "    global 직급정렬\n",
    "    global 사원유형정렬\n",
    "    \n",
    "    before_df = df4.loc[(df4[\"기준일자\"] == before)&(df4[\"회사\"] == 회사)]\n",
    "    after_df = df4.loc[(df4[\"기준일자\"] == after)&(df4[\"회사\"] == 회사)]\n",
    "    merged_df = before_df.merge(after_df, on='임시키',how='outer')\n",
    "    유출자 = merged_df[merged_df[\"기준일자_y\"].isnull()][[\"기준일자_x\", \"회사_x\", \"고용형태_x\", \"사원유형_x\", \"부서_x\",\"직급_x\", \"성명_x\", \"임시키\"]]\n",
    "    \n",
    "    유출자[\"사원유형_x\"] = pd.Categorical(유출자['사원유형_x'], categories=사원유형정렬, ordered=True)\n",
    "    유출자[\"직급_x\"] = pd.Categorical(유출자['직급_x'], categories=직급정렬, ordered=True)\n",
    "\n",
    "    유출자.sort_values(by=[\"사원유형_x\",\"부서_x\",\"직급_x\"], inplace=True)\n",
    "    return 유출자"
   ]
  },
  {
   "cell_type": "code",
   "execution_count": 578,
   "id": "84ea84fe",
   "metadata": {},
   "outputs": [
    {
     "data": {
      "text/plain": [
       "17"
      ]
     },
     "execution_count": 578,
     "metadata": {},
     "output_type": "execute_result"
    }
   ],
   "source": [
    "r1 = 회사별유출인원(\"HDX\",\"t20230101\", \"t20230401\")\n",
    "r1\n",
    "len(r1[\"고용형태_x\"])"
   ]
  },
  {
   "cell_type": "code",
   "execution_count": 579,
   "id": "b4f5c4c6",
   "metadata": {},
   "outputs": [],
   "source": [
    "def 회사별유입인원(회사, before, after):\n",
    "    global df4\n",
    "    global 직급정렬\n",
    "    global 사원유형정렬\n",
    "    \n",
    "    before_df = df4.loc[(df4[\"기준일자\"] == before)&(df4[\"회사\"] == 회사)]\n",
    "    after_df = df4.loc[(df4[\"기준일자\"] == after)&(df4[\"회사\"] == 회사)]\n",
    "    merged_df = before_df.merge(after_df, on='임시키',how='outer')\n",
    "    유입자 = merged_df[merged_df[\"기준일자_x\"].isnull()][[\"기준일자_y\", \"회사_y\", \"고용형태_y\", \"사원유형_y\", \"부서_y\",\"직급_y\", \"성명_y\", \"임시키\"]]\n",
    "    \n",
    "    유입자[\"사원유형_y\"] = pd.Categorical(유입자['사원유형_y'], categories=사원유형정렬, ordered=True)\n",
    "    유입자[\"직급_y\"] = pd.Categorical(유입자['직급_y'], categories=직급정렬, ordered=True)\n",
    "    \n",
    "    유입자.sort_values(by=[\"사원유형_y\", \"부서_y\", \"직급_y\"], inplace=True, ascending=True)\n",
    "    return 유입자"
   ]
  },
  {
   "cell_type": "code",
   "execution_count": 580,
   "id": "974255f0",
   "metadata": {},
   "outputs": [
    {
     "data": {
      "text/plain": [
       "64"
      ]
     },
     "execution_count": 580,
     "metadata": {},
     "output_type": "execute_result"
    }
   ],
   "source": [
    "r2 =  회사별유입인원(\"HDI\",\"t20230101\", \"t20230401\")\n",
    "r2[\"사원유형_y\"].value_counts()\n",
    "len(r2[\"고용형태_y\"])"
   ]
  },
  {
   "cell_type": "code",
   "execution_count": 581,
   "id": "9868703a",
   "metadata": {},
   "outputs": [
    {
     "data": {
      "text/html": [
       "<div>\n",
       "<style scoped>\n",
       "    .dataframe tbody tr th:only-of-type {\n",
       "        vertical-align: middle;\n",
       "    }\n",
       "\n",
       "    .dataframe tbody tr th {\n",
       "        vertical-align: top;\n",
       "    }\n",
       "\n",
       "    .dataframe thead th {\n",
       "        text-align: right;\n",
       "    }\n",
       "</style>\n",
       "<table border=\"1\" class=\"dataframe\">\n",
       "  <thead>\n",
       "    <tr style=\"text-align: right;\">\n",
       "      <th></th>\n",
       "      <th>기준일자_y</th>\n",
       "      <th>회사_y</th>\n",
       "      <th>고용형태_y</th>\n",
       "      <th>사원유형_y</th>\n",
       "      <th>부서_y</th>\n",
       "      <th>직급_y</th>\n",
       "      <th>성명_y</th>\n",
       "      <th>임시키</th>\n",
       "    </tr>\n",
       "  </thead>\n",
       "  <tbody>\n",
       "    <tr>\n",
       "      <th>2464</th>\n",
       "      <td>t20230401</td>\n",
       "      <td>HDI</td>\n",
       "      <td>직원</td>\n",
       "      <td>설계연구직</td>\n",
       "      <td>건설기계사업본부_구조설계팀</td>\n",
       "      <td>HL1</td>\n",
       "      <td>이제혁</td>\n",
       "      <td>t-1117337940302417557</td>\n",
       "    </tr>\n",
       "    <tr>\n",
       "      <th>2465</th>\n",
       "      <td>t20230401</td>\n",
       "      <td>HDI</td>\n",
       "      <td>직원</td>\n",
       "      <td>설계연구직</td>\n",
       "      <td>건설기계사업본부_구조설계팀</td>\n",
       "      <td>HL1</td>\n",
       "      <td>김지우</td>\n",
       "      <td>t3653038005093331948</td>\n",
       "    </tr>\n",
       "  </tbody>\n",
       "</table>\n",
       "</div>"
      ],
      "text/plain": [
       "         기준일자_y 회사_y 고용형태_y 사원유형_y            부서_y 직급_y 성명_y  \\\n",
       "2464  t20230401  HDI     직원  설계연구직  건설기계사업본부_구조설계팀  HL1  이제혁   \n",
       "2465  t20230401  HDI     직원  설계연구직  건설기계사업본부_구조설계팀  HL1  김지우   \n",
       "\n",
       "                        임시키  \n",
       "2464  t-1117337940302417557  \n",
       "2465   t3653038005093331948  "
      ]
     },
     "execution_count": 581,
     "metadata": {},
     "output_type": "execute_result"
    }
   ],
   "source": [
    "r2.head(2)"
   ]
  },
  {
   "cell_type": "markdown",
   "id": "bf16174f",
   "metadata": {},
   "source": [
    "# 간자(퇴사자 or 건기3사 외부 전적출자) 리스팅"
   ]
  },
  {
   "cell_type": "code",
   "execution_count": 582,
   "id": "edc9ae6e",
   "metadata": {},
   "outputs": [],
   "source": [
    "def 간자리스팅(before, after):\n",
    "    global df4\n",
    "    before_df = df4[df4[\"기준일자\"] == before]\n",
    "    after_df = df4[df4[\"기준일자\"] == after]\n",
    "    merged_df = before_df.merge(after_df, on='임시키',how='outer')\n",
    "    간자 = merged_df[merged_df[\"고용형태_y\"].isnull()][[\"기준일자_x\", \"회사_x\", \"고용형태_x\", \"사원유형_x\", \"부서_x\",\"직급_x\", \"성명_x\", \"임시키\"]]\n",
    "    간자 = 간자[간자[\"고용형태_x\"]==\"직원\"]\n",
    "    return 간자"
   ]
  },
  {
   "cell_type": "code",
   "execution_count": 583,
   "id": "c87df1e4",
   "metadata": {},
   "outputs": [],
   "source": [
    "# 간자 = 간자리스팅(\"t20230101\", \"t20230401\")\n",
    "# 간자[\"회사_x\"].value_counts()"
   ]
  },
  {
   "cell_type": "code",
   "execution_count": 584,
   "id": "b89c64ea",
   "metadata": {},
   "outputs": [],
   "source": [
    "# 간자[간자[\"회사_x\"]==\"HDX\"]"
   ]
  },
  {
   "cell_type": "markdown",
   "id": "1c280e43",
   "metadata": {},
   "source": [
    "# 온자 리스팅 (입사자, 건기3사 외부에서 전적입자)"
   ]
  },
  {
   "cell_type": "code",
   "execution_count": 585,
   "id": "038d439e",
   "metadata": {},
   "outputs": [],
   "source": [
    "def 온자리스팅(before, after):\n",
    "    global df4\n",
    "    before_df = df4[df4[\"기준일자\"] == before]\n",
    "    after_df = df4[df4[\"기준일자\"] == after]\n",
    "    merged_df = after_df.merge(before_df, on='임시키',how='outer')\n",
    "    온자 = merged_df[merged_df[\"고용형태_y\"].isnull()][[\"기준일자_x\", \"회사_x\", \"고용형태_x\", \"사원유형_x\", \"부서_x\",\"직급_x\", \"성명_x\", \"임시키\"]]\n",
    "    온자 = 온자[온자[\"고용형태_x\"]==\"직원\"]\n",
    "    return 온자"
   ]
  },
  {
   "cell_type": "code",
   "execution_count": 586,
   "id": "a4715b74",
   "metadata": {},
   "outputs": [],
   "source": [
    "# 온자 = 온자리스팅(\"t20230101\", \"t20230401\")\n",
    "# 온자[\"회사_x\"].value_counts()"
   ]
  },
  {
   "cell_type": "code",
   "execution_count": 587,
   "id": "02b34c1b",
   "metadata": {},
   "outputs": [],
   "source": [
    "# 온자[온자[\"회사_x\"]==\"HDX\"]"
   ]
  },
  {
   "cell_type": "markdown",
   "id": "2853f712",
   "metadata": {},
   "source": [
    "# 겸직임원 리스팅"
   ]
  },
  {
   "cell_type": "code",
   "execution_count": 588,
   "id": "771503f5",
   "metadata": {},
   "outputs": [],
   "source": [
    "def 겸직임원찾아내기(기준회사, 기준일자):\n",
    "    global df4\n",
    "    \n",
    "    target_df = df4.loc[(df4[\"기준일자\"] == 기준일자)&(df4[\"회사\"] == 기준회사)&(df4[\"고용형태\"]==\"임원\")]\n",
    "    compare_df = df4.loc[(df4[\"기준일자\"] == 기준일자)&(df4[\"회사\"] != 기준회사)&(df4[\"고용형태\"]==\"임원\")]\n",
    "\n",
    "    겸직임원 = target_df.merge(compare_df, on='임시키',how='inner')  \n",
    "    겸직임원[\"직급_x\"] = pd.Categorical(겸직임원['직급_x'], categories=직급정렬, ordered=True)\n",
    "    겸직임원.sort_values(by=[\"직급_x\"], inplace=True)\n",
    "    \n",
    "    return 겸직임원[[\"rowid_x\",\"기준일자_x\",\"임시키\", \"직급_x\", \"성명_x\", \"회사_x\", \"회사_y\"]]"
   ]
  },
  {
   "cell_type": "code",
   "execution_count": 589,
   "id": "cd76ac28",
   "metadata": {},
   "outputs": [],
   "source": [
    "기준일자들 = df.기준일자.unique().tolist()\n",
    "회사들 = df.회사.unique().tolist()"
   ]
  },
  {
   "cell_type": "code",
   "execution_count": 590,
   "id": "df5387ef",
   "metadata": {},
   "outputs": [],
   "source": [
    "겸직임원들 = []\n",
    "for 회사 in 회사들:\n",
    "    for 기준일자 in 기준일자들:\n",
    "        temp_df = 겸직임원찾아내기(회사, 기준일자)\n",
    "        겸직임원들.append(temp_df)\n"
   ]
  },
  {
   "cell_type": "code",
   "execution_count": 591,
   "id": "3236723a",
   "metadata": {},
   "outputs": [],
   "source": [
    "겸직임원_df = pd.concat(겸직임원들)\n",
    "겸직임원_df.set_index('rowid_x', inplace=True)\n",
    "# 겸직임원_df[겸직임원_df[\"성명_x\"] == \"최은록\"]"
   ]
  },
  {
   "cell_type": "code",
   "execution_count": 592,
   "id": "42eb1a92",
   "metadata": {},
   "outputs": [
    {
     "data": {
      "text/plain": [
       "기준일자_x     회사_x\n",
       "t20210801  HDI      2\n",
       "           HDX      2\n",
       "t20211001  HDI      6\n",
       "           HDX      6\n",
       "t20220101  HCE      3\n",
       "           HDI      6\n",
       "           HDX      9\n",
       "t20220401  HCE      3\n",
       "           HDI      7\n",
       "           HDX     10\n",
       "t20220701  HCE      3\n",
       "           HDI      8\n",
       "           HDX     11\n",
       "t20221001  HCE      3\n",
       "           HDI      8\n",
       "           HDX     11\n",
       "t20230101  HCE      3\n",
       "           HDI      8\n",
       "           HDX     11\n",
       "t20230401  HCE      3\n",
       "           HDI      8\n",
       "           HDX     11\n",
       "Name: 임시키, dtype: int64"
      ]
     },
     "execution_count": 592,
     "metadata": {},
     "output_type": "execute_result"
    }
   ],
   "source": [
    "겸직임원_df.groupby([\"기준일자_x\", \"회사_x\"])[\"임시키\"].count()#.reset_index()"
   ]
  },
  {
   "cell_type": "code",
   "execution_count": 593,
   "id": "b7905eef",
   "metadata": {},
   "outputs": [
    {
     "data": {
      "text/html": [
       "<div>\n",
       "<style scoped>\n",
       "    .dataframe tbody tr th:only-of-type {\n",
       "        vertical-align: middle;\n",
       "    }\n",
       "\n",
       "    .dataframe tbody tr th {\n",
       "        vertical-align: top;\n",
       "    }\n",
       "\n",
       "    .dataframe thead th {\n",
       "        text-align: right;\n",
       "    }\n",
       "</style>\n",
       "<table border=\"1\" class=\"dataframe\">\n",
       "  <thead>\n",
       "    <tr style=\"text-align: right;\">\n",
       "      <th></th>\n",
       "      <th>기준일자_x</th>\n",
       "      <th>임시키</th>\n",
       "      <th>직급_x</th>\n",
       "      <th>성명_x</th>\n",
       "      <th>회사_x</th>\n",
       "      <th>회사_y</th>\n",
       "    </tr>\n",
       "    <tr>\n",
       "      <th>rowid_x</th>\n",
       "      <th></th>\n",
       "      <th></th>\n",
       "      <th></th>\n",
       "      <th></th>\n",
       "      <th></th>\n",
       "      <th></th>\n",
       "    </tr>\n",
       "  </thead>\n",
       "  <tbody>\n",
       "    <tr>\n",
       "      <th>3937</th>\n",
       "      <td>t20220101</td>\n",
       "      <td>t-4293359314875758432</td>\n",
       "      <td>부사장급</td>\n",
       "      <td>김상웅</td>\n",
       "      <td>HCE</td>\n",
       "      <td>HDX</td>\n",
       "    </tr>\n",
       "    <tr>\n",
       "      <th>3470</th>\n",
       "      <td>t20220101</td>\n",
       "      <td>t-1580619818415934912</td>\n",
       "      <td>전무급</td>\n",
       "      <td>김인동</td>\n",
       "      <td>HCE</td>\n",
       "      <td>HDX</td>\n",
       "    </tr>\n",
       "  </tbody>\n",
       "</table>\n",
       "</div>"
      ],
      "text/plain": [
       "            기준일자_x                    임시키  직급_x 성명_x 회사_x 회사_y\n",
       "rowid_x                                                       \n",
       "3937     t20220101  t-4293359314875758432  부사장급  김상웅  HCE  HDX\n",
       "3470     t20220101  t-1580619818415934912   전무급  김인동  HCE  HDX"
      ]
     },
     "execution_count": 593,
     "metadata": {},
     "output_type": "execute_result"
    }
   ],
   "source": [
    "겸직임원날릴리스트 = 겸직임원_df[겸직임원_df[\"회사_x\"] != \"HDX\"]\n",
    "겸직임원날릴리스트.head(2)"
   ]
  },
  {
   "cell_type": "code",
   "execution_count": 594,
   "id": "fc1dd6da",
   "metadata": {},
   "outputs": [],
   "source": [
    "겸직임원날릴리스트 = 겸직임원날릴리스트.index.tolist()\n",
    "# 겸직임원날릴리스트"
   ]
  },
  {
   "cell_type": "code",
   "execution_count": 595,
   "id": "e236d228",
   "metadata": {},
   "outputs": [],
   "source": [
    "def 겸직임원체크1(id):\n",
    "    global 겸직임원날릴리스트\n",
    "    \n",
    "    if id in 겸직임원날릴리스트:\n",
    "        return 1\n",
    "    else:\n",
    "        return 0"
   ]
  },
  {
   "cell_type": "code",
   "execution_count": 596,
   "id": "f92cd3a0",
   "metadata": {},
   "outputs": [],
   "source": [
    "df4[\"겸직임원체크\"] = df4['rowid'].apply(겸직임원체크1)"
   ]
  },
  {
   "cell_type": "markdown",
   "id": "2e5eeb5c",
   "metadata": {},
   "source": [
    "# DF5 (최종 결과)"
   ]
  },
  {
   "cell_type": "code",
   "execution_count": 597,
   "id": "281026b2",
   "metadata": {},
   "outputs": [],
   "source": [
    "df5 = df4[['임시키','기준일자','회사','고용형태','사원유형','직급','승급일자','승급년도','승급년차','부서','사번','성명','성별','Level1', 'Level2','그룹핑','연령','연령대','겸직임원체크']]\n",
    "# df5.head(3)"
   ]
  },
  {
   "cell_type": "code",
   "execution_count": 598,
   "id": "5d79fdf4",
   "metadata": {},
   "outputs": [],
   "source": [
    "df5.to_csv(\"./return_df5.csv\", encoding=\"utf-8-sig\")"
   ]
  },
  {
   "cell_type": "code",
   "execution_count": 599,
   "id": "4897e895",
   "metadata": {},
   "outputs": [
    {
     "name": "stdout",
     "output_type": "stream",
     "text": [
      "<class 'pandas.core.frame.DataFrame'>\n",
      "RangeIndex: 34751 entries, 0 to 34750\n",
      "Data columns (total 19 columns):\n",
      " #   Column  Non-Null Count  Dtype  \n",
      "---  ------  --------------  -----  \n",
      " 0   임시키     34751 non-null  object \n",
      " 1   기준일자    34751 non-null  object \n",
      " 2   회사      34751 non-null  object \n",
      " 3   고용형태    34751 non-null  object \n",
      " 4   사원유형    34751 non-null  object \n",
      " 5   직급      25912 non-null  object \n",
      " 6   승급일자    17789 non-null  object \n",
      " 7   승급년도    17789 non-null  object \n",
      " 8   승급년차    17789 non-null  float64\n",
      " 9   부서      34259 non-null  object \n",
      " 10  사번      34751 non-null  object \n",
      " 11  성명      34751 non-null  object \n",
      " 12  성별      34751 non-null  object \n",
      " 13  Level1  34751 non-null  object \n",
      " 14  Level2  34751 non-null  object \n",
      " 15  그룹핑     34751 non-null  object \n",
      " 16  연령      34751 non-null  int64  \n",
      " 17  연령대     34751 non-null  object \n",
      " 18  겸직임원체크  34751 non-null  int64  \n",
      "dtypes: float64(1), int64(2), object(16)\n",
      "memory usage: 5.0+ MB\n"
     ]
    }
   ],
   "source": [
    "df5.info()"
   ]
  },
  {
   "cell_type": "code",
   "execution_count": 600,
   "id": "5ffd5b1b",
   "metadata": {},
   "outputs": [
    {
     "data": {
      "text/html": [
       "<div>\n",
       "<style scoped>\n",
       "    .dataframe tbody tr th:only-of-type {\n",
       "        vertical-align: middle;\n",
       "    }\n",
       "\n",
       "    .dataframe tbody tr th {\n",
       "        vertical-align: top;\n",
       "    }\n",
       "\n",
       "    .dataframe thead th {\n",
       "        text-align: right;\n",
       "    }\n",
       "</style>\n",
       "<table border=\"1\" class=\"dataframe\">\n",
       "  <thead>\n",
       "    <tr style=\"text-align: right;\">\n",
       "      <th></th>\n",
       "      <th>임시키</th>\n",
       "      <th>기준일자</th>\n",
       "      <th>회사</th>\n",
       "      <th>고용형태</th>\n",
       "      <th>사원유형</th>\n",
       "      <th>직급</th>\n",
       "      <th>승급일자</th>\n",
       "      <th>승급년도</th>\n",
       "      <th>승급년차</th>\n",
       "      <th>부서</th>\n",
       "      <th>사번</th>\n",
       "      <th>성명</th>\n",
       "      <th>성별</th>\n",
       "      <th>Level1</th>\n",
       "      <th>Level2</th>\n",
       "      <th>그룹핑</th>\n",
       "      <th>연령</th>\n",
       "      <th>연령대</th>\n",
       "      <th>겸직임원체크</th>\n",
       "    </tr>\n",
       "  </thead>\n",
       "  <tbody>\n",
       "    <tr>\n",
       "      <th>0</th>\n",
       "      <td>t4064489422106357228</td>\n",
       "      <td>t20210801</td>\n",
       "      <td>HCE</td>\n",
       "      <td>임원</td>\n",
       "      <td>계약임원</td>\n",
       "      <td>전무급</td>\n",
       "      <td>2021-07-05</td>\n",
       "      <td>2021</td>\n",
       "      <td>1.0</td>\n",
       "      <td>None</td>\n",
       "      <td>A510951</td>\n",
       "      <td>박보검</td>\n",
       "      <td>남성</td>\n",
       "      <td>직할</td>\n",
       "      <td>직할</td>\n",
       "      <td>직할_직할</td>\n",
       "      <td>63</td>\n",
       "      <td>60대</td>\n",
       "      <td>0</td>\n",
       "    </tr>\n",
       "    <tr>\n",
       "      <th>1</th>\n",
       "      <td>t1905651881356537374</td>\n",
       "      <td>t20210801</td>\n",
       "      <td>HCE</td>\n",
       "      <td>임원</td>\n",
       "      <td>계약임원</td>\n",
       "      <td>전무급</td>\n",
       "      <td>2020-07-01</td>\n",
       "      <td>2020</td>\n",
       "      <td>2.0</td>\n",
       "      <td>None</td>\n",
       "      <td>A510197</td>\n",
       "      <td>박보검</td>\n",
       "      <td>남성</td>\n",
       "      <td>직할</td>\n",
       "      <td>직할</td>\n",
       "      <td>직할_직할</td>\n",
       "      <td>54</td>\n",
       "      <td>50대</td>\n",
       "      <td>0</td>\n",
       "    </tr>\n",
       "    <tr>\n",
       "      <th>2</th>\n",
       "      <td>t-1988002264927457100</td>\n",
       "      <td>t20210801</td>\n",
       "      <td>HCE</td>\n",
       "      <td>직원</td>\n",
       "      <td>사무기술직</td>\n",
       "      <td>HL3(3)</td>\n",
       "      <td>2015-01-01</td>\n",
       "      <td>2015</td>\n",
       "      <td>7.0</td>\n",
       "      <td>Key Account팀</td>\n",
       "      <td>A460222</td>\n",
       "      <td>박보검</td>\n",
       "      <td>남성</td>\n",
       "      <td>영업</td>\n",
       "      <td>직할</td>\n",
       "      <td>영업_직할</td>\n",
       "      <td>55</td>\n",
       "      <td>50대</td>\n",
       "      <td>0</td>\n",
       "    </tr>\n",
       "  </tbody>\n",
       "</table>\n",
       "</div>"
      ],
      "text/plain": [
       "                     임시키       기준일자   회사 고용형태   사원유형      직급        승급일자  \\\n",
       "0   t4064489422106357228  t20210801  HCE   임원   계약임원     전무급  2021-07-05   \n",
       "1   t1905651881356537374  t20210801  HCE   임원   계약임원     전무급  2020-07-01   \n",
       "2  t-1988002264927457100  t20210801  HCE   직원  사무기술직  HL3(3)  2015-01-01   \n",
       "\n",
       "   승급년도  승급년차            부서       사번   성명  성별 Level1 Level2    그룹핑  연령  연령대  \\\n",
       "0  2021   1.0          None  A510951  박보검  남성     직할     직할  직할_직할  63  60대   \n",
       "1  2020   2.0          None  A510197  박보검  남성     직할     직할  직할_직할  54  50대   \n",
       "2  2015   7.0  Key Account팀  A460222  박보검  남성     영업     직할  영업_직할  55  50대   \n",
       "\n",
       "   겸직임원체크  \n",
       "0       0  \n",
       "1       0  \n",
       "2       0  "
      ]
     },
     "execution_count": 600,
     "metadata": {},
     "output_type": "execute_result"
    }
   ],
   "source": [
    "# 데이터 후처리 (사번, 성명 익명화)\n",
    "df5.drop([\"사번\",\"성명\"], axis=1)\n",
    "df5[\"성명\"] = '박보검'\n",
    "df5.head(3)"
   ]
  },
  {
   "cell_type": "code",
   "execution_count": 601,
   "id": "2f80e9f6",
   "metadata": {},
   "outputs": [],
   "source": [
    "# df5.loc[(df5[\"회사\"]==\"HDX\") & (df5[\"고용형태\"] == \"임원\") & (df5[\"기준일자\"] == \"t20230401\")]"
   ]
  },
  {
   "cell_type": "markdown",
   "id": "4d6a89a6",
   "metadata": {},
   "source": [
    "# 중간결과 저장"
   ]
  },
  {
   "cell_type": "code",
   "execution_count": 602,
   "id": "653cb951",
   "metadata": {},
   "outputs": [],
   "source": [
    "# df5.to_csv(\"df5.csv\", encoding=\"utf-8-sig\")"
   ]
  },
  {
   "cell_type": "code",
   "execution_count": 603,
   "id": "cbbc7c13",
   "metadata": {},
   "outputs": [],
   "source": [
    "import pickle\n",
    "with open (\"pickle_df1.pickle\", 'wb') as pickle_filename:\n",
    "    pickle.dump(df5, pickle_filename)"
   ]
  },
  {
   "cell_type": "code",
   "execution_count": null,
   "id": "6391f4b9",
   "metadata": {},
   "outputs": [],
   "source": []
  },
  {
   "cell_type": "code",
   "execution_count": 604,
   "id": "a2a81407",
   "metadata": {},
   "outputs": [
    {
     "data": {
      "text/html": [
       "<div>\n",
       "<style scoped>\n",
       "    .dataframe tbody tr th:only-of-type {\n",
       "        vertical-align: middle;\n",
       "    }\n",
       "\n",
       "    .dataframe tbody tr th {\n",
       "        vertical-align: top;\n",
       "    }\n",
       "\n",
       "    .dataframe thead tr th {\n",
       "        text-align: left;\n",
       "    }\n",
       "\n",
       "    .dataframe thead tr:last-of-type th {\n",
       "        text-align: right;\n",
       "    }\n",
       "</style>\n",
       "<table border=\"1\" class=\"dataframe\">\n",
       "  <thead>\n",
       "    <tr>\n",
       "      <th></th>\n",
       "      <th></th>\n",
       "      <th colspan=\"8\" halign=\"left\">임시키</th>\n",
       "    </tr>\n",
       "    <tr>\n",
       "      <th></th>\n",
       "      <th>기준일자</th>\n",
       "      <th>t20210801</th>\n",
       "      <th>t20211001</th>\n",
       "      <th>t20220101</th>\n",
       "      <th>t20220401</th>\n",
       "      <th>t20220701</th>\n",
       "      <th>t20221001</th>\n",
       "      <th>t20230101</th>\n",
       "      <th>t20230401</th>\n",
       "    </tr>\n",
       "    <tr>\n",
       "      <th>고용형태</th>\n",
       "      <th>사원유형</th>\n",
       "      <th></th>\n",
       "      <th></th>\n",
       "      <th></th>\n",
       "      <th></th>\n",
       "      <th></th>\n",
       "      <th></th>\n",
       "      <th></th>\n",
       "      <th></th>\n",
       "    </tr>\n",
       "  </thead>\n",
       "  <tbody>\n",
       "    <tr>\n",
       "      <th rowspan=\"2\" valign=\"top\">임원</th>\n",
       "      <th>전문위원</th>\n",
       "      <td>NaN</td>\n",
       "      <td>NaN</td>\n",
       "      <td>2.0</td>\n",
       "      <td>2.0</td>\n",
       "      <td>2.0</td>\n",
       "      <td>2.0</td>\n",
       "      <td>1.0</td>\n",
       "      <td>1.0</td>\n",
       "    </tr>\n",
       "    <tr>\n",
       "      <th>정규임원</th>\n",
       "      <td>7.0</td>\n",
       "      <td>11.0</td>\n",
       "      <td>21.0</td>\n",
       "      <td>22.0</td>\n",
       "      <td>23.0</td>\n",
       "      <td>23.0</td>\n",
       "      <td>30.0</td>\n",
       "      <td>30.0</td>\n",
       "    </tr>\n",
       "    <tr>\n",
       "      <th rowspan=\"4\" valign=\"top\">직원</th>\n",
       "      <th>사무기술직</th>\n",
       "      <td>67.0</td>\n",
       "      <td>101.0</td>\n",
       "      <td>265.0</td>\n",
       "      <td>260.0</td>\n",
       "      <td>269.0</td>\n",
       "      <td>268.0</td>\n",
       "      <td>358.0</td>\n",
       "      <td>360.0</td>\n",
       "    </tr>\n",
       "    <tr>\n",
       "      <th>사무지원/전문직B</th>\n",
       "      <td>2.0</td>\n",
       "      <td>7.0</td>\n",
       "      <td>13.0</td>\n",
       "      <td>17.0</td>\n",
       "      <td>18.0</td>\n",
       "      <td>18.0</td>\n",
       "      <td>22.0</td>\n",
       "      <td>24.0</td>\n",
       "    </tr>\n",
       "    <tr>\n",
       "      <th>설계연구직</th>\n",
       "      <td>30.0</td>\n",
       "      <td>33.0</td>\n",
       "      <td>115.0</td>\n",
       "      <td>137.0</td>\n",
       "      <td>137.0</td>\n",
       "      <td>137.0</td>\n",
       "      <td>283.0</td>\n",
       "      <td>296.0</td>\n",
       "    </tr>\n",
       "    <tr>\n",
       "      <th>전문직A</th>\n",
       "      <td>NaN</td>\n",
       "      <td>NaN</td>\n",
       "      <td>NaN</td>\n",
       "      <td>NaN</td>\n",
       "      <td>NaN</td>\n",
       "      <td>1.0</td>\n",
       "      <td>10.0</td>\n",
       "      <td>20.0</td>\n",
       "    </tr>\n",
       "  </tbody>\n",
       "</table>\n",
       "</div>"
      ],
      "text/plain": [
       "                     임시키                                                    \\\n",
       "기준일자           t20210801 t20211001 t20220101 t20220401 t20220701 t20221001   \n",
       "고용형태 사원유형                                                                    \n",
       "임원   전문위원            NaN       NaN       2.0       2.0       2.0       2.0   \n",
       "     정규임원            7.0      11.0      21.0      22.0      23.0      23.0   \n",
       "직원   사무기술직          67.0     101.0     265.0     260.0     269.0     268.0   \n",
       "     사무지원/전문직B       2.0       7.0      13.0      17.0      18.0      18.0   \n",
       "     설계연구직          30.0      33.0     115.0     137.0     137.0     137.0   \n",
       "     전문직A            NaN       NaN       NaN       NaN       NaN       1.0   \n",
       "\n",
       "                                    \n",
       "기준일자           t20230101 t20230401  \n",
       "고용형태 사원유형                           \n",
       "임원   전문위원            1.0       1.0  \n",
       "     정규임원           30.0      30.0  \n",
       "직원   사무기술직         358.0     360.0  \n",
       "     사무지원/전문직B      22.0      24.0  \n",
       "     설계연구직         283.0     296.0  \n",
       "     전문직A           10.0      20.0  "
      ]
     },
     "execution_count": 604,
     "metadata": {},
     "output_type": "execute_result"
    }
   ],
   "source": [
    "pdf1 = pd.pivot_table(df5[df5[\"회사\"]==\"HDX\"], index=['고용형태','사원유형'], values=['임시키'], columns = [\"기준일자\"], aggfunc='count')\n",
    "pdf1"
   ]
  },
  {
   "cell_type": "code",
   "execution_count": 605,
   "id": "68a515e5",
   "metadata": {},
   "outputs": [
    {
     "data": {
      "text/html": [
       "<div>\n",
       "<style scoped>\n",
       "    .dataframe tbody tr th:only-of-type {\n",
       "        vertical-align: middle;\n",
       "    }\n",
       "\n",
       "    .dataframe tbody tr th {\n",
       "        vertical-align: top;\n",
       "    }\n",
       "\n",
       "    .dataframe thead tr th {\n",
       "        text-align: left;\n",
       "    }\n",
       "</style>\n",
       "<table border=\"1\" class=\"dataframe\">\n",
       "  <thead>\n",
       "    <tr>\n",
       "      <th></th>\n",
       "      <th>고용형태</th>\n",
       "      <th>사원유형</th>\n",
       "      <th colspan=\"8\" halign=\"left\">임시키</th>\n",
       "    </tr>\n",
       "    <tr>\n",
       "      <th>기준일자</th>\n",
       "      <th></th>\n",
       "      <th></th>\n",
       "      <th>t20210801</th>\n",
       "      <th>t20211001</th>\n",
       "      <th>t20220101</th>\n",
       "      <th>t20220401</th>\n",
       "      <th>t20220701</th>\n",
       "      <th>t20221001</th>\n",
       "      <th>t20230101</th>\n",
       "      <th>t20230401</th>\n",
       "    </tr>\n",
       "  </thead>\n",
       "  <tbody>\n",
       "    <tr>\n",
       "      <th>0</th>\n",
       "      <td>임원</td>\n",
       "      <td>전문위원</td>\n",
       "      <td>NaN</td>\n",
       "      <td>NaN</td>\n",
       "      <td>2.0</td>\n",
       "      <td>2.0</td>\n",
       "      <td>2.0</td>\n",
       "      <td>2.0</td>\n",
       "      <td>1.0</td>\n",
       "      <td>1.0</td>\n",
       "    </tr>\n",
       "    <tr>\n",
       "      <th>1</th>\n",
       "      <td>임원</td>\n",
       "      <td>정규임원</td>\n",
       "      <td>7.0</td>\n",
       "      <td>11.0</td>\n",
       "      <td>21.0</td>\n",
       "      <td>22.0</td>\n",
       "      <td>23.0</td>\n",
       "      <td>23.0</td>\n",
       "      <td>30.0</td>\n",
       "      <td>30.0</td>\n",
       "    </tr>\n",
       "    <tr>\n",
       "      <th>2</th>\n",
       "      <td>직원</td>\n",
       "      <td>사무기술직</td>\n",
       "      <td>67.0</td>\n",
       "      <td>101.0</td>\n",
       "      <td>265.0</td>\n",
       "      <td>260.0</td>\n",
       "      <td>269.0</td>\n",
       "      <td>268.0</td>\n",
       "      <td>358.0</td>\n",
       "      <td>360.0</td>\n",
       "    </tr>\n",
       "    <tr>\n",
       "      <th>3</th>\n",
       "      <td>직원</td>\n",
       "      <td>사무지원/전문직B</td>\n",
       "      <td>2.0</td>\n",
       "      <td>7.0</td>\n",
       "      <td>13.0</td>\n",
       "      <td>17.0</td>\n",
       "      <td>18.0</td>\n",
       "      <td>18.0</td>\n",
       "      <td>22.0</td>\n",
       "      <td>24.0</td>\n",
       "    </tr>\n",
       "    <tr>\n",
       "      <th>4</th>\n",
       "      <td>직원</td>\n",
       "      <td>설계연구직</td>\n",
       "      <td>30.0</td>\n",
       "      <td>33.0</td>\n",
       "      <td>115.0</td>\n",
       "      <td>137.0</td>\n",
       "      <td>137.0</td>\n",
       "      <td>137.0</td>\n",
       "      <td>283.0</td>\n",
       "      <td>296.0</td>\n",
       "    </tr>\n",
       "    <tr>\n",
       "      <th>5</th>\n",
       "      <td>직원</td>\n",
       "      <td>전문직A</td>\n",
       "      <td>NaN</td>\n",
       "      <td>NaN</td>\n",
       "      <td>NaN</td>\n",
       "      <td>NaN</td>\n",
       "      <td>NaN</td>\n",
       "      <td>1.0</td>\n",
       "      <td>10.0</td>\n",
       "      <td>20.0</td>\n",
       "    </tr>\n",
       "  </tbody>\n",
       "</table>\n",
       "</div>"
      ],
      "text/plain": [
       "     고용형태       사원유형       임시키                                          \\\n",
       "기준일자                 t20210801 t20211001 t20220101 t20220401 t20220701   \n",
       "0      임원       전문위원       NaN       NaN       2.0       2.0       2.0   \n",
       "1      임원       정규임원       7.0      11.0      21.0      22.0      23.0   \n",
       "2      직원      사무기술직      67.0     101.0     265.0     260.0     269.0   \n",
       "3      직원  사무지원/전문직B       2.0       7.0      13.0      17.0      18.0   \n",
       "4      직원      설계연구직      30.0      33.0     115.0     137.0     137.0   \n",
       "5      직원       전문직A       NaN       NaN       NaN       NaN       NaN   \n",
       "\n",
       "                                    \n",
       "기준일자 t20221001 t20230101 t20230401  \n",
       "0          2.0       1.0       1.0  \n",
       "1         23.0      30.0      30.0  \n",
       "2        268.0     358.0     360.0  \n",
       "3         18.0      22.0      24.0  \n",
       "4        137.0     283.0     296.0  \n",
       "5          1.0      10.0      20.0  "
      ]
     },
     "execution_count": 605,
     "metadata": {},
     "output_type": "execute_result"
    }
   ],
   "source": [
    "pdf1.reset_index()"
   ]
  },
  {
   "cell_type": "code",
   "execution_count": null,
   "id": "0d47b865",
   "metadata": {},
   "outputs": [],
   "source": []
  },
  {
   "cell_type": "code",
   "execution_count": null,
   "id": "be8ba6a5",
   "metadata": {},
   "outputs": [],
   "source": []
  },
  {
   "cell_type": "code",
   "execution_count": null,
   "id": "4e74e652",
   "metadata": {},
   "outputs": [],
   "source": []
  }
 ],
 "metadata": {
  "kernelspec": {
   "display_name": "Python 3 (ipykernel)",
   "language": "python",
   "name": "python3"
  },
  "language_info": {
   "codemirror_mode": {
    "name": "ipython",
    "version": 3
   },
   "file_extension": ".py",
   "mimetype": "text/x-python",
   "name": "python",
   "nbconvert_exporter": "python",
   "pygments_lexer": "ipython3",
   "version": "3.8.10"
  },
  "vscode": {
   "interpreter": {
    "hash": "f6ed05f440c98b4eabef654b2e9df70ea2152fc4ac142696c956f56d51b04e6c"
   }
  }
 },
 "nbformat": 4,
 "nbformat_minor": 5
}
