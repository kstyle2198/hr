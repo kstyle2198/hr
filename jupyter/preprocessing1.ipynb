{
 "cells": [
  {
   "cell_type": "code",
   "execution_count": null,
   "id": "cd1bf564",
   "metadata": {},
   "outputs": [],
   "source": [
    "import pandas as pd\n",
    "import numpy as np\n",
    "import sqlite3\n",
    "import warnings\n",
    "import re\n",
    "from ipyvizzu import Data, Config, Style\n",
    "from ipyvizzustory import Story, Slide, Step\n",
    "from datetime import datetime\n",
    "warnings.filterwarnings(action='ignore')"
   ]
  },
  {
   "cell_type": "code",
   "execution_count": null,
   "id": "674d9a84",
   "metadata": {},
   "outputs": [],
   "source": [
    "import functools # not required, but helps in production\n",
    "def unpack_df_columns(func):\n",
    "    \"\"\"\n",
    "    A general use decorator to unpack a df[subset] of columns\n",
    "    into a function which expects the values at those columns\n",
    "    as arguments\n",
    "    \"\"\"\n",
    "    \n",
    "    @functools.wraps(func)\n",
    "    def _unpack_df_columns(*args, **kwargs):\n",
    "        \n",
    "        # args[0] is a pandas series equal in length as the \n",
    "        # df[subset] to which the apply function is applied \n",
    "        series = args[0]\n",
    "\n",
    "        # series.values holds the number of arguments expected\n",
    "        # by func and is os length len(df[subset].columns)\n",
    "        return func(*series.values)\n",
    "\n",
    "    return _unpack_df_columns"
   ]
  },
  {
   "cell_type": "code",
   "execution_count": null,
   "id": "9c53e630",
   "metadata": {},
   "outputs": [],
   "source": [
    "# Read sqlite query results into a pandas DataFrame\n",
    "con = sqlite3.connect(\"../db/hr.db\")\n",
    "df = pd.read_sql_query(\"SELECT * from base_info\", con)"
   ]
  },
  {
   "cell_type": "code",
   "execution_count": null,
   "id": "65c6208d",
   "metadata": {},
   "outputs": [],
   "source": [
    "pd.set_option('display.max_rows', 1000)\n",
    "pd.set_option('display.max_columns', 1000)"
   ]
  },
  {
   "cell_type": "code",
   "execution_count": null,
   "id": "164ba21b",
   "metadata": {},
   "outputs": [],
   "source": [
    "df.shape"
   ]
  },
  {
   "cell_type": "code",
   "execution_count": null,
   "id": "cf9ee067",
   "metadata": {},
   "outputs": [],
   "source": [
    "# df.head(1)"
   ]
  },
  {
   "cell_type": "code",
   "execution_count": null,
   "id": "7ccc28bc",
   "metadata": {},
   "outputs": [],
   "source": [
    "# df[\"사원유형\"].value_counts()"
   ]
  },
  {
   "cell_type": "code",
   "execution_count": null,
   "id": "1bc6e994",
   "metadata": {},
   "outputs": [],
   "source": [
    "columns = ['기준일자','회사','사업본부(지원)','부문','부서','소속','직위','사번','성명','성별','주민번호','생년월일','고용형태','사원유형','직군','직급','그룹입사일자','승급일자','채용경로']"
   ]
  },
  {
   "cell_type": "code",
   "execution_count": null,
   "id": "a7c02fd3",
   "metadata": {},
   "outputs": [],
   "source": [
    "def 고용형태_변환(df):\n",
    "    회사 = df[\"회사\"]\n",
    "    고용형태 = df[\"고용형태\"]\n",
    "    사원유형 = df[\"사원유형\"]\n",
    "    \n",
    "    if 회사 == \"HDX\" or 회사 == \"HCE\" or 회사 == \"HCM\":\n",
    "        \n",
    "        if 고용형태 == \"정규임원\"and 사원유형 == \"임원\":\n",
    "            return \"임원\"\n",
    "        elif 고용형태 == \"정규임원\"and 사원유형 == \"전문위원\":\n",
    "            return \"임원\"\n",
    "        elif 고용형태 == \"전문위원\"and 사원유형 == \"전문위원\":\n",
    "            return \"임원\"\n",
    "        elif 고용형태 == \"계약임원\"and 사원유형 == \"임원\":\n",
    "            return \"임원\"\n",
    "        \n",
    "        elif 고용형태 == \"상근임원\"and 사원유형 == \"퇴임임원\":\n",
    "            return \"퇴임임원\"\n",
    "        elif 고용형태 == \"비상근임원\"and 사원유형 == \"퇴임임원\":\n",
    "            return \"퇴임임원\"\n",
    "\n",
    "        elif 고용형태 == \"직원\"and 사원유형 == \"설계기술직\":\n",
    "            return \"직원\"\n",
    "        elif 고용형태 == \"직원\"and 사원유형 == \"연구직\":\n",
    "            return \"직원\"\n",
    "        elif 고용형태 == \"직원\"and 사원유형 == \"전문직\":\n",
    "            return \"직원\"\n",
    "    \n",
    "        elif 고용형태 == \"일반계약직\"and 사원유형 == \"별정직\":\n",
    "            return \"기간제\"\n",
    "        elif 고용형태 == \"일반계약직\"and 사원유형 == \"사무기술직\":\n",
    "            return \"기간제\"\n",
    "        elif 고용형태 == \"일반계약직\"and 사원유형 == \"생산기술직\":\n",
    "            return \"기간제\"\n",
    "        elif 고용형태 == \"일반계약직\"and 사원유형 == \"설계기술직\":\n",
    "            return \"기간제\"\n",
    "        elif 고용형태 == \"일반계약직\"and 사원유형 == \"연구직\":\n",
    "            return \"기간제\"\n",
    "        \n",
    "        elif 고용형태 == \"정년후계약직\"and 사원유형 == \"사무기술직\":\n",
    "            return \"기간제\"\n",
    "        elif 고용형태 == \"정년후계약직\"and 사원유형 == \"생산기술직\":\n",
    "            return \"기간제\"\n",
    "        \n",
    "        elif 고용형태 == \"조건제계약직\"and 사원유형 == \"사무기술직\":\n",
    "            return \"기간제\"\n",
    "        elif 고용형태 == \"조건제계약직\"and 사원유형 == \"설계기술직\":\n",
    "            return \"기간제\"\n",
    "        elif 고용형태 == \"조건제계약직\"and 사원유형 == \"연구직\":\n",
    "            return \"기간제\"\n",
    "\n",
    "        elif 고용형태 == \"고용외국인\"and 사원유형 == \"사무기술직\":\n",
    "            return \"기간제\"\n",
    "        elif 고용형태 == \"파견후계약직\"and 사원유형 == \"별정직\":\n",
    "            return \"기간제\"\n",
    "        \n",
    "        elif 고용형태 == \"조건제계약직\"and 사원유형 == \"연구직\":\n",
    "            return \"기간제\"\n",
    "        else:\n",
    "            return 고용형태\n",
    "    else:\n",
    "        return 고용형태\n"
   ]
  },
  {
   "cell_type": "code",
   "execution_count": null,
   "id": "7d2dca6c",
   "metadata": {},
   "outputs": [],
   "source": [
    "def 사원유형_변환(df):\n",
    "    회사 = df[\"회사\"]\n",
    "    고용형태 = df[\"고용형태\"]\n",
    "    사원유형 = df[\"사원유형\"]\n",
    "    \n",
    "    if 회사 == \"HDX\" or 회사 == \"HCE\" or 회사 == \"HCM\":\n",
    "        \n",
    "        if 고용형태 == \"정규임원\"and 사원유형 == \"임원\":\n",
    "            return \"정규임원\"\n",
    "        elif 고용형태 == \"정규임원\"and 사원유형 == \"전문위원\":\n",
    "            return \"전문위원\"\n",
    "        elif 고용형태 == \"전문위원\"and 사원유형 == \"전문위원\":\n",
    "            return \"전문위원\"\n",
    "        elif 고용형태 == \"계약임원\"and 사원유형 == \"임원\":\n",
    "            return \"계약임원\"\n",
    "        \n",
    "        elif 고용형태 == \"상근임원\"and 사원유형 == \"퇴임임원\":\n",
    "            return \"상근임원\"\n",
    "        elif 고용형태 == \"비상근임원\"and 사원유형 == \"퇴임임원\":\n",
    "            return \"비상근임원\"\n",
    "\n",
    "        elif 고용형태 == \"직원\"and 사원유형 == \"설계기술직\":\n",
    "            return \"설계연구직\"\n",
    "        elif 고용형태 == \"직원\"and 사원유형 == \"연구직\":\n",
    "            return \"설계연구직\"\n",
    "        elif 고용형태 == \"직원\"and 사원유형 == \"전문직\":\n",
    "            return \"전문직A\"\n",
    "        elif 고용형태 == \"직원\"and 사원유형 == \"사무지원직\":\n",
    "            return \"사무지원/전문직B\"\n",
    "        \n",
    "        elif 고용형태 == \"일반계약직\"and 사원유형 == \"별정직\":\n",
    "            return \"일반계약직\"\n",
    "        elif 고용형태 == \"일반계약직\"and 사원유형 == \"사무기술직\":\n",
    "            return \"일반계약직\"\n",
    "        elif 고용형태 == \"일반계약직\"and 사원유형 == \"생산기술직\":\n",
    "            return \"일반계약직\"\n",
    "        elif 고용형태 == \"일반계약직\"and 사원유형 == \"설계기술직\":\n",
    "            return \"일반계약직\"\n",
    "        elif 고용형태 == \"일반계약직\"and 사원유형 == \"연구직\":\n",
    "            return \"일반계약직\"\n",
    "        \n",
    "        elif 고용형태 == \"정년후계약직\"and 사원유형 == \"사무기술직\":\n",
    "            return \"정년후계약직\"\n",
    "        elif 고용형태 == \"정년후계약직\"and 사원유형 == \"생산기술직\":\n",
    "            return \"정년후계약직\"\n",
    "        \n",
    "        elif 고용형태 == \"조건제계약직\"and 사원유형 == \"사무기술직\":\n",
    "            return \"일반계약직\"\n",
    "        elif 고용형태 == \"조건제계약직\"and 사원유형 == \"설계기술직\":\n",
    "            return \"일반계약직\"\n",
    "        elif 고용형태 == \"조건제계약직\"and 사원유형 == \"연구직\":\n",
    "            return \"일반계약직\"\n",
    "\n",
    "        elif 고용형태 == \"고용외국인\"and 사원유형 == \"사무기술직\":\n",
    "            return \"일반계약직\"\n",
    "        elif 고용형태 == \"파견후계약직\"and 사원유형 == \"별정직\":\n",
    "            return \"파견후계약직\"\n",
    "        \n",
    "        elif 고용형태 == \"조건제계약직\"and 사원유형 == \"연구직\":\n",
    "            return \"일반계약직\"\n",
    "        else:\n",
    "            return 사원유형\n",
    "        \n",
    "    elif 회사 == \"HDI\":\n",
    "        if 고용형태 == \"직원\"and 사원유형 == \"전문직B\":\n",
    "            return \"사무지원/전문직B\"\n",
    "        elif 고용형태 == \"직원\"and 사원유형 == \"별정직A\":\n",
    "            return \"별정직\"\n",
    "        elif 고용형태 == \"직원\"and 사원유형 == \"별정직B\":\n",
    "            return \"별정직\"\n",
    "        else:\n",
    "            return 사원유형\n",
    "        \n",
    "    else:\n",
    "        return 사원유형\n"
   ]
  },
  {
   "cell_type": "code",
   "execution_count": null,
   "id": "71f30d51",
   "metadata": {},
   "outputs": [],
   "source": [
    "@unpack_df_columns\n",
    "def get_age(기준일자, birth_year):\n",
    "    age = int(기준일자[1:5]) - int(birth_year[:4])\n",
    "    return age"
   ]
  },
  {
   "cell_type": "code",
   "execution_count": null,
   "id": "2d7fcf86",
   "metadata": {},
   "outputs": [],
   "source": [
    "def add_age_range(age):\n",
    "    return str(int(np.floor(age/10)*10))+\"대\""
   ]
  },
  {
   "cell_type": "code",
   "execution_count": null,
   "id": "09988100",
   "metadata": {},
   "outputs": [],
   "source": [
    "def 직급간소화_변환(직급):\n",
    "    if 직급 == \"과장급\":\n",
    "        직급 = \"HL3(1)\"\n",
    "    elif 직급 == \"상무보급\":\n",
    "        직급 = \"상무급\"\n",
    "    elif 직급 == \"HL3\":\n",
    "        직급 = \"HL3(1)\"\n",
    "    elif 직급 == \"HL4\":\n",
    "        직급 = \"HL3(2)\"\n",
    "    elif 직급 == \"HL5\":\n",
    "        직급 = \"HL3(3)\"\n",
    "    \n",
    "    return 직급"
   ]
  },
  {
   "cell_type": "code",
   "execution_count": null,
   "id": "893a3ade",
   "metadata": {},
   "outputs": [],
   "source": [
    "def 현대인프라팀명추출(df):\n",
    "    사업본부 = df[\"사업본부(지원)\"]\n",
    "    회사 = df[\"회사\"]\n",
    "    소속 = df[\"소속\"]\n",
    "    부서 = df[\"부서\"]\n",
    "    pattern1 = r'\\b\\w+(?:팀)'\n",
    "    pattern2 = r'\\b\\w+(?:법인)'\n",
    "    pattern3 = r'\\b\\w+(?:부)'\n",
    "\n",
    "    if 회사 == \"HDI\":\n",
    "        # \"~부\"를 추출하기 위해 \"~본부\"를 삭제하고 특수문제 &도 삭제한다.\n",
    "        소속 = 소속.replace(\"본부\", \"\").replace(\"부문\", \"\").replace(\"&\",\"\").replace(\"/\",\"\")\n",
    "        소속 = 소속.replace(\"이큐브솔루션\", \"이큐브솔루션팀\")\n",
    "        소속 = 소속.replace(\"HDEC\", \"HDEC팀\")\n",
    "        소속 = 소속.replace(\"HRBP\", \"HRBP팀\")\n",
    "\n",
    "        \n",
    "        팀명 = re.findall(pattern1, 소속)   # 팀으로 끝나는 거 추출\n",
    "        if len(팀명)  == 1:\n",
    "            return f\"{사업본부}_{팀명[0]}\"\n",
    "        else:   # 그런데.. 추출된게 없으면,\n",
    "            팀명 = re.findall(pattern2, 소속)      # 법인으로 끝나는 거 추출\n",
    "            \n",
    "            if len(팀명) == 1:                 \n",
    "                return f\"{사업본부}_{팀명[0]}\"     # 법인으로 추출된게 있으면... 리턴해라..\n",
    "            else:\n",
    "                팀명 = re.findall(pattern3, 소속)   # 법인으로도 추출된게 없으면.. 부로 끝나는 것 추출\n",
    "                \n",
    "                if len(팀명) == 1:           \n",
    "                    return f\"{사업본부}_{팀명[0]}\"   # 부으로 끝나는 것 추출된게 있으면 리턴\n",
    "                else:\n",
    "                    return 소속\n",
    "    else:\n",
    "        return 부서"
   ]
  },
  {
   "cell_type": "code",
   "execution_count": null,
   "id": "d8315200",
   "metadata": {},
   "outputs": [],
   "source": [
    "def get_승급년도(승급일자):\n",
    "    try:\n",
    "        return 승급일자[:4]\n",
    "    except:\n",
    "        pass"
   ]
  },
  {
   "cell_type": "code",
   "execution_count": null,
   "id": "deb503e7",
   "metadata": {},
   "outputs": [],
   "source": [
    "@unpack_df_columns\n",
    "def get_승급년차(기준일자, 승급년도):\n",
    "    try:\n",
    "        if 승급년도 is None:\n",
    "            return \n",
    "        \n",
    "        else:\n",
    "            return int(기준일자[1:5]) - int(승급년도) + 1\n",
    "    except:\n",
    "        pass"
   ]
  },
  {
   "cell_type": "code",
   "execution_count": null,
   "id": "173c52be",
   "metadata": {},
   "outputs": [],
   "source": []
  },
  {
   "cell_type": "markdown",
   "id": "5a7d4286",
   "metadata": {},
   "source": [
    "## base DF1 생성"
   ]
  },
  {
   "cell_type": "code",
   "execution_count": null,
   "id": "f47bc374",
   "metadata": {},
   "outputs": [],
   "source": [
    "# 퇴임임원 자문역 날리기\n",
    "df1 = df[columns]\n",
    "df1.reset_index(drop=True, inplace=True)   # index 새로 부여\n",
    "# df1[\"사원유형\"].unique()"
   ]
  },
  {
   "cell_type": "code",
   "execution_count": null,
   "id": "4d01424c",
   "metadata": {},
   "outputs": [],
   "source": [
    "df1.info()"
   ]
  },
  {
   "cell_type": "markdown",
   "id": "39072f5f",
   "metadata": {},
   "source": [
    "## 겸직발령인원 제거하기(HDI, HCE 각각)\n",
    "- 제뉴인의 재정팀 및 내부회계 겸직자는 DB에서 날림"
   ]
  },
  {
   "cell_type": "code",
   "execution_count": null,
   "id": "b2b32a79",
   "metadata": {},
   "outputs": [],
   "source": [
    "# HDI 겸직발령 임직원 인덱스 추출후 드랍\n",
    "drop_df1 = df1.loc[(df1[\"회사\"] == \"HDI\") & (df1[\"사업본부(지원)\"] == \"현대제뉴인\")]\n",
    "drop_index = drop_df1.index.tolist()\n",
    "df1 = df1.drop(index=drop_index)"
   ]
  },
  {
   "cell_type": "code",
   "execution_count": null,
   "id": "5ddc1f56",
   "metadata": {},
   "outputs": [],
   "source": [
    "# 현건ㄴ기 겸직자 전처리 대상 사번\n",
    "현건기겸직자사번리스트 = ['A524204',\n",
    " 'A524205',\n",
    " 'A524206',\n",
    " 'A524207',\n",
    " 'A524208',\n",
    " 'A524209',\n",
    " 'A524210',\n",
    " 'A524211',\n",
    " 'A524212',\n",
    " 'A524213',\n",
    " 'A524214',\n",
    " 'A524215',\n",
    " 'A524216',\n",
    " 'A524217',\n",
    " 'A524218',\n",
    " 'A524219',\n",
    " 'A524220',\n",
    " 'A524221',\n",
    " 'A524222',\n",
    " 'A524223',\n",
    " 'A524224',\n",
    " 'A524225',\n",
    " 'A524226',\n",
    " 'A524227',\n",
    " 'A524228',\n",
    " 'A524229',\n",
    " 'A524230',\n",
    " 'A524231',\n",
    " 'A524232',\n",
    " 'A524233',\n",
    " 'A524234',\n",
    " 'A524235',\n",
    " 'A524236',\n",
    " 'A524237',\n",
    " 'A524238',\n",
    " 'A524239',\n",
    " 'A524240',\n",
    " 'A524241',\n",
    " 'A524242',\n",
    " 'A524243',\n",
    " 'A524244',\n",
    " 'A524245',\n",
    " 'A524246',\n",
    " 'A524247',\n",
    " 'A524248',\n",
    " 'A524249',\n",
    " 'A524250',\n",
    " 'A524251',\n",
    " 'A524252',\n",
    " 'A524253',\n",
    " 'A524254',\n",
    " 'A524255',\n",
    " 'A524256',\n",
    " 'A524257',\n",
    " 'A524258',\n",
    " 'A524259',\n",
    " 'A524260',\n",
    " 'A524307',\n",
    " 'A523742',\n",
    " 'A523767',\n",
    " 'A523768',\n",
    " 'A523743',\n",
    " 'A523744',\n",
    " 'A523745',\n",
    " 'A523746',\n",
    " 'A523748',\n",
    " 'A523765',\n",
    " 'A524456',\n",
    " 'A524457']"
   ]
  },
  {
   "cell_type": "code",
   "execution_count": null,
   "id": "7d88a35b",
   "metadata": {},
   "outputs": [],
   "source": [
    "'''\n",
    "23년 1월 1일 현건기 기준명부상 겸직발령자 식별 불가\n",
    "23년 2월 8일 발령부터 겸직자 부문명을 \"겸직 제뉴인부문\"으로 변경\n",
    "이에 2월 8일 겸직자 사번 기준으로 23년 1월 1일 기준으로 대상자의 부문을 \"겸직 제뉴인부문\"으로 변경하고\n",
    "부문명에 \"겸직\"이 들어간 대상자를 드랍하여 겸직자를 제거함\n",
    "'''\n",
    "def 현건기겸직자23년1월부문변경(df):\n",
    "    기준일자 = df['기준일자']\n",
    "    사번 = df['사번']\n",
    "    회사 = df['회사']\n",
    "    부문 = df['부문']\n",
    "    global 현건기겸직자사번리스트 \n",
    "\n",
    "    if 기준일자 == \"t20230101\" and 회사 == \"HCE\" and 사번 in 현건기겸직자사번리스트:\n",
    "        부문 = \"겸직 제뉴인부문\"\n",
    "        return 부문\n",
    "    else:\n",
    "        return 부문"
   ]
  },
  {
   "cell_type": "code",
   "execution_count": null,
   "id": "b2baf285",
   "metadata": {},
   "outputs": [],
   "source": [
    "df1['부문'] = df1.apply(현건기겸직자23년1월부문변경, axis=1)"
   ]
  },
  {
   "cell_type": "code",
   "execution_count": null,
   "id": "b5d3dc4f",
   "metadata": {},
   "outputs": [],
   "source": [
    "# HCE 부문칼럼에 \"겸직\"이 있는 행 드랍\n",
    "df1['부문'].fillna(\"empty_value\", inplace=True)\n",
    "drop = df1['부문'].str.contains(\"겸직\")\n",
    "df1 = df1[~drop]"
   ]
  },
  {
   "cell_type": "code",
   "execution_count": null,
   "id": "6b084cf7",
   "metadata": {},
   "outputs": [],
   "source": [
    "# 제뉴인은 입사구분에 \"계열회사 출입등록\" 일괄 삭제\n",
    "drop_df1 = df1.loc[(df1[\"회사\"] == \"HDX\")&(df1[\"채용경로\"] == \"계열회사 출입등록\")]\n",
    "drop_index = drop_df1.index.tolist()\n",
    "df1 = df1.drop(index=drop_index)"
   ]
  },
  {
   "cell_type": "markdown",
   "id": "bc6408eb",
   "metadata": {},
   "source": [
    "## 고용형태 및 사원유형 변환"
   ]
  },
  {
   "cell_type": "code",
   "execution_count": null,
   "id": "971ffad4",
   "metadata": {},
   "outputs": [],
   "source": [
    "# df1[\"사원유형\"].value_counts()"
   ]
  },
  {
   "cell_type": "code",
   "execution_count": null,
   "id": "8ffefdbe",
   "metadata": {},
   "outputs": [],
   "source": [
    "# df1[df1[\"사원유형\"] == \"임원\"]"
   ]
  },
  {
   "cell_type": "code",
   "execution_count": null,
   "id": "a397c18b",
   "metadata": {},
   "outputs": [],
   "source": [
    "df1[\"수정_고용형태\"] = df1.apply(고용형태_변환, axis=1)\n",
    "df1[\"수정_사원유형\"] = df1.apply(사원유형_변환, axis=1)\n",
    "df1[\"직급\"] = df1[\"직급\"].apply(직급간소화_변환)\n",
    "\n",
    "df1[\"고용형태\"] = df1[\"수정_고용형태\"]\n",
    "df1[\"사원유형\"] = df1[\"수정_사원유형\"]"
   ]
  },
  {
   "cell_type": "code",
   "execution_count": null,
   "id": "8ed79c37",
   "metadata": {},
   "outputs": [],
   "source": [
    "# df1[\"고용형태\"].value_counts()"
   ]
  },
  {
   "cell_type": "code",
   "execution_count": null,
   "id": "15321a7f",
   "metadata": {},
   "outputs": [],
   "source": [
    "df1[\"사원유형\"].value_counts()"
   ]
  },
  {
   "cell_type": "code",
   "execution_count": null,
   "id": "172d5c9c",
   "metadata": {},
   "outputs": [],
   "source": [
    "df1.loc[(df1[\"기준일자\"] == \"t20230401\")&(df1[\"성명\"]==\"김범철\")]"
   ]
  },
  {
   "cell_type": "markdown",
   "id": "fef82be6",
   "metadata": {},
   "source": [
    "# 그룹핑 전처리 구간"
   ]
  },
  {
   "cell_type": "markdown",
   "id": "867a85e2",
   "metadata": {},
   "source": [
    "## 현대인프라팀명 추출후 부서칼럼에 저장 (3사별 조작 칼럼을 동일하게 맞추기 위해)"
   ]
  },
  {
   "cell_type": "code",
   "execution_count": null,
   "id": "8d209307",
   "metadata": {},
   "outputs": [],
   "source": [
    "# HDI는 부서 칼럼값이 없어서 소속 정보에서 ~\"팀\" \"부\"로 끝나는 팀명을 추출하여 부서 칼럼값으로 넣기\n",
    "df1[\"부서\"] = df1.apply(현대인프라팀명추출, axis=1)  \n",
    "# df1[df1[\"회사\"]==\"HDI\"][\"부서\"].unique()"
   ]
  },
  {
   "cell_type": "markdown",
   "id": "0e950c44",
   "metadata": {},
   "source": [
    "## 회사별 Unique 팀명 추출후 데이터프레임 통합 (Level1, Level2 그룹핑 검토용)"
   ]
  },
  {
   "cell_type": "code",
   "execution_count": null,
   "id": "00a8fa08",
   "metadata": {},
   "outputs": [],
   "source": [
    "# 회사별로 \"팀명\"과 \"회사명\" 두개 칼럼으로 구성된 데이터프레임 생성후 Concat\n",
    "\n",
    "# HDI_team = pd.DataFrame({\"부서\": df1[df1[\"회사\"]==\"HDI\"][\"부서\"].unique().tolist()})\n",
    "# HDI_team[\"회사\"] = \"HDI\"\n",
    "\n",
    "# HCE_team = pd.DataFrame({\"부서\": df1[df1[\"회사\"]==\"HCE\"][\"부서\"].unique().tolist()})\n",
    "# HCE_team[\"회사\"] = \"HCE\"\n",
    "\n",
    "# HDX_team = pd.DataFrame({\"부서\": df1[df1[\"회사\"]==\"HDX\"][\"부서\"].unique().tolist()})\n",
    "# HDX_team[\"회사\"] = \"HDX\"\n",
    "\n",
    "# total_team = pd.concat([HDI_team, HCE_team, HDX_team])\n",
    "# len(total_team)\n"
   ]
  },
  {
   "cell_type": "code",
   "execution_count": null,
   "id": "1114088b",
   "metadata": {},
   "outputs": [],
   "source": [
    "# total_team[total_team[\"회사명\"] == \"HDI\"][\"팀명\"].tolist()"
   ]
  },
  {
   "cell_type": "code",
   "execution_count": null,
   "id": "ffd1ce5e",
   "metadata": {},
   "outputs": [],
   "source": [
    "# 검토를 위해 CSV로 저장 후 Level1, Level2 그룹핑 검토 --> 검토후 정리된 파일의 이름을 \"team_grouping.csv\"로 수정\n",
    "# total_team.to_csv('total.csv', encoding=\"utf-8-sig\")"
   ]
  },
  {
   "cell_type": "markdown",
   "id": "9bd56c7f",
   "metadata": {},
   "source": [
    "## 팀 그룹핑 파일 불러오기"
   ]
  },
  {
   "cell_type": "code",
   "execution_count": null,
   "id": "2828573c",
   "metadata": {},
   "outputs": [],
   "source": [
    "grouping_df = pd.read_csv(\"team_grouping.csv\", encoding='UTF8')\n",
    "# grouping_df"
   ]
  },
  {
   "cell_type": "code",
   "execution_count": null,
   "id": "b892e8d5",
   "metadata": {},
   "outputs": [],
   "source": [
    "grouping_df[\"Level1\"].unique()"
   ]
  },
  {
   "cell_type": "code",
   "execution_count": null,
   "id": "001191c8",
   "metadata": {},
   "outputs": [],
   "source": [
    "grouping_df[\"Level2\"].unique()"
   ]
  },
  {
   "cell_type": "code",
   "execution_count": null,
   "id": "1e9c184b",
   "metadata": {},
   "outputs": [],
   "source": [
    "# df1.loc[(df1[\"기준일자\"] == \"t20230401\")&(df1[\"성명\"]==\"김종배\")]"
   ]
  },
  {
   "cell_type": "markdown",
   "id": "f2aed30e",
   "metadata": {},
   "source": [
    "## DF2에 Left Join"
   ]
  },
  {
   "cell_type": "code",
   "execution_count": null,
   "id": "1f2067b2",
   "metadata": {},
   "outputs": [],
   "source": [
    "# 사번대체 임시키 생성\n",
    "def temp_key(val):\n",
    "    key = \"t\"+str(hash(val))\n",
    "    return key"
   ]
  },
  {
   "cell_type": "code",
   "execution_count": null,
   "id": "e22a9047",
   "metadata": {},
   "outputs": [],
   "source": [
    "# 일부 계열사간 이동 이력 직원의 생일을 양력 기준으로 통일\n",
    "def new_birthday(kf):\n",
    "    global df2\n",
    "    주민번호 = kf[\"주민번호\"]\n",
    "    생년월일 = kf[\"생년월일\"]\n",
    "    \n",
    "    if 주민번호 != None:\n",
    "        \n",
    "        if 주민번호[0] == \"0\":\n",
    "\n",
    "            temp = \"20\"+주민번호[:6]\n",
    "            temp = temp[:4]+\"-\"+temp[4:6]+\"-\"+temp[6:8]\n",
    "            temp = datetime.strptime(temp, '%Y-%m-%d')\n",
    "        #     temp = temp.strftime('%Y-%m-%d')\n",
    "            return temp\n",
    "\n",
    "        else:\n",
    "            temp = \"19\"+주민번호[:6]\n",
    "            temp = temp[:4]+\"-\"+temp[4:6]+\"-\"+temp[6:8]\n",
    "            temp = datetime.strptime(temp, '%Y-%m-%d')\n",
    "        #     temp = temp.strftime('%Y-%m-%d')\n",
    "            return temp\n",
    "    \n",
    "    else:\n",
    "        return 생년월일\n",
    "    "
   ]
  },
  {
   "cell_type": "code",
   "execution_count": null,
   "id": "7ea480aa",
   "metadata": {},
   "outputs": [],
   "source": [
    "df2 = pd.merge(df1,grouping_df, on=['회사','부서'], how='left')"
   ]
  },
  {
   "cell_type": "code",
   "execution_count": null,
   "id": "9a41311e",
   "metadata": {},
   "outputs": [],
   "source": [
    "df2.loc[(df2[\"기준일자\"] == \"t20230401\")&(df2[\"성명\"]==\"김범철\")]"
   ]
  },
  {
   "cell_type": "code",
   "execution_count": null,
   "id": "3758b8b4",
   "metadata": {},
   "outputs": [],
   "source": [
    "# 안쓰는 칼럼 날리고\n",
    "df2.drop(['부문','열','사업본부(지원)','소속', '직군'], axis=1, inplace=True)\n",
    "# 팀 상위그룹핑 칼럼 추가\n",
    "# df2.fillna(\"\", inplace=True)\n",
    "df2[\"Level1\"].fillna(\"직할\", inplace=True)\n",
    "df2[\"Level2\"].fillna(\"직할\", inplace=True)\n",
    "df2[\"그룹핑\"] = df2[\"Level1\"].str.cat(df2[\"Level2\"],sep='_',na_rep=\"직할\")\n",
    "df2[\"새생년월일\"] = df2.apply(new_birthday, axis=1)\n",
    "df2[\"임시키\"] = df2[\"새생년월일\"].astype('str')+df2[\"성명\"]\n",
    "df2[\"임시키\"] = df2[\"임시키\"].apply(temp_key)\n",
    "df2[\"연령\"] = df2[[\"기준일자\",\"새생년월일\"]].astype('str').apply(get_age, axis=1)\n",
    "df2[\"연령대\"] = df2[\"연령\"].apply(add_age_range)\n",
    "df2[\"승급년도\"] = df2[\"승급일자\"].apply(get_승급년도)\n",
    "df2[\"승급년차\"] = df2[[\"기준일자\",\"승급년도\"]].apply(get_승급년차, axis=1)\n"
   ]
  },
  {
   "cell_type": "code",
   "execution_count": null,
   "id": "3c641767",
   "metadata": {},
   "outputs": [],
   "source": [
    "df2.info()"
   ]
  },
  {
   "cell_type": "code",
   "execution_count": null,
   "id": "e3c023c8",
   "metadata": {},
   "outputs": [],
   "source": [
    "df2.승급년도.unique()"
   ]
  },
  {
   "cell_type": "code",
   "execution_count": null,
   "id": "6c7ed432",
   "metadata": {},
   "outputs": [],
   "source": [
    "df2.승급년차.unique()"
   ]
  },
  {
   "cell_type": "code",
   "execution_count": null,
   "id": "9d99675b",
   "metadata": {},
   "outputs": [],
   "source": [
    "# 중간결과 확인\n",
    "df2.to_csv(\"./return_df2.csv\",encoding=\"utf-8-sig\")"
   ]
  },
  {
   "cell_type": "code",
   "execution_count": null,
   "id": "d9d563a9",
   "metadata": {},
   "outputs": [],
   "source": [
    "df2.loc[(df2[\"기준일자\"] == \"t20230401\")&(df2[\"성명\"]==\"김범철\")]"
   ]
  },
  {
   "cell_type": "markdown",
   "id": "7cf528ca",
   "metadata": {},
   "source": [
    "# 중간정리 DF3 (고용형태 : 임원 및 직원)"
   ]
  },
  {
   "cell_type": "code",
   "execution_count": null,
   "id": "e67f0495",
   "metadata": {},
   "outputs": [],
   "source": [
    "df3 = df2.loc[(df2[\"고용형태\"] == \"임원\") | (df2[\"고용형태\"] == \"직원\")]\n",
    "# df3 = df3[df3[\"사원유형\"] != \"생산기술직\"]\n",
    "df3.shape"
   ]
  },
  {
   "cell_type": "code",
   "execution_count": null,
   "id": "3f42fa09",
   "metadata": {},
   "outputs": [],
   "source": [
    "# df3.head(2)"
   ]
  },
  {
   "cell_type": "code",
   "execution_count": null,
   "id": "9c7bd8d5",
   "metadata": {},
   "outputs": [],
   "source": [
    "# len(df3[\"사번\"].unique()), len(df3[\"임시키\"].unique())"
   ]
  },
  {
   "cell_type": "code",
   "execution_count": null,
   "id": "fa88a399",
   "metadata": {},
   "outputs": [],
   "source": [
    "df3.loc[(df3[\"기준일자\"] == \"t20230401\")&(df3[\"성명\"]==\"김범철\")]"
   ]
  },
  {
   "cell_type": "code",
   "execution_count": null,
   "id": "d5374625",
   "metadata": {},
   "outputs": [],
   "source": [
    "df3.info()"
   ]
  },
  {
   "cell_type": "markdown",
   "id": "cc2acbd7",
   "metadata": {},
   "source": [
    "# 중간정리 DF4"
   ]
  },
  {
   "cell_type": "code",
   "execution_count": null,
   "id": "a8ff6989",
   "metadata": {},
   "outputs": [],
   "source": [
    "df4 = df3[[\"임시키\", \"기준일자\",\"회사\", \"고용형태\", \"사원유형\", \"직급\",\"승급일자\",\"승급년도\",\"승급년차\",\"부서\",\"사번\",\"성명\",\"성별\",\"Level1\", \"Level2\",\"그룹핑\",\"연령\",\"연령대\"]].reset_index(drop=True, inplace=False)\n",
    "df4[\"rowid\"] = df4.index\n",
    "# df4.head()"
   ]
  },
  {
   "cell_type": "code",
   "execution_count": null,
   "id": "ba3ef23d",
   "metadata": {},
   "outputs": [],
   "source": [
    "# df4.info()"
   ]
  },
  {
   "cell_type": "code",
   "execution_count": null,
   "id": "dfadad74",
   "metadata": {},
   "outputs": [],
   "source": [
    "df4.loc[(df4[\"기준일자\"] == \"t20230401\")&(df4[\"성명\"]==\"김범철\")]"
   ]
  },
  {
   "cell_type": "markdown",
   "id": "af8441c7",
   "metadata": {},
   "source": [
    "# 회사별 전입자 / 전출자 리스팅"
   ]
  },
  {
   "cell_type": "code",
   "execution_count": null,
   "id": "9323994c",
   "metadata": {},
   "outputs": [],
   "source": [
    "직급정렬 = [\"부회장급\",\"사장급\",\"부사장급\",\"전무급\",\"상무급\",\"HL3(3)\",\"HL3(2)\",\"HL3(1)\",\"HL2\",\"HL1\",\"S3\",\"S2\",\"S1\",\"사원급\" ]\n",
    "사원유형정렬 = [\"정규임원\", \"전문위원\", \"계약임원\", \"상근임원\", \"비상근임원\", \"퇴임임원\", \"설계연구직\", \"사무기술직\", \"생산기술직\", \"전문직A\", \"전문직\",\"전문직B\", \"사무지원직\", \"별정직\", \"일반계약직\", \"정년후계약직\", \"파견후계약직\", \"고용외국인\", \"파견직\"]"
   ]
  },
  {
   "cell_type": "code",
   "execution_count": null,
   "id": "0c05333e",
   "metadata": {},
   "outputs": [],
   "source": [
    "def 회사별유출인원(회사, before, after):\n",
    "    global df4\n",
    "    global 직급정렬\n",
    "    global 사원유형정렬\n",
    "    \n",
    "    before_df = df4.loc[(df4[\"기준일자\"] == before)&(df4[\"회사\"] == 회사)]\n",
    "    after_df = df4.loc[(df4[\"기준일자\"] == after)&(df4[\"회사\"] == 회사)]\n",
    "    merged_df = before_df.merge(after_df, on='임시키',how='outer')\n",
    "    유출자 = merged_df[merged_df[\"기준일자_y\"].isnull()][[\"기준일자_x\", \"회사_x\", \"고용형태_x\", \"사원유형_x\", \"부서_x\",\"직급_x\", \"성명_x\", \"임시키\"]]\n",
    "    \n",
    "    유출자[\"사원유형_x\"] = pd.Categorical(유출자['사원유형_x'], categories=사원유형정렬, ordered=True)\n",
    "    유출자[\"직급_x\"] = pd.Categorical(유출자['직급_x'], categories=직급정렬, ordered=True)\n",
    "\n",
    "    유출자.sort_values(by=[\"사원유형_x\",\"부서_x\",\"직급_x\"], inplace=True)\n",
    "    return 유출자"
   ]
  },
  {
   "cell_type": "code",
   "execution_count": null,
   "id": "84ea84fe",
   "metadata": {},
   "outputs": [],
   "source": [
    "r1 = 회사별유출인원(\"HDX\",\"t20230101\", \"t20230401\")\n",
    "r1\n",
    "len(r1[\"고용형태_x\"])"
   ]
  },
  {
   "cell_type": "code",
   "execution_count": null,
   "id": "b4f5c4c6",
   "metadata": {},
   "outputs": [],
   "source": [
    "def 회사별유입인원(회사, before, after):\n",
    "    global df4\n",
    "    global 직급정렬\n",
    "    global 사원유형정렬\n",
    "    \n",
    "    before_df = df4.loc[(df4[\"기준일자\"] == before)&(df4[\"회사\"] == 회사)]\n",
    "    after_df = df4.loc[(df4[\"기준일자\"] == after)&(df4[\"회사\"] == 회사)]\n",
    "    merged_df = before_df.merge(after_df, on='임시키',how='outer')\n",
    "    유입자 = merged_df[merged_df[\"기준일자_x\"].isnull()][[\"기준일자_y\", \"회사_y\", \"고용형태_y\", \"사원유형_y\", \"부서_y\",\"직급_y\", \"성명_y\", \"임시키\"]]\n",
    "    \n",
    "    유입자[\"사원유형_y\"] = pd.Categorical(유입자['사원유형_y'], categories=사원유형정렬, ordered=True)\n",
    "    유입자[\"직급_y\"] = pd.Categorical(유입자['직급_y'], categories=직급정렬, ordered=True)\n",
    "    \n",
    "    유입자.sort_values(by=[\"사원유형_y\", \"부서_y\", \"직급_y\"], inplace=True, ascending=True)\n",
    "    return 유입자"
   ]
  },
  {
   "cell_type": "code",
   "execution_count": null,
   "id": "974255f0",
   "metadata": {},
   "outputs": [],
   "source": [
    "r2 =  회사별유입인원(\"HDI\",\"t20230101\", \"t20230401\")\n",
    "r2[\"사원유형_y\"].value_counts()\n",
    "len(r2[\"고용형태_y\"])"
   ]
  },
  {
   "cell_type": "code",
   "execution_count": null,
   "id": "9868703a",
   "metadata": {},
   "outputs": [],
   "source": [
    "r2.head(2)"
   ]
  },
  {
   "cell_type": "markdown",
   "id": "bf16174f",
   "metadata": {},
   "source": [
    "# 간자(퇴사자 or 건기3사 외부 전적출자) 리스팅"
   ]
  },
  {
   "cell_type": "code",
   "execution_count": null,
   "id": "edc9ae6e",
   "metadata": {},
   "outputs": [],
   "source": [
    "def 간자리스팅(before, after):\n",
    "    global df4\n",
    "    before_df = df4[df4[\"기준일자\"] == before]\n",
    "    after_df = df4[df4[\"기준일자\"] == after]\n",
    "    merged_df = before_df.merge(after_df, on='임시키',how='outer')\n",
    "    간자 = merged_df[merged_df[\"고용형태_y\"].isnull()][[\"기준일자_x\", \"회사_x\", \"고용형태_x\", \"사원유형_x\", \"부서_x\",\"직급_x\", \"성명_x\", \"임시키\"]]\n",
    "    간자 = 간자[간자[\"고용형태_x\"]==\"직원\"]\n",
    "    return 간자"
   ]
  },
  {
   "cell_type": "code",
   "execution_count": null,
   "id": "c87df1e4",
   "metadata": {},
   "outputs": [],
   "source": [
    "# 간자 = 간자리스팅(\"t20230101\", \"t20230401\")\n",
    "# 간자[\"회사_x\"].value_counts()"
   ]
  },
  {
   "cell_type": "code",
   "execution_count": null,
   "id": "b89c64ea",
   "metadata": {},
   "outputs": [],
   "source": [
    "# 간자[간자[\"회사_x\"]==\"HDX\"]"
   ]
  },
  {
   "cell_type": "markdown",
   "id": "1c280e43",
   "metadata": {},
   "source": [
    "# 온자 리스팅 (입사자, 건기3사 외부에서 전적입자)"
   ]
  },
  {
   "cell_type": "code",
   "execution_count": null,
   "id": "038d439e",
   "metadata": {},
   "outputs": [],
   "source": [
    "def 온자리스팅(before, after):\n",
    "    global df4\n",
    "    before_df = df4[df4[\"기준일자\"] == before]\n",
    "    after_df = df4[df4[\"기준일자\"] == after]\n",
    "    merged_df = after_df.merge(before_df, on='임시키',how='outer')\n",
    "    온자 = merged_df[merged_df[\"고용형태_y\"].isnull()][[\"기준일자_x\", \"회사_x\", \"고용형태_x\", \"사원유형_x\", \"부서_x\",\"직급_x\", \"성명_x\", \"임시키\"]]\n",
    "    온자 = 온자[온자[\"고용형태_x\"]==\"직원\"]\n",
    "    return 온자"
   ]
  },
  {
   "cell_type": "code",
   "execution_count": null,
   "id": "a4715b74",
   "metadata": {},
   "outputs": [],
   "source": [
    "# 온자 = 온자리스팅(\"t20230101\", \"t20230401\")\n",
    "# 온자[\"회사_x\"].value_counts()"
   ]
  },
  {
   "cell_type": "code",
   "execution_count": null,
   "id": "02b34c1b",
   "metadata": {},
   "outputs": [],
   "source": [
    "# 온자[온자[\"회사_x\"]==\"HDX\"]"
   ]
  },
  {
   "cell_type": "markdown",
   "id": "2853f712",
   "metadata": {},
   "source": [
    "# 겸직임원 리스팅"
   ]
  },
  {
   "cell_type": "code",
   "execution_count": null,
   "id": "771503f5",
   "metadata": {},
   "outputs": [],
   "source": [
    "def 겸직임원찾아내기(기준회사, 기준일자):\n",
    "    global df4\n",
    "    \n",
    "    target_df = df4.loc[(df4[\"기준일자\"] == 기준일자)&(df4[\"회사\"] == 기준회사)&(df4[\"고용형태\"]==\"임원\")]\n",
    "    compare_df = df4.loc[(df4[\"기준일자\"] == 기준일자)&(df4[\"회사\"] != 기준회사)&(df4[\"고용형태\"]==\"임원\")]\n",
    "\n",
    "    겸직임원 = target_df.merge(compare_df, on='임시키',how='inner')  \n",
    "    겸직임원[\"직급_x\"] = pd.Categorical(겸직임원['직급_x'], categories=직급정렬, ordered=True)\n",
    "    겸직임원.sort_values(by=[\"직급_x\"], inplace=True)\n",
    "    \n",
    "    return 겸직임원[[\"rowid_x\",\"기준일자_x\",\"임시키\", \"직급_x\", \"성명_x\", \"회사_x\", \"회사_y\"]]"
   ]
  },
  {
   "cell_type": "code",
   "execution_count": null,
   "id": "cd76ac28",
   "metadata": {},
   "outputs": [],
   "source": [
    "기준일자들 = df.기준일자.unique().tolist()\n",
    "회사들 = df.회사.unique().tolist()"
   ]
  },
  {
   "cell_type": "code",
   "execution_count": null,
   "id": "df5387ef",
   "metadata": {},
   "outputs": [],
   "source": [
    "겸직임원들 = []\n",
    "for 회사 in 회사들:\n",
    "    for 기준일자 in 기준일자들:\n",
    "        temp_df = 겸직임원찾아내기(회사, 기준일자)\n",
    "        겸직임원들.append(temp_df)\n"
   ]
  },
  {
   "cell_type": "code",
   "execution_count": null,
   "id": "3236723a",
   "metadata": {},
   "outputs": [],
   "source": [
    "겸직임원_df = pd.concat(겸직임원들)\n",
    "겸직임원_df.set_index('rowid_x', inplace=True)\n",
    "# 겸직임원_df[겸직임원_df[\"성명_x\"] == \"최은록\"]"
   ]
  },
  {
   "cell_type": "code",
   "execution_count": null,
   "id": "42eb1a92",
   "metadata": {},
   "outputs": [],
   "source": [
    "겸직임원_df.groupby([\"기준일자_x\", \"회사_x\"])[\"임시키\"].count()#.reset_index()"
   ]
  },
  {
   "cell_type": "code",
   "execution_count": null,
   "id": "b7905eef",
   "metadata": {},
   "outputs": [],
   "source": [
    "겸직임원날릴리스트 = 겸직임원_df[겸직임원_df[\"회사_x\"] != \"HDX\"]\n",
    "겸직임원날릴리스트.head(2)"
   ]
  },
  {
   "cell_type": "code",
   "execution_count": null,
   "id": "fc1dd6da",
   "metadata": {},
   "outputs": [],
   "source": [
    "겸직임원날릴리스트 = 겸직임원날릴리스트.index.tolist()\n",
    "# 겸직임원날릴리스트"
   ]
  },
  {
   "cell_type": "code",
   "execution_count": null,
   "id": "e236d228",
   "metadata": {},
   "outputs": [],
   "source": [
    "def 겸직임원체크1(id):\n",
    "    global 겸직임원날릴리스트\n",
    "    \n",
    "    if id in 겸직임원날릴리스트:\n",
    "        return 1\n",
    "    else:\n",
    "        return 0"
   ]
  },
  {
   "cell_type": "code",
   "execution_count": null,
   "id": "f92cd3a0",
   "metadata": {},
   "outputs": [],
   "source": [
    "df4[\"겸직임원체크\"] = df4['rowid'].apply(겸직임원체크1)"
   ]
  },
  {
   "cell_type": "markdown",
   "id": "2e5eeb5c",
   "metadata": {},
   "source": [
    "# DF5 (최종 결과)"
   ]
  },
  {
   "cell_type": "code",
   "execution_count": null,
   "id": "281026b2",
   "metadata": {},
   "outputs": [],
   "source": [
    "df5 = df4[['임시키','기준일자','회사','고용형태','사원유형','직급','승급일자','승급년도','승급년차','부서','사번','성명','성별','Level1', 'Level2','그룹핑','연령','연령대','겸직임원체크']]\n",
    "# df5.head(3)"
   ]
  },
  {
   "cell_type": "code",
   "execution_count": null,
   "id": "5d79fdf4",
   "metadata": {},
   "outputs": [],
   "source": [
    "df5.to_csv(\"./return_df5.csv\", encoding=\"utf-8-sig\")"
   ]
  },
  {
   "cell_type": "code",
   "execution_count": null,
   "id": "4897e895",
   "metadata": {},
   "outputs": [],
   "source": [
    "df5.info()"
   ]
  },
  {
   "cell_type": "code",
   "execution_count": null,
   "id": "5ffd5b1b",
   "metadata": {},
   "outputs": [],
   "source": [
    "# 데이터 익명 처리 (사번, 성명 익명화)\n",
    "df5.drop([\"사번\", \"성명\"], axis=1, inplace=True)\n",
    "df5[\"성명\"] = '박보검'\n",
    "df5.head(3)"
   ]
  },
  {
   "cell_type": "code",
   "execution_count": null,
   "id": "2f80e9f6",
   "metadata": {},
   "outputs": [],
   "source": [
    "# df5.loc[(df5[\"회사\"]==\"HDX\") & (df5[\"고용형태\"] == \"임원\") & (df5[\"기준일자\"] == \"t20230401\")]"
   ]
  },
  {
   "cell_type": "markdown",
   "id": "4d6a89a6",
   "metadata": {},
   "source": [
    "# 중간결과 저장"
   ]
  },
  {
   "cell_type": "code",
   "execution_count": null,
   "id": "653cb951",
   "metadata": {},
   "outputs": [],
   "source": [
    "# df5.to_csv(\"df5.csv\", encoding=\"utf-8-sig\")"
   ]
  },
  {
   "cell_type": "code",
   "execution_count": null,
   "id": "cbbc7c13",
   "metadata": {},
   "outputs": [],
   "source": [
    "import pickle\n",
    "with open (\"pickle_df1.pickle\", 'wb') as pickle_filename:\n",
    "    pickle.dump(df5, pickle_filename)"
   ]
  },
  {
   "cell_type": "code",
   "execution_count": null,
   "id": "6391f4b9",
   "metadata": {},
   "outputs": [],
   "source": []
  },
  {
   "cell_type": "code",
   "execution_count": null,
   "id": "a2a81407",
   "metadata": {},
   "outputs": [],
   "source": [
    "pdf1 = pd.pivot_table(df5[df5[\"회사\"]==\"HDX\"], index=['고용형태','사원유형'], values=['임시키'], columns = [\"기준일자\"], aggfunc='count')\n",
    "pdf1"
   ]
  },
  {
   "cell_type": "code",
   "execution_count": null,
   "id": "68a515e5",
   "metadata": {},
   "outputs": [],
   "source": [
    "pdf1.reset_index()"
   ]
  },
  {
   "cell_type": "code",
   "execution_count": null,
   "id": "0d47b865",
   "metadata": {},
   "outputs": [],
   "source": []
  },
  {
   "cell_type": "code",
   "execution_count": null,
   "id": "be8ba6a5",
   "metadata": {},
   "outputs": [],
   "source": []
  },
  {
   "cell_type": "code",
   "execution_count": null,
   "id": "4e74e652",
   "metadata": {},
   "outputs": [],
   "source": []
  }
 ],
 "metadata": {
  "kernelspec": {
   "display_name": "Python 3 (ipykernel)",
   "language": "python",
   "name": "python3"
  },
  "language_info": {
   "codemirror_mode": {
    "name": "ipython",
    "version": 3
   },
   "file_extension": ".py",
   "mimetype": "text/x-python",
   "name": "python",
   "nbconvert_exporter": "python",
   "pygments_lexer": "ipython3",
   "version": "3.8.10"
  },
  "vscode": {
   "interpreter": {
    "hash": "f6ed05f440c98b4eabef654b2e9df70ea2152fc4ac142696c956f56d51b04e6c"
   }
  }
 },
 "nbformat": 4,
 "nbformat_minor": 5
}
